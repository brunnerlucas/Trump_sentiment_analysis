{
 "cells": [
  {
   "cell_type": "code",
   "execution_count": 1,
   "id": "8f92092b-b297-495b-ae06-3be392b9f2ae",
   "metadata": {},
   "outputs": [],
   "source": [
    "import pandas as pd\n",
    "pd.set_option('display.max_colwidth', None)"
   ]
  },
  {
   "cell_type": "code",
   "execution_count": 2,
   "id": "803a7079-f5c7-4034-881f-97ced547fca7",
   "metadata": {},
   "outputs": [],
   "source": [
    "import numpy as np\n",
    "np.bool = np.bool_"
   ]
  },
  {
   "cell_type": "code",
   "execution_count": 3,
   "id": "309700f8-0177-45e2-974d-00d64fdf32a6",
   "metadata": {},
   "outputs": [],
   "source": [
    "#current notebook name\n",
    "notebook_name = __session__.replace('.ipynb','')[__session__.rfind('/')+1:] "
   ]
  },
  {
   "cell_type": "code",
   "execution_count": 4,
   "id": "67973726-1d15-40e7-85fc-9192f9ea9d5b",
   "metadata": {},
   "outputs": [],
   "source": [
    "# HDFS base paths\n",
    "hdfs_lakehouse_base_path = 'hdfs://localhost:9000/lakehouse/'\n",
    "hdfs_warehouse_base_path = 'hdfs://localhost:9000/warehouse'"
   ]
  },
  {
   "cell_type": "code",
   "execution_count": 5,
   "id": "0a3791a4-67e3-4790-b421-2f46e2109d7d",
   "metadata": {},
   "outputs": [],
   "source": [
    "import os\n",
    "dependencies = [\"org.apache.spark:spark-avro_2.12:3.5.0\",\n",
    "                \"io.delta:delta-iceberg_2.12:3.0.0\",\"org.apache.spark:spark-sql-kafka-0-10_2.12:3.5.0\"]\n",
    "os.environ['PYSPARK_SUBMIT_ARGS']= f\"--packages {','.join(dependencies)} pyspark-shell\"\n",
    "os.environ['PYARROW_IGNORE_TIMEZONE'] = 'true'"
   ]
  },
  {
   "cell_type": "code",
   "execution_count": 6,
   "id": "1239790c-4f9a-47be-a957-a49847e71b70",
   "metadata": {},
   "outputs": [
    {
     "name": "stderr",
     "output_type": "stream",
     "text": [
      "25/03/21 12:13:56 WARN Utils: Your hostname, osbdet resolves to a loopback address: 127.0.0.1; using 10.0.2.15 instead (on interface enp0s1)\n",
      "25/03/21 12:13:56 WARN Utils: Set SPARK_LOCAL_IP if you need to bind to another address\n",
      "Ivy Default Cache set to: /home/osbdet/.ivy2/cache\n",
      "The jars for the packages stored in: /home/osbdet/.ivy2/jars\n",
      "org.apache.spark#spark-avro_2.12 added as a dependency\n",
      "io.delta#delta-iceberg_2.12 added as a dependency\n",
      "org.apache.spark#spark-sql-kafka-0-10_2.12 added as a dependency\n",
      ":: resolving dependencies :: org.apache.spark#spark-submit-parent-a33afd95-ae14-456c-ba30-dff358125dbf;1.0\n",
      "\tconfs: [default]\n",
      "\tfound org.apache.spark#spark-avro_2.12;3.5.0 in central\n"
     ]
    },
    {
     "name": "stdout",
     "output_type": "stream",
     "text": [
      ":: loading settings :: url = jar:file:/home/osbdet/.jupyter_venv/lib/python3.11/site-packages/pyspark/jars/ivy-2.5.1.jar!/org/apache/ivy/core/settings/ivysettings.xml\n"
     ]
    },
    {
     "name": "stderr",
     "output_type": "stream",
     "text": [
      "\tfound org.tukaani#xz;1.9 in central\n",
      "\tfound io.delta#delta-iceberg_2.12;3.0.0 in central\n",
      "\tfound io.delta#delta-spark_2.12;3.0.0 in central\n",
      "\tfound io.delta#delta-storage;3.0.0 in central\n",
      "\tfound org.antlr#antlr4-runtime;4.9.3 in central\n",
      "\tfound org.scala-lang.modules#scala-collection-compat_2.12;2.1.1 in central\n",
      "\tfound com.github.ben-manes.caffeine#caffeine;2.9.3 in central\n",
      "\tfound org.checkerframework#checker-qual;3.19.0 in central\n",
      "\tfound com.google.errorprone#error_prone_annotations;2.10.0 in central\n",
      "\tfound org.apache.spark#spark-sql-kafka-0-10_2.12;3.5.0 in central\n",
      "\tfound org.apache.spark#spark-token-provider-kafka-0-10_2.12;3.5.0 in central\n",
      "\tfound org.apache.kafka#kafka-clients;3.4.1 in central\n",
      "\tfound org.lz4#lz4-java;1.8.0 in central\n",
      "\tfound org.xerial.snappy#snappy-java;1.1.10.3 in central\n",
      "\tfound org.slf4j#slf4j-api;2.0.7 in central\n",
      "\tfound org.apache.hadoop#hadoop-client-runtime;3.3.4 in central\n",
      "\tfound org.apache.hadoop#hadoop-client-api;3.3.4 in central\n",
      "\tfound commons-logging#commons-logging;1.1.3 in central\n",
      "\tfound com.google.code.findbugs#jsr305;3.0.0 in central\n",
      "\tfound org.apache.commons#commons-pool2;2.11.1 in central\n",
      ":: resolution report :: resolve 357ms :: artifacts dl 13ms\n",
      "\t:: modules in use:\n",
      "\tcom.github.ben-manes.caffeine#caffeine;2.9.3 from central in [default]\n",
      "\tcom.google.code.findbugs#jsr305;3.0.0 from central in [default]\n",
      "\tcom.google.errorprone#error_prone_annotations;2.10.0 from central in [default]\n",
      "\tcommons-logging#commons-logging;1.1.3 from central in [default]\n",
      "\tio.delta#delta-iceberg_2.12;3.0.0 from central in [default]\n",
      "\tio.delta#delta-spark_2.12;3.0.0 from central in [default]\n",
      "\tio.delta#delta-storage;3.0.0 from central in [default]\n",
      "\torg.antlr#antlr4-runtime;4.9.3 from central in [default]\n",
      "\torg.apache.commons#commons-pool2;2.11.1 from central in [default]\n",
      "\torg.apache.hadoop#hadoop-client-api;3.3.4 from central in [default]\n",
      "\torg.apache.hadoop#hadoop-client-runtime;3.3.4 from central in [default]\n",
      "\torg.apache.kafka#kafka-clients;3.4.1 from central in [default]\n",
      "\torg.apache.spark#spark-avro_2.12;3.5.0 from central in [default]\n",
      "\torg.apache.spark#spark-sql-kafka-0-10_2.12;3.5.0 from central in [default]\n",
      "\torg.apache.spark#spark-token-provider-kafka-0-10_2.12;3.5.0 from central in [default]\n",
      "\torg.checkerframework#checker-qual;3.19.0 from central in [default]\n",
      "\torg.lz4#lz4-java;1.8.0 from central in [default]\n",
      "\torg.scala-lang.modules#scala-collection-compat_2.12;2.1.1 from central in [default]\n",
      "\torg.slf4j#slf4j-api;2.0.7 from central in [default]\n",
      "\torg.tukaani#xz;1.9 from central in [default]\n",
      "\torg.xerial.snappy#snappy-java;1.1.10.3 from central in [default]\n",
      "\t---------------------------------------------------------------------\n",
      "\t|                  |            modules            ||   artifacts   |\n",
      "\t|       conf       | number| search|dwnlded|evicted|| number|dwnlded|\n",
      "\t---------------------------------------------------------------------\n",
      "\t|      default     |   21  |   0   |   0   |   0   ||   21  |   0   |\n",
      "\t---------------------------------------------------------------------\n",
      ":: retrieving :: org.apache.spark#spark-submit-parent-a33afd95-ae14-456c-ba30-dff358125dbf\n",
      "\tconfs: [default]\n",
      "\t0 artifacts copied, 21 already retrieved (0kB/4ms)\n",
      "25/03/21 12:13:56 WARN NativeCodeLoader: Unable to load native-hadoop library for your platform... using builtin-java classes where applicable\n",
      "Setting default log level to \"WARN\".\n",
      "To adjust logging level use sc.setLogLevel(newLevel). For SparkR, use setLogLevel(newLevel).\n",
      "Setting Spark log level to \"ERROR\".\n"
     ]
    }
   ],
   "source": [
    "from pyspark.sql import SparkSession\n",
    "from pyspark.sql.functions import col, from_json, udf\n",
    "from pyspark.sql.types import StructType, StructField, StringType, DoubleType, BooleanType\n",
    "from vaderSentiment.vaderSentiment import SentimentIntensityAnalyzer\n",
    "\n",
    "# Initialize Spark Session\n",
    "spark = (SparkSession.builder\n",
    "    .appName(notebook_name)\n",
    "    .config(\"spark.log.level\", \"ERROR\")\n",
    "    .config(\"spark.sql.warehouse.dir\", hdfs_warehouse_base_path)\n",
    "    .config(\"spark.sql.extensions\", \"io.delta.sql.DeltaSparkSessionExtension\")\n",
    "    .config(\"spark.sql.catalog.spark_catalog\", \"org.apache.spark.sql.delta.catalog.DeltaCatalog\")\n",
    "    .config(\"spark.sql.streaming.schemaInference\", \"true\")  # Enable schema inference for streaming data\n",
    "    .config(\"spark.jars.packages\", \n",
    "            \"org.apache.spark:spark-sql-kafka-0-10_2.12:3.5.0,\"  # Kafka integration\n",
    "            \"io.delta:delta-core_2.12:2.4.0\")  # Delta Lake support\n",
    "    .enableHiveSupport()\n",
    "    .getOrCreate()\n",
    ")"
   ]
  },
  {
   "cell_type": "code",
   "execution_count": 7,
   "id": "5b3119f9-7bb9-4895-8595-36bda20b9678",
   "metadata": {},
   "outputs": [],
   "source": [
    "from pyspark.sql import SparkSession\n",
    "from pyspark.sql.functions import col, from_json, udf\n",
    "from pyspark.sql.types import StructType, StructField, StringType, DoubleType, BooleanType\n",
    "from vaderSentiment.vaderSentiment import SentimentIntensityAnalyzer\n",
    "\n",
    "# Define schema for incoming Twitter data\n",
    "twitter_schema = StructType([\n",
    "    StructField(\"date\", StringType(), True),\n",
    "    StructField(\"favorites\", DoubleType(), True),\n",
    "    StructField(\"id\", StringType(), True),\n",
    "    StructField(\"isRetweet\", BooleanType(), True),\n",
    "    StructField(\"retweets\", DoubleType(), True),\n",
    "    StructField(\"text\", StringType(), True)\n",
    "])\n",
    "\n",
    "\n",
    "twitter_stream = (spark.readStream\n",
    "    .format(\"kafka\")\n",
    "    .option(\"kafka.bootstrap.servers\", \"localhost:9092\")\n",
    "    .option(\"subscribe\", \"btc_price\")\n",
    "    .option(\"startingOffsets\", \"latest\")\n",
    "    .load()\n",
    ")\n",
    "# Extract JSON from Kafka's `value` column\n",
    "twitter_df = twitter_stream.withColumn(\n",
    "    \"parsed_value\", from_json(col(\"value\").cast(\"string\"), twitter_schema)\n",
    ").select(\"parsed_value.*\")\n"
   ]
  },
  {
   "cell_type": "code",
   "execution_count": 9,
   "id": "512694f7-cb0f-4353-989d-cfb34509d5a3",
   "metadata": {},
   "outputs": [
    {
     "name": "stdout",
     "output_type": "stream",
     "text": [
      "Classification Model Loaded Successfully!\n"
     ]
    }
   ],
   "source": [
    "import yfinance as yf\n",
    "import requests\n",
    "from pyspark.sql.functions import col\n",
    "from pyspark.sql.types import StructType, StructField, StringType, FloatType, IntegerType\n",
    "from vaderSentiment.vaderSentiment import SentimentIntensityAnalyzer\n",
    "from pyspark.ml.classification import RandomForestClassificationModel\n",
    "from pyspark.ml.feature import VectorAssembler\n",
    "import random\n",
    "\n",
    "\n",
    "# Define HDFS path where the classification model is stored\n",
    "model = RandomForestClassificationModel.load(f\"{hdfs_lakehouse_base_path}/gold/trump_btc/rf_model\")\n",
    "print(\"Classification Model Loaded Successfully!\")\n",
    "\n",
    "# Initialize Sentiment Analyzer\n",
    "analyzer = SentimentIntensityAnalyzer()\n",
    "\n",
    "def process_batch(batch_df, batch_id):\n",
    "    if not batch_df.isEmpty():\n",
    "        print(f\"🚀 Processing Batch {batch_id}\")\n",
    "\n",
    "        # Convert Spark DataFrame to Pandas for sentiment analysis\n",
    "        pdf = batch_df.toPandas()\n",
    "\n",
    "        # Apply Sentiment Analysis using VADER\n",
    "        pdf[\"sentiment_score\"] = pdf[\"text\"].apply(\n",
    "            lambda text: analyzer.polarity_scores(text)[\"compound\"] if isinstance(text, str) else 0.0\n",
    "        )\n",
    "        spark_df = spark.createDataFrame(pdf)\n",
    "\n",
    "        # Extract the sentiment score for all tweets in this batch\n",
    "        sentiment_score = spark_df.select(\"sentiment_score\").collect()[0][\"sentiment_score\"]\n",
    "\n",
    "        # Fetch BTC & Fear/Greed Data and merge it with sentiment\n",
    "        model_data, current_btc_price = fetch_btc_fng_for_model(spark, sentiment_score)\n",
    "\n",
    "        # Convert feature columns into a vector column for Spark ML\n",
    "        feature_columns = [\"sentiment_score\", \"is_president\", \"Value\" ,\"BTC_Volume\", \"btc_current_price\"]\n",
    "        assembler = VectorAssembler(inputCols=feature_columns, outputCol=\"features\")\n",
    "        model_data = assembler.transform(model_data)\n",
    "\n",
    "        # Apply the trained Spark ML classification model for prediction\n",
    "        predictions = model.transform(model_data)\n",
    "\n",
    "        # Select final output columns\n",
    "        final_df = predictions.select(\n",
    "            \"sentiment_score\", \"is_president\", \"Value\", \"BTC_Volume\", \"btc_current_price\", col(\"prediction\").alias(\"btc_price_increased\")\n",
    "        )\n",
    "\n",
    "        # Convert final DataFrame to Pandas for decision-making\n",
    "        final_pdf = final_df.toPandas()\n",
    "\n",
    "        # Extract classification prediction (1 = BUY, 0 = DON'T BUY)\n",
    "        btc_price_increased = int(final_pdf[\"btc_price_increased\"].iloc[0])\n",
    "\n",
    "        # 1= BUY 0= DO NOTHING\n",
    "        decision = \" BUY!!!!!\" if btc_price_increased == 1 else \"DO NOTHING\"\n",
    "\n",
    "        # Print Trading Decision\n",
    "        print(f\"Current BTC Price: ${current_btc_price:.2f}\")\n",
    "        print(f\"Predicted BTC Price Increase: {'YES' if btc_price_increased == 1 else 'NO'}\")\n",
    "        print(f\"Trading Decision: {decision}\")\n",
    "\n",
    "        # Show Predictions\n",
    "        final_df.show(truncate=False)\n",
    "\n",
    "def get_random_volume():\n",
    "    return random.randrange(int(3.67e5), int(1.09e11), int(5e9))\n",
    "\n",
    "def fetch_btc_fng_for_model(spark, sentiment_score):\n",
    "    btc = yf.Ticker(\"BTC-USD\")\n",
    "    latest_data = btc.history(period=\"1d\")\n",
    "\n",
    "    if not latest_data.empty:\n",
    "        btc_current_price = float(latest_data['Close'].iloc[-1])\n",
    "        latest_volume = float(get_random_volume()) #float(latest_data['Volume'].iloc[-1])  # Current BTC volume\n",
    "        latest_date = latest_data.index[-1].strftime('%Y-%m-%d')\n",
    "    else:\n",
    "        btc_current_price = None\n",
    "        latest_volume = None\n",
    "        latest_date = datetime.today().strftime('%Y-%m-%d')\n",
    "\n",
    "        #Get Fear & Greed Index\n",
    "    response = requests.get(\"https://api.alternative.me/fng/?limit=1\")\n",
    "    data = response.json()\n",
    "\n",
    "    index_value = int(data['data'][0]['value'])  # Fear & Greed Index\n",
    "    classification = data['data'][0]['value_classification']\n",
    "\n",
    "    # Define Schema\n",
    "    schema = StructType([\n",
    "        StructField(\"sentiment_score\", FloatType(), True),\n",
    "        StructField(\"is_president\", IntegerType(), False),\n",
    "        StructField(\"Value\", IntegerType(), False),  # Renaming index_value as \"Value\"\n",
    "        StructField(\"BTC_Volume\", FloatType(), True),\n",
    "        StructField(\"btc_current_price\", FloatType(), True),\n",
    "    ])\n",
    "\n",
    "    #Create a Single Spark DataFrame\n",
    "    #setting is president to 1 currently\n",
    "    model_df = spark.createDataFrame([(sentiment_score, 1, index_value, latest_volume, btc_current_price)], schema=schema)\n",
    "\n",
    "    return model_df, btc_current_price\n"
   ]
  },
  {
   "cell_type": "code",
   "execution_count": null,
   "id": "3c48338f-13ec-4816-975d-37d65f65ba7e",
   "metadata": {},
   "outputs": [
    {
     "name": "stderr",
     "output_type": "stream",
     "text": [
      "                                                                                \r"
     ]
    },
    {
     "name": "stdout",
     "output_type": "stream",
     "text": [
      "🚀 Processing Batch 1\n",
      "Current BTC Price: $84024.20\n",
      "Predicted BTC Price Increase: NO\n",
      "Trading Decision: DO NOTHING\n",
      "+---------------+------------+-----+------------+-----------------+-------------------+\n",
      "|sentiment_score|is_president|Value|BTC_Volume  |btc_current_price|btc_price_increased|\n",
      "+---------------+------------+-----+------------+-----------------+-------------------+\n",
      "|0.9648         |1           |31   |9.0000368E10|84024.2          |0.0                |\n",
      "+---------------+------------+-----+------------+-----------------+-------------------+\n",
      "\n",
      "🚀 Processing Batch 2\n",
      "Current BTC Price: $84024.20\n",
      "Predicted BTC Price Increase: NO\n",
      "Trading Decision: DO NOTHING\n",
      "+---------------+------------+-----+-------------+-----------------+-------------------+\n",
      "|sentiment_score|is_president|Value|BTC_Volume   |btc_current_price|btc_price_increased|\n",
      "+---------------+------------+-----+-------------+-----------------+-------------------+\n",
      "|-0.7735        |1           |31   |3.00003676E10|84024.2          |0.0                |\n",
      "+---------------+------------+-----+-------------+-----------------+-------------------+\n",
      "\n",
      "🚀 Processing Batch 3\n"
     ]
    },
    {
     "name": "stderr",
     "output_type": "stream",
     "text": [
      "                                                                                \r"
     ]
    },
    {
     "name": "stdout",
     "output_type": "stream",
     "text": [
      "Current BTC Price: $84024.20\n",
      "Predicted BTC Price Increase: YES\n",
      "Trading Decision:  BUY!!!!!\n",
      "+---------------+------------+-----+------------+-----------------+-------------------+\n",
      "|sentiment_score|is_president|Value|BTC_Volume  |btc_current_price|btc_price_increased|\n",
      "+---------------+------------+-----+------------+-----------------+-------------------+\n",
      "|0.8481         |1           |31   |9.5000363E10|84024.2          |1.0                |\n",
      "+---------------+------------+-----+------------+-----------------+-------------------+\n",
      "\n",
      "🚀 Processing Batch 4\n",
      "Current BTC Price: $84011.92\n",
      "Predicted BTC Price Increase: YES\n",
      "Trading Decision:  BUY!!!!!\n",
      "+---------------+------------+-----+-------------+-----------------+-------------------+\n",
      "|sentiment_score|is_president|Value|BTC_Volume   |btc_current_price|btc_price_increased|\n",
      "+---------------+------------+-----+-------------+-----------------+-------------------+\n",
      "|0.4781         |1           |31   |1.00003666E10|84011.92         |1.0                |\n",
      "+---------------+------------+-----+-------------+-----------------+-------------------+\n",
      "\n",
      "🚀 Processing Batch 5\n"
     ]
    },
    {
     "name": "stderr",
     "output_type": "stream",
     "text": [
      "                                                                                \r"
     ]
    },
    {
     "name": "stdout",
     "output_type": "stream",
     "text": [
      "Current BTC Price: $84011.92\n",
      "Predicted BTC Price Increase: YES\n",
      "Trading Decision:  BUY!!!!!\n",
      "+---------------+------------+-----+------------+-----------------+-------------------+\n",
      "|sentiment_score|is_president|Value|BTC_Volume  |btc_current_price|btc_price_increased|\n",
      "+---------------+------------+-----+------------+-----------------+-------------------+\n",
      "|-0.1027        |1           |31   |9.0000368E10|84011.92         |1.0                |\n",
      "+---------------+------------+-----+------------+-----------------+-------------------+\n",
      "\n"
     ]
    },
    {
     "name": "stderr",
     "output_type": "stream",
     "text": [
      "                                                                                \r"
     ]
    },
    {
     "name": "stdout",
     "output_type": "stream",
     "text": [
      "🚀 Processing Batch 6\n",
      "Current BTC Price: $84011.92\n",
      "Predicted BTC Price Increase: YES\n",
      "Trading Decision:  BUY!!!!!\n",
      "+---------------+------------+-----+----------+-----------------+-------------------+\n",
      "|sentiment_score|is_president|Value|BTC_Volume|btc_current_price|btc_price_increased|\n",
      "+---------------+------------+-----+----------+-----------------+-------------------+\n",
      "|0.944          |1           |31   |367000.0  |84011.92         |1.0                |\n",
      "+---------------+------------+-----+----------+-----------------+-------------------+\n",
      "\n"
     ]
    },
    {
     "name": "stderr",
     "output_type": "stream",
     "text": [
      "                                                                                \r"
     ]
    },
    {
     "name": "stdout",
     "output_type": "stream",
     "text": [
      "🚀 Processing Batch 7\n",
      "Current BTC Price: $84011.92\n",
      "Predicted BTC Price Increase: NO\n",
      "Trading Decision: DO NOTHING\n",
      "+---------------+------------+-----+------------+-----------------+-------------------+\n",
      "|sentiment_score|is_president|Value|BTC_Volume  |btc_current_price|btc_price_increased|\n",
      "+---------------+------------+-----+------------+-----------------+-------------------+\n",
      "|0.9764         |1           |31   |9.5000363E10|84011.92         |0.0                |\n",
      "+---------------+------------+-----+------------+-----------------+-------------------+\n",
      "\n"
     ]
    },
    {
     "name": "stderr",
     "output_type": "stream",
     "text": [
      "                                                                                \r"
     ]
    },
    {
     "name": "stdout",
     "output_type": "stream",
     "text": [
      "🚀 Processing Batch 8\n",
      "Current BTC Price: $84011.92\n",
      "Predicted BTC Price Increase: NO\n",
      "Trading Decision: DO NOTHING\n",
      "+---------------+------------+-----+-------------+-----------------+-------------------+\n",
      "|sentiment_score|is_president|Value|BTC_Volume   |btc_current_price|btc_price_increased|\n",
      "+---------------+------------+-----+-------------+-----------------+-------------------+\n",
      "|-0.6901        |1           |31   |1.00003666E10|84011.92         |0.0                |\n",
      "+---------------+------------+-----+-------------+-----------------+-------------------+\n",
      "\n",
      "🚀 Processing Batch 9\n",
      "Current BTC Price: $84011.92\n",
      "Predicted BTC Price Increase: YES\n",
      "Trading Decision:  BUY!!!!!\n",
      "+---------------+------------+-----+------------+-----------------+-------------------+\n",
      "|sentiment_score|is_president|Value|BTC_Volume  |btc_current_price|btc_price_increased|\n",
      "+---------------+------------+-----+------------+-----------------+-------------------+\n",
      "|-0.5423        |1           |31   |9.0000368E10|84011.92         |1.0                |\n",
      "+---------------+------------+-----+------------+-----------------+-------------------+\n",
      "\n",
      "🚀 Processing Batch 10\n"
     ]
    },
    {
     "name": "stderr",
     "output_type": "stream",
     "text": [
      "                                                                                \r"
     ]
    },
    {
     "name": "stdout",
     "output_type": "stream",
     "text": [
      "Current BTC Price: $84015.77\n",
      "Predicted BTC Price Increase: NO\n",
      "Trading Decision: DO NOTHING\n",
      "+---------------+------------+-----+------------+-----------------+-------------------+\n",
      "|sentiment_score|is_president|Value|BTC_Volume  |btc_current_price|btc_price_increased|\n",
      "+---------------+------------+-----+------------+-----------------+-------------------+\n",
      "|0.9544         |1           |31   |4.0000369E10|84015.77         |0.0                |\n",
      "+---------------+------------+-----+------------+-----------------+-------------------+\n",
      "\n"
     ]
    },
    {
     "name": "stderr",
     "output_type": "stream",
     "text": [
      "                                                                                \r"
     ]
    },
    {
     "name": "stdout",
     "output_type": "stream",
     "text": [
      "🚀 Processing Batch 11\n",
      "Current BTC Price: $84015.77\n",
      "Predicted BTC Price Increase: NO\n",
      "Trading Decision: DO NOTHING\n",
      "+---------------+------------+-----+-------------+-----------------+-------------------+\n",
      "|sentiment_score|is_president|Value|BTC_Volume   |btc_current_price|btc_price_increased|\n",
      "+---------------+------------+-----+-------------+-----------------+-------------------+\n",
      "|0.296          |1           |31   |2.00003666E10|84015.77         |0.0                |\n",
      "+---------------+------------+-----+-------------+-----------------+-------------------+\n",
      "\n",
      "🚀 Processing Batch 12\n",
      "Current BTC Price: $84015.77\n",
      "Predicted BTC Price Increase: YES\n",
      "Trading Decision:  BUY!!!!!\n",
      "+---------------+------------+-----+------------+-----------------+-------------------+\n",
      "|sentiment_score|is_president|Value|BTC_Volume  |btc_current_price|btc_price_increased|\n",
      "+---------------+------------+-----+------------+-----------------+-------------------+\n",
      "|-0.8669        |1           |31   |8.0000369E10|84015.77         |1.0                |\n",
      "+---------------+------------+-----+------------+-----------------+-------------------+\n",
      "\n"
     ]
    },
    {
     "name": "stderr",
     "output_type": "stream",
     "text": [
      "                                                                                \r"
     ]
    },
    {
     "name": "stdout",
     "output_type": "stream",
     "text": [
      "🚀 Processing Batch 13\n"
     ]
    },
    {
     "name": "stderr",
     "output_type": "stream",
     "text": [
      "                                                                                \r"
     ]
    },
    {
     "name": "stdout",
     "output_type": "stream",
     "text": [
      "Current BTC Price: $84015.77\n",
      "Predicted BTC Price Increase: YES\n",
      "Trading Decision:  BUY!!!!!\n",
      "+---------------+------------+-----+------------+-----------------+-------------------+\n",
      "|sentiment_score|is_president|Value|BTC_Volume  |btc_current_price|btc_price_increased|\n",
      "+---------------+------------+-----+------------+-----------------+-------------------+\n",
      "|0.4574         |1           |31   |8.5000364E10|84015.77         |1.0                |\n",
      "+---------------+------------+-----+------------+-----------------+-------------------+\n",
      "\n",
      "🚀 Processing Batch 14\n",
      "Current BTC Price: $84015.77\n",
      "Predicted BTC Price Increase: YES\n",
      "Trading Decision:  BUY!!!!!\n",
      "+---------------+------------+-----+------------+-----------------+-------------------+\n",
      "|sentiment_score|is_president|Value|BTC_Volume  |btc_current_price|btc_price_increased|\n",
      "+---------------+------------+-----+------------+-----------------+-------------------+\n",
      "|0.7836         |1           |31   |8.0000369E10|84015.77         |1.0                |\n",
      "+---------------+------------+-----+------------+-----------------+-------------------+\n",
      "\n",
      "🚀 Processing Batch 15\n",
      "Current BTC Price: $84015.77\n",
      "Predicted BTC Price Increase: YES\n",
      "Trading Decision:  BUY!!!!!\n",
      "+---------------+------------+-----+------------+-----------------+-------------------+\n",
      "|sentiment_score|is_president|Value|BTC_Volume  |btc_current_price|btc_price_increased|\n",
      "+---------------+------------+-----+------------+-----------------+-------------------+\n",
      "|0.855          |1           |31   |5.5000367E10|84015.77         |1.0                |\n",
      "+---------------+------------+-----+------------+-----------------+-------------------+\n",
      "\n",
      "🚀 Processing Batch 16\n",
      "Current BTC Price: $84015.77\n",
      "Predicted BTC Price Increase: NO\n",
      "Trading Decision: DO NOTHING\n",
      "+---------------+------------+-----+-----------+-----------------+-------------------+\n",
      "|sentiment_score|is_president|Value|BTC_Volume |btc_current_price|btc_price_increased|\n",
      "+---------------+------------+-----+-----------+-----------------+-------------------+\n",
      "|-0.8384        |1           |31   |5.0003671E9|84015.77         |0.0                |\n",
      "+---------------+------------+-----+-----------+-----------------+-------------------+\n",
      "\n",
      "🚀 Processing Batch 17\n",
      "Current BTC Price: $84020.53\n",
      "Predicted BTC Price Increase: YES\n",
      "Trading Decision:  BUY!!!!!\n",
      "+---------------+------------+-----+------------+-----------------+-------------------+\n",
      "|sentiment_score|is_president|Value|BTC_Volume  |btc_current_price|btc_price_increased|\n",
      "+---------------+------------+-----+------------+-----------------+-------------------+\n",
      "|-0.5413        |1           |31   |6.5000366E10|84020.53         |1.0                |\n",
      "+---------------+------------+-----+------------+-----------------+-------------------+\n",
      "\n",
      "🚀 Processing Batch 18\n",
      "Current BTC Price: $84020.53\n",
      "Predicted BTC Price Increase: YES\n",
      "Trading Decision:  BUY!!!!!\n",
      "+---------------+------------+-----+------------+-----------------+-------------------+\n",
      "|sentiment_score|is_president|Value|BTC_Volume  |btc_current_price|btc_price_increased|\n",
      "+---------------+------------+-----+------------+-----------------+-------------------+\n",
      "|0.0            |1           |31   |9.5000363E10|84020.53         |1.0                |\n",
      "+---------------+------------+-----+------------+-----------------+-------------------+\n",
      "\n",
      "🚀 Processing Batch 19\n",
      "Current BTC Price: $84020.53\n",
      "Predicted BTC Price Increase: NO\n",
      "Trading Decision: DO NOTHING\n",
      "+---------------+------------+-----+------------+-----------------+-------------------+\n",
      "|sentiment_score|is_president|Value|BTC_Volume  |btc_current_price|btc_price_increased|\n",
      "+---------------+------------+-----+------------+-----------------+-------------------+\n",
      "|0.9816         |1           |31   |7.5000365E10|84020.53         |0.0                |\n",
      "+---------------+------------+-----+------------+-----------------+-------------------+\n",
      "\n",
      "🚀 Processing Batch 20\n"
     ]
    },
    {
     "name": "stderr",
     "output_type": "stream",
     "text": [
      "                                                                                \r"
     ]
    },
    {
     "name": "stdout",
     "output_type": "stream",
     "text": [
      "Current BTC Price: $84020.53\n",
      "Predicted BTC Price Increase: NO\n",
      "Trading Decision: DO NOTHING\n",
      "+---------------+------------+-----+----------+-----------------+-------------------+\n",
      "|sentiment_score|is_president|Value|BTC_Volume|btc_current_price|btc_price_increased|\n",
      "+---------------+------------+-----+----------+-----------------+-------------------+\n",
      "|0.2462         |1           |31   |367000.0  |84020.53         |0.0                |\n",
      "+---------------+------------+-----+----------+-----------------+-------------------+\n",
      "\n",
      "🚀 Processing Batch 21\n"
     ]
    },
    {
     "name": "stderr",
     "output_type": "stream",
     "text": [
      "                                                                                \r"
     ]
    },
    {
     "name": "stdout",
     "output_type": "stream",
     "text": [
      "Current BTC Price: $84020.53\n",
      "Predicted BTC Price Increase: YES\n",
      "Trading Decision:  BUY!!!!!\n",
      "+---------------+------------+-----+------------+-----------------+-------------------+\n",
      "|sentiment_score|is_president|Value|BTC_Volume  |btc_current_price|btc_price_increased|\n",
      "+---------------+------------+-----+------------+-----------------+-------------------+\n",
      "|0.2481         |1           |31   |9.5000363E10|84020.53         |1.0                |\n",
      "+---------------+------------+-----+------------+-----------------+-------------------+\n",
      "\n",
      "🚀 Processing Batch 22\n"
     ]
    },
    {
     "name": "stderr",
     "output_type": "stream",
     "text": [
      "                                                                                \r"
     ]
    },
    {
     "name": "stdout",
     "output_type": "stream",
     "text": [
      "Current BTC Price: $84024.92\n",
      "Predicted BTC Price Increase: YES\n",
      "Trading Decision:  BUY!!!!!\n",
      "+---------------+------------+-----+------------+-----------------+-------------------+\n",
      "|sentiment_score|is_president|Value|BTC_Volume  |btc_current_price|btc_price_increased|\n",
      "+---------------+------------+-----+------------+-----------------+-------------------+\n",
      "|0.0            |1           |31   |7.5000365E10|84024.92         |1.0                |\n",
      "+---------------+------------+-----+------------+-----------------+-------------------+\n",
      "\n",
      "🚀 Processing Batch 23\n"
     ]
    },
    {
     "name": "stderr",
     "output_type": "stream",
     "text": [
      "                                                                                \r"
     ]
    },
    {
     "name": "stdout",
     "output_type": "stream",
     "text": [
      "Current BTC Price: $84024.92\n",
      "Predicted BTC Price Increase: NO\n",
      "Trading Decision: DO NOTHING\n",
      "+---------------+------------+-----+-------------+-----------------+-------------------+\n",
      "|sentiment_score|is_president|Value|BTC_Volume   |btc_current_price|btc_price_increased|\n",
      "+---------------+------------+-----+-------------+-----------------+-------------------+\n",
      "|-0.2677        |1           |31   |2.00003666E10|84024.92         |0.0                |\n",
      "+---------------+------------+-----+-------------+-----------------+-------------------+\n",
      "\n"
     ]
    }
   ],
   "source": [
    "query = twitter_df.writeStream \\\n",
    "    .foreachBatch(process_batch) \\\n",
    "    .start()\n",
    "\n",
    "query.awaitTermination()\n"
   ]
  },
  {
   "cell_type": "code",
   "execution_count": null,
   "id": "83ba579d-84c5-467b-9126-41fe7b06933b",
   "metadata": {},
   "outputs": [],
   "source": [
    "query = twitter_df.writeStream \\\n",
    "    .outputMode(\"append\") \\\n",
    "    .format(\"console\") \\\n",
    "    .start()\n",
    "\n",
    "query.awaitTermination()\n"
   ]
  },
  {
   "cell_type": "code",
   "execution_count": null,
   "id": "c439455e-4ead-4d1d-9241-51f348032054",
   "metadata": {},
   "outputs": [],
   "source": []
  }
 ],
 "metadata": {
  "kernelspec": {
   "display_name": "Python 3 (ipykernel)",
   "language": "python",
   "name": "python3"
  },
  "language_info": {
   "codemirror_mode": {
    "name": "ipython",
    "version": 3
   },
   "file_extension": ".py",
   "mimetype": "text/x-python",
   "name": "python",
   "nbconvert_exporter": "python",
   "pygments_lexer": "ipython3",
   "version": "3.11.2"
  }
 },
 "nbformat": 4,
 "nbformat_minor": 5
}
