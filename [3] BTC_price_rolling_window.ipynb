{
 "cells": [
  {
   "cell_type": "code",
   "execution_count": 1,
   "id": "4fdff860-4c50-4ace-9232-c19cce7f2fa0",
   "metadata": {},
   "outputs": [],
   "source": [
    "import pandas as pd\n",
    "pd.set_option('display.max_colwidth', None)"
   ]
  },
  {
   "cell_type": "code",
   "execution_count": 2,
   "id": "95eb65a3-f427-4de9-a991-5016e82ed18f",
   "metadata": {},
   "outputs": [],
   "source": [
    "import numpy as np\n",
    "np.bool = np.bool_"
   ]
  },
  {
   "cell_type": "code",
   "execution_count": 3,
   "id": "5cc3163a-f87f-40b6-a3b3-e8990099f371",
   "metadata": {},
   "outputs": [],
   "source": [
    "#current notebook name\n",
    "notebook_name = __session__.replace('.ipynb','')[__session__.rfind('/')+1:] "
   ]
  },
  {
   "cell_type": "code",
   "execution_count": 4,
   "id": "f454bcc9-c6fc-4533-bc33-fc0bb6807cae",
   "metadata": {},
   "outputs": [],
   "source": [
    "# HDFS base paths\n",
    "hdfs_lakehouse_base_path = 'hdfs://localhost:9000/lakehouse/'\n",
    "hdfs_warehouse_base_path = 'hdfs://localhost:9000/warehouse'"
   ]
  },
  {
   "cell_type": "code",
   "execution_count": 5,
   "id": "76a1aa20-2918-4576-a089-f9c370723006",
   "metadata": {},
   "outputs": [],
   "source": [
    "import os\n",
    "dependencies = [\"org.apache.spark:spark-avro_2.12:3.5.0\",\n",
    "                \"io.delta:delta-iceberg_2.12:3.0.0\"]\n",
    "os.environ['PYSPARK_SUBMIT_ARGS']= f\"--packages {','.join(dependencies)} pyspark-shell\"\n",
    "os.environ['PYARROW_IGNORE_TIMEZONE'] = 'true'"
   ]
  },
  {
   "cell_type": "code",
   "execution_count": 6,
   "id": "3e060c80-1e31-4219-98bb-5cca83e8617d",
   "metadata": {},
   "outputs": [
    {
     "name": "stderr",
     "output_type": "stream",
     "text": [
      "25/03/18 00:36:00 WARN Utils: Your hostname, osbdet resolves to a loopback address: 127.0.0.1; using 10.0.2.15 instead (on interface enp0s1)\n",
      "25/03/18 00:36:00 WARN Utils: Set SPARK_LOCAL_IP if you need to bind to another address\n",
      "Ivy Default Cache set to: /home/osbdet/.ivy2/cache\n",
      "The jars for the packages stored in: /home/osbdet/.ivy2/jars\n",
      "org.apache.spark#spark-avro_2.12 added as a dependency\n",
      "io.delta#delta-iceberg_2.12 added as a dependency\n",
      ":: resolving dependencies :: org.apache.spark#spark-submit-parent-e74ec2e9-65c3-4d1a-bf05-a601047b0164;1.0\n",
      "\tconfs: [default]\n",
      "\tfound org.apache.spark#spark-avro_2.12;3.5.0 in central\n",
      "\tfound org.tukaani#xz;1.9 in central\n"
     ]
    },
    {
     "name": "stdout",
     "output_type": "stream",
     "text": [
      ":: loading settings :: url = jar:file:/home/osbdet/.jupyter_venv/lib/python3.11/site-packages/pyspark/jars/ivy-2.5.1.jar!/org/apache/ivy/core/settings/ivysettings.xml\n"
     ]
    },
    {
     "name": "stderr",
     "output_type": "stream",
     "text": [
      "\tfound io.delta#delta-iceberg_2.12;3.0.0 in central\n",
      "\tfound io.delta#delta-spark_2.12;3.0.0 in central\n",
      "\tfound io.delta#delta-storage;3.0.0 in central\n",
      "\tfound org.antlr#antlr4-runtime;4.9.3 in central\n",
      "\tfound org.scala-lang.modules#scala-collection-compat_2.12;2.1.1 in central\n",
      "\tfound com.github.ben-manes.caffeine#caffeine;2.9.3 in central\n",
      "\tfound org.checkerframework#checker-qual;3.19.0 in central\n",
      "\tfound com.google.errorprone#error_prone_annotations;2.10.0 in central\n",
      ":: resolution report :: resolve 215ms :: artifacts dl 5ms\n",
      "\t:: modules in use:\n",
      "\tcom.github.ben-manes.caffeine#caffeine;2.9.3 from central in [default]\n",
      "\tcom.google.errorprone#error_prone_annotations;2.10.0 from central in [default]\n",
      "\tio.delta#delta-iceberg_2.12;3.0.0 from central in [default]\n",
      "\tio.delta#delta-spark_2.12;3.0.0 from central in [default]\n",
      "\tio.delta#delta-storage;3.0.0 from central in [default]\n",
      "\torg.antlr#antlr4-runtime;4.9.3 from central in [default]\n",
      "\torg.apache.spark#spark-avro_2.12;3.5.0 from central in [default]\n",
      "\torg.checkerframework#checker-qual;3.19.0 from central in [default]\n",
      "\torg.scala-lang.modules#scala-collection-compat_2.12;2.1.1 from central in [default]\n",
      "\torg.tukaani#xz;1.9 from central in [default]\n",
      "\t---------------------------------------------------------------------\n",
      "\t|                  |            modules            ||   artifacts   |\n",
      "\t|       conf       | number| search|dwnlded|evicted|| number|dwnlded|\n",
      "\t---------------------------------------------------------------------\n",
      "\t|      default     |   10  |   0   |   0   |   0   ||   10  |   0   |\n",
      "\t---------------------------------------------------------------------\n",
      ":: retrieving :: org.apache.spark#spark-submit-parent-e74ec2e9-65c3-4d1a-bf05-a601047b0164\n",
      "\tconfs: [default]\n",
      "\t0 artifacts copied, 10 already retrieved (0kB/7ms)\n",
      "25/03/18 00:36:01 WARN NativeCodeLoader: Unable to load native-hadoop library for your platform... using builtin-java classes where applicable\n",
      "Setting default log level to \"WARN\".\n",
      "To adjust logging level use sc.setLogLevel(newLevel). For SparkR, use setLogLevel(newLevel).\n",
      "Setting Spark log level to \"ERROR\".\n"
     ]
    }
   ],
   "source": [
    "from pyspark.sql.session import SparkSession\n",
    "\n",
    "spark = (SparkSession.builder\n",
    "    .appName(notebook_name)\n",
    "    .config(\"spark.log.level\",\"ERROR\")\n",
    "    .config(\"spark.sql.warehouse.dir\",hdfs_warehouse_base_path)\n",
    "    .config(\"spark.sql.extensions\", \"io.delta.sql.DeltaSparkSessionExtension\")\n",
    "    .config(\"spark.sql.catalog.spark_catalog\", \"org.apache.spark.sql.delta.catalog.DeltaCatalog\")\n",
    "    .config(\"spark.executorEnv.PYTHONPATH\", \"/path/to/your/venv/lib/python3.11/site-packages\") \\\n",
    "\n",
    "    .enableHiveSupport()\n",
    "    .getOrCreate()\n",
    ")"
   ]
  },
  {
   "cell_type": "code",
   "execution_count": 7,
   "id": "9d38b83a-9d3a-4729-a3d2-34a4c988310e",
   "metadata": {},
   "outputs": [
    {
     "name": "stderr",
     "output_type": "stream",
     "text": [
      "                                                                                \r"
     ]
    }
   ],
   "source": [
    "trump_tweet_with_sentiment_analysis = spark.read.format(\"delta\").load(f\"{hdfs_lakehouse_base_path}/gold/trump_btc/trump_tweet_with_sentiment_analysis\").cache()\n",
    "btc_price = spark.read.format(\"delta\").load(f\"{hdfs_lakehouse_base_path}/silver/trump_btc/BTC/\").cache()\n"
   ]
  },
  {
   "cell_type": "code",
   "execution_count": 8,
   "id": "45ffb1fe-0fa9-4845-ab9f-5f5fc1617329",
   "metadata": {},
   "outputs": [
    {
     "name": "stderr",
     "output_type": "stream",
     "text": [
      "[Stage 18:======================================>                   (2 + 1) / 3]\r"
     ]
    },
    {
     "name": "stdout",
     "output_type": "stream",
     "text": [
      "+-------------------+----+----+----+-----+------+\n",
      "|               date|Open|High| Low|Close|Volume|\n",
      "+-------------------+----+----+----+-----+------+\n",
      "|2012-01-01 11:01:00|4.58|4.58|4.58| 4.58|   0.0|\n",
      "|2012-01-01 11:02:00|4.58|4.58|4.58| 4.58|   0.0|\n",
      "|2012-01-01 11:03:00|4.58|4.58|4.58| 4.58|   0.0|\n",
      "|2012-01-01 11:04:00|4.58|4.58|4.58| 4.58|   0.0|\n",
      "|2012-01-01 11:05:00|4.58|4.58|4.58| 4.58|   0.0|\n",
      "+-------------------+----+----+----+-----+------+\n",
      "only showing top 5 rows\n",
      "\n"
     ]
    },
    {
     "name": "stderr",
     "output_type": "stream",
     "text": [
      "                                                                                \r"
     ]
    }
   ],
   "source": [
    "btc_price.orderBy(\"date\").show(5)"
   ]
  },
  {
   "cell_type": "code",
   "execution_count": 9,
   "id": "339a753c-30ae-4661-ae47-94beb4954186",
   "metadata": {},
   "outputs": [
    {
     "name": "stdout",
     "output_type": "stream",
     "text": [
      "+-------------------+---------+------------------+---------+--------+--------------------+---------------+\n",
      "|               date|favorites|                id|isRetweet|retweets|                text|sentiment_score|\n",
      "+-------------------+---------+------------------+---------+--------+--------------------+---------------+\n",
      "|2011-07-13 21:34:06|        5| 91228931306426368|    false|      33|More thoughts on ...|        -0.3612|\n",
      "|2011-07-14 15:36:02|       10| 91501208895881216|    false|      59|\"@johnboehner Deb...|        -0.6486|\n",
      "|2011-07-25 21:41:31|       14| 95579450183385090|    false|      69|The pressure on t...|        -0.5719|\n",
      "|2011-08-04 22:09:10|       24| 99210286686408704|    false|     182|China demanded th...|        -0.5267|\n",
      "|2011-08-22 22:33:46|      193|105739460074938368|    false|     299|We don't need ano...|        -0.6908|\n",
      "|2011-09-06 22:23:34|      105|111172713015545856|    false|     167|@BarackObama tril...|        -0.5563|\n",
      "|2011-09-09 20:30:23|       23|112231390128513025|    false|      80|@BarackObama---th...|          -0.25|\n",
      "|2011-09-20 15:17:36|       11|116138943417810944|    false|      38|\"@BarackObama's m...|            0.0|\n",
      "|2011-09-29 21:24:04|     1665|119492658963025920|    false|    1033|The Fed's reckles...|        -0.4019|\n",
      "|2011-10-07 21:21:06|       18|122391013334581248|    false|      58|@BarackObama is t...|        -0.7717|\n",
      "|2011-10-11 17:33:10|      268|123783204887998464|    false|     248|The Fed's reckles...|        -0.1531|\n",
      "|2011-10-24 18:39:52|      128|128511032992866305|    false|     241|The Dollar is at ...|        -0.2732|\n",
      "|2011-10-24 21:45:10|       28|128557664044199937|    false|     174|The job plan by @...|        -0.5106|\n",
      "|2011-11-17 21:17:35|       15|137263130358198273|    false|      69|\"The stimulus \"\"i...|        -0.1779|\n",
      "|2011-11-29 19:51:40|       14|141590162575605761|    false|     107|\"The CBO has conf...|        -0.2235|\n",
      "|2011-12-01 20:14:45|      189|142320749271719936|    false|     251|The Fed continues...|        -0.0258|\n",
      "|2012-02-09 20:03:18|      136|167685018330734592|    false|     185|The Fed is destro...|        -0.5574|\n",
      "|2012-02-15 22:09:18|       15|169891053401415680|    false|     106|The recession was...|        -0.8752|\n",
      "|2012-02-16 21:45:46|        7|170247520902066176|    false|      55|Gallup poll prove...|        -0.6399|\n",
      "|2012-02-28 20:54:34|        3|174583290798415872|    false|      20|@BarackObama's En...|         0.7003|\n",
      "+-------------------+---------+------------------+---------+--------+--------------------+---------------+\n",
      "only showing top 20 rows\n",
      "\n"
     ]
    }
   ],
   "source": [
    "trump_tweet_with_sentiment_analysis.orderBy(\"date\").show(20)"
   ]
  },
  {
   "cell_type": "code",
   "execution_count": 10,
   "id": "f10fb9a6-56f5-482c-bebd-ab33644f3e3a",
   "metadata": {},
   "outputs": [
    {
     "name": "stdout",
     "output_type": "stream",
     "text": [
      "+-------------------+---------+------------------+---------+--------+--------------------+---------------+\n",
      "|               date|favorites|                id|isRetweet|retweets|                text|sentiment_score|\n",
      "+-------------------+---------+------------------+---------+--------+--------------------+---------------+\n",
      "|2011-07-13 21:34:06|        5| 91228931306426368|    false|      33|More thoughts on ...|        -0.3612|\n",
      "|2011-07-14 15:36:02|       10| 91501208895881216|    false|      59|\"@johnboehner Deb...|        -0.6486|\n",
      "|2011-07-25 21:41:31|       14| 95579450183385090|    false|      69|The pressure on t...|        -0.5719|\n",
      "|2011-08-04 22:09:10|       24| 99210286686408704|    false|     182|China demanded th...|        -0.5267|\n",
      "|2011-08-22 22:33:46|      193|105739460074938368|    false|     299|We don't need ano...|        -0.6908|\n",
      "|2011-09-06 22:23:34|      105|111172713015545856|    false|     167|@BarackObama tril...|        -0.5563|\n",
      "|2011-09-09 20:30:23|       23|112231390128513025|    false|      80|@BarackObama---th...|          -0.25|\n",
      "|2011-09-20 15:17:36|       11|116138943417810944|    false|      38|\"@BarackObama's m...|            0.0|\n",
      "|2011-09-29 21:24:04|     1665|119492658963025920|    false|    1033|The Fed's reckles...|        -0.4019|\n",
      "|2011-10-07 21:21:06|       18|122391013334581248|    false|      58|@BarackObama is t...|        -0.7717|\n",
      "|2011-10-11 17:33:10|      268|123783204887998464|    false|     248|The Fed's reckles...|        -0.1531|\n",
      "|2011-10-24 18:39:52|      128|128511032992866305|    false|     241|The Dollar is at ...|        -0.2732|\n",
      "|2011-10-24 21:45:10|       28|128557664044199937|    false|     174|The job plan by @...|        -0.5106|\n",
      "|2011-11-17 21:17:35|       15|137263130358198273|    false|      69|\"The stimulus \"\"i...|        -0.1779|\n",
      "|2011-11-29 19:51:40|       14|141590162575605761|    false|     107|\"The CBO has conf...|        -0.2235|\n",
      "|2011-12-01 20:14:45|      189|142320749271719936|    false|     251|The Fed continues...|        -0.0258|\n",
      "|2012-02-09 20:03:18|      136|167685018330734592|    false|     185|The Fed is destro...|        -0.5574|\n",
      "|2012-02-15 22:09:18|       15|169891053401415680|    false|     106|The recession was...|        -0.8752|\n",
      "|2012-02-16 21:45:46|        7|170247520902066176|    false|      55|Gallup poll prove...|        -0.6399|\n",
      "|2012-02-28 20:54:34|        3|174583290798415872|    false|      20|@BarackObama's En...|         0.7003|\n",
      "+-------------------+---------+------------------+---------+--------+--------------------+---------------+\n",
      "only showing top 20 rows\n",
      "\n"
     ]
    }
   ],
   "source": [
    "trump_tweet_with_sentiment_analysis.orderBy(\"date\").show(20)"
   ]
  },
  {
   "cell_type": "code",
   "execution_count": 11,
   "id": "7124ac7d-c3da-402a-9afc-3459617c8f6c",
   "metadata": {},
   "outputs": [],
   "source": [
    "from pyspark.sql.functions import date_format\n",
    "\n",
    "#removing the seconds from both DF\n",
    "\n",
    "trump_tweet_with_sentiment_analysis = trump_tweet_with_sentiment_analysis.withColumn(\"date\", date_format(\"date\", \"yyyy-MM-dd HH:mm\"))\n",
    "btc_price = btc_price.withColumn(\"date\", date_format(\"date\", \"yyyy-MM-dd HH:mm\"))\n"
   ]
  },
  {
   "cell_type": "code",
   "execution_count": 12,
   "id": "1498564c-b8b9-42e8-80e4-e87600e57fb3",
   "metadata": {},
   "outputs": [
    {
     "name": "stdout",
     "output_type": "stream",
     "text": [
      "+----------------+---------+------------------+---------+--------+--------------------+---------------+\n",
      "|            date|favorites|                id|isRetweet|retweets|                text|sentiment_score|\n",
      "+----------------+---------+------------------+---------+--------+--------------------+---------------+\n",
      "|2024-11-04 04:08|        0|113422481640840196|     true|       0|\"RT @TeamTrumpPRE...|         0.6597|\n",
      "|2024-11-04 00:32|    12350|113421631757789522|    false|    3124|\"KAMALA BROKE IT,...|          0.976|\n",
      "|2024-11-03 19:15|        0|113420384878459920|     true|       0|\"RT @TeamTrumpPRE...|            0.0|\n",
      "|2024-11-03 06:25|    17960|113417358038328332|    false|    5386|If Kamala wins, y...|         0.7861|\n",
      "|2024-11-02 02:02|     8165|113410659723667193|    false|    1919|Patrick Morrisey,...|         0.9824|\n",
      "+----------------+---------+------------------+---------+--------+--------------------+---------------+\n",
      "only showing top 5 rows\n",
      "\n",
      "+----------------+-------+-------+-------+-------+-----------+\n",
      "|            date|   Open|   High|    Low|  Close|     Volume|\n",
      "+----------------+-------+-------+-------+-------+-----------+\n",
      "|2017-07-11 01:18|2419.94| 2420.0|2418.95|2418.95| 4.07239513|\n",
      "|2017-07-11 01:19|2421.99| 2422.0|2419.18|2419.18|15.83349066|\n",
      "|2017-07-11 01:20|2419.91|2421.96|2419.18|2421.95| 2.71926784|\n",
      "|2017-07-11 01:21|2421.96| 2422.0|2419.29| 2422.0|42.68201165|\n",
      "|2017-07-11 01:22|2420.33|2422.98|2414.79|2414.79|11.52859532|\n",
      "+----------------+-------+-------+-------+-------+-----------+\n",
      "only showing top 5 rows\n",
      "\n"
     ]
    }
   ],
   "source": [
    "trump_tweet_with_sentiment_analysis.show(5)\n",
    "btc_price.show(5)"
   ]
  },
  {
   "cell_type": "code",
   "execution_count": 13,
   "id": "dfa69c7e-d12c-42be-aaf5-0c6bab482a02",
   "metadata": {},
   "outputs": [
    {
     "name": "stdout",
     "output_type": "stream",
     "text": [
      "+----------------+---------+------------------+---------+--------+--------------------+---------------+\n",
      "|            date|favorites|                id|isRetweet|retweets|                text|sentiment_score|\n",
      "+----------------+---------+------------------+---------+--------+--------------------+---------------+\n",
      "|2012-02-09 20:03|      136|167685018330734592|    false|     185|The Fed is destro...|        -0.5574|\n",
      "|2012-02-15 22:09|       15|169891053401415680|    false|     106|The recession was...|        -0.8752|\n",
      "|2012-02-16 21:45|        7|170247520902066176|    false|      55|Gallup poll prove...|        -0.6399|\n",
      "|2012-02-28 20:54|        3|174583290798415872|    false|      20|@BarackObama's En...|         0.7003|\n",
      "|2012-03-01 21:02|       15|175310004050591745|    false|     156|\"The real unemplo...|            0.0|\n",
      "|2012-03-19 19:36|       14|181811323947065347|    false|      73|America is mired ...|          -0.34|\n",
      "|2012-03-30 20:24|        5|185794764657016832|    false|      44|White House Press...|         0.2263|\n",
      "|2012-04-18 20:52|       34|192687167921848323|    false|     117|By @BarackObama's...|            0.0|\n",
      "|2012-05-11 19:55|       25|201007738397003776|    false|     195|\"Selective memory...|        -0.1779|\n",
      "|2012-05-21 21:12|       60|204650769549508608|    false|     408|America has lost ...|        -0.6114|\n",
      "|2012-05-23 20:21|       17|205362910103482369|    false|     151|\"Disaster! The @B...|        -0.8016|\n",
      "|2012-06-01 22:31|       51|208657081027403776|    false|     238|Waste! The CBO no...|        -0.2714|\n",
      "|2012-06-04 18:22|        9|209681462029586432|    false|      17|My @foxandfriends...|        -0.4215|\n",
      "|2012-06-08 21:40|       76|211180934899314688|    false|     382|This is a tragedy...|        -0.6597|\n",
      "|2012-06-22 18:38|       76|216208626442977281|    false|     359|The $9B that @Bar...|           0.25|\n",
      "|2012-06-27 20:54|        4|218054613679603712|    false|      41|The Fed's actions...|            0.0|\n",
      "|2012-07-10 20:29|       16|222759498509582337|    false|     146|The U-6 Unemploym...|        -0.5423|\n",
      "|2012-07-26 16:47|      385|228501680470257664|    false|     472|The Audacity of @...|        -0.7269|\n",
      "|2012-08-07 16:05|      871|232839851945390080|    false|     753|The Fed should no...|        -0.4215|\n",
      "|2012-08-07 20:04|       28|232900144599801856|    false|     147|The real outsourc...|         0.3182|\n",
      "+----------------+---------+------------------+---------+--------+--------------------+---------------+\n",
      "only showing top 20 rows\n",
      "\n"
     ]
    }
   ],
   "source": [
    "from pyspark.sql.functions import col\n",
    "\n",
    "#filtering the tweets with sentiment +- 0.5\n",
    "#filtered_tweets = trump_tweet_with_sentiment_analysis.filter((trump_tweet_with_sentiment_analysis.sentiment_score > 0.5) | (trump_tweet_with_sentiment_analysis.sentiment_score < -0.5))\n",
    "#filtering because we only got data from 2012\n",
    "filtered_tweets = trump_tweet_with_sentiment_analysis.filter(col(\"date\") >= \"2012-01-01\")\n",
    "\n",
    "filtered_tweets.orderBy('date').show()"
   ]
  },
  {
   "cell_type": "code",
   "execution_count": 14,
   "id": "a91b025d-33be-46f6-8bd6-ea34e8936b96",
   "metadata": {},
   "outputs": [
    {
     "name": "stdout",
     "output_type": "stream",
     "text": [
      "+-------------------+-------+-------+-------+-------+-----------+---------+----+---------+--------+----+---------------+\n",
      "|date               |Open   |High   |Low    |Close  |Volume     |favorites|id  |isRetweet|retweets|text|sentiment_score|\n",
      "+-------------------+-------+-------+-------+-------+-----------+---------+----+---------+--------+----+---------------+\n",
      "|2017-07-11 01:18:00|2419.94|2420.0 |2418.95|2418.95|4.07239513 |NULL     |NULL|NULL     |NULL    |NULL|NULL           |\n",
      "|2017-07-11 01:19:00|2421.99|2422.0 |2419.18|2419.18|15.83349066|NULL     |NULL|NULL     |NULL    |NULL|NULL           |\n",
      "|2017-07-11 01:20:00|2419.91|2421.96|2419.18|2421.95|2.71926784 |NULL     |NULL|NULL     |NULL    |NULL|NULL           |\n",
      "|2017-07-11 01:21:00|2421.96|2422.0 |2419.29|2422.0 |42.68201165|NULL     |NULL|NULL     |NULL    |NULL|NULL           |\n",
      "|2017-07-11 01:22:00|2420.33|2422.98|2414.79|2414.79|11.52859532|NULL     |NULL|NULL     |NULL    |NULL|NULL           |\n",
      "|2017-07-11 01:23:00|2413.32|2413.32|2410.75|2410.76|23.28344827|NULL     |NULL|NULL     |NULL    |NULL|NULL           |\n",
      "|2017-07-11 01:24:00|2411.12|2412.0 |2409.32|2409.43|14.032     |NULL     |NULL|NULL     |NULL    |NULL|NULL           |\n",
      "|2017-07-11 01:25:00|2409.42|2409.48|2407.8 |2407.8 |11.33768836|NULL     |NULL|NULL     |NULL    |NULL|NULL           |\n",
      "|2017-07-11 01:26:00|2409.42|2410.27|2408.15|2410.24|2.10734941 |NULL     |NULL|NULL     |NULL    |NULL|NULL           |\n",
      "|2017-07-11 01:27:00|2410.15|2411.81|2410.15|2411.81|0.50597356 |NULL     |NULL|NULL     |NULL    |NULL|NULL           |\n",
      "+-------------------+-------+-------+-------+-------+-----------+---------+----+---------+--------+----+---------------+\n",
      "only showing top 10 rows\n",
      "\n"
     ]
    }
   ],
   "source": [
    "from pyspark.sql import functions as F\n",
    "\n",
    "# Ensure both DataFrames have the `date` column in TIMESTAMP format\n",
    "btc_price = btc_price.withColumn(\"date\", F.to_timestamp(\"date\", \"yyyy-MM-dd HH:mm\"))\n",
    "filtered_tweets = filtered_tweets.withColumn(\"date\", F.to_timestamp(\"date\", \"yyyy-MM-dd HH:mm\"))\n",
    "\n",
    "# Perform the LEFT JOIN on \"date\"\n",
    "joined_df = btc_price.join(\n",
    "    filtered_tweets,\n",
    "    on=\"date\",\n",
    "    how=\"left\"\n",
    ")\n",
    "\n",
    "# Show results\n",
    "joined_df.show(10, truncate=False)\n",
    "\n"
   ]
  },
  {
   "cell_type": "code",
   "execution_count": 15,
   "id": "bb091a42-99e4-4a3e-ae66-341bb3457e2f",
   "metadata": {},
   "outputs": [
    {
     "name": "stderr",
     "output_type": "stream",
     "text": [
      "[Stage 34:>                                                         (0 + 1) / 1]\r"
     ]
    },
    {
     "name": "stdout",
     "output_type": "stream",
     "text": [
      "+----+-------------------+---------------+-----------------+-------------------+---------------------+\n",
      "|text|date               |sentiment_score|btc_current_price|btc_price_24h_later|price_change_24h_in_%|\n",
      "+----+-------------------+---------------+-----------------+-------------------+---------------------+\n",
      "|NULL|2012-01-01 11:01:00|NULL           |4.58             |5.0                |9.17                 |\n",
      "|NULL|2012-01-01 11:03:00|NULL           |4.58             |5.0                |9.17                 |\n",
      "|NULL|2012-01-01 11:08:00|NULL           |4.58             |5.0                |9.17                 |\n",
      "|NULL|2012-01-01 11:11:00|NULL           |4.58             |5.0                |9.17                 |\n",
      "|NULL|2017-07-11 01:21:00|NULL           |2422.0           |2326.26            |-3.95                |\n",
      "|NULL|2017-07-11 01:22:00|NULL           |2414.79          |2324.96            |-3.72                |\n",
      "|NULL|2017-07-11 01:24:00|NULL           |2409.43          |2325.0             |-3.5                 |\n",
      "|NULL|2017-07-11 01:28:00|NULL           |2411.43          |2329.67            |-3.39                |\n",
      "|NULL|2022-01-11 07:04:00|NULL           |41687.21         |42743.46           |2.53                 |\n",
      "|NULL|2022-01-11 07:06:00|NULL           |41706.92         |42767.64           |2.54                 |\n",
      "+----+-------------------+---------------+-----------------+-------------------+---------------------+\n",
      "only showing top 10 rows\n",
      "\n"
     ]
    },
    {
     "name": "stderr",
     "output_type": "stream",
     "text": [
      "                                                                                \r"
     ]
    }
   ],
   "source": [
    "# Define a 12-hour future time column\n",
    "from pyspark.sql.functions import col, expr,round\n",
    "\n",
    "# Create a self-join to find BTC price exactly 24 hours later how it changed over time\n",
    "joined_df_with_future = joined_df.alias(\"current\").join(\n",
    "    joined_df.alias(\"future\"),\n",
    "    expr(\"future.date = current.date + INTERVAL 24 HOURS\"),\n",
    "    how=\"left\"\n",
    ").select(\n",
    "    col(\"current.text\"),\n",
    "    col(\"current.date\"),\n",
    "    col(\"current.sentiment_score\"),\n",
    "    col(\"current.Close\").alias(\"btc_current_price\"),\n",
    "    col(\"future.Close\").alias(\"btc_price_24h_later\")\n",
    ")\n",
    "joined_df_with_future=joined_df_with_future.withColumn(\n",
    "    \"price_change_24h_in_%\",\n",
    "    round(((col(\"btc_price_24h_later\") - col(\"btc_current_price\")) / col(\"btc_current_price\")) * 100\n",
    ",2))\n",
    "\n",
    "\n",
    "# Show results\n",
    "joined_df_with_future.show(10, truncate=False)\n"
   ]
  },
  {
   "cell_type": "code",
   "execution_count": 16,
   "id": "dc63b030-027c-497a-84b1-264ad6946ac4",
   "metadata": {},
   "outputs": [],
   "source": [
    "from pyspark.sql.functions import col, expr, round\n",
    "\n",
    "# List of rolling windows (in days)\n",
    "time_windows = [1, 2, 3, 5, 7]  # 1 day = 24h, 2 days = 48h, etc.\n",
    "\n",
    "# Start with the base DataFrame (1-day window already exists)\n",
    "joined_df_with_future = joined_df.alias(\"current\")\n",
    "\n",
    "# Iterate through different time windows and join to calculate future prices\n",
    "for days in time_windows:\n",
    "    hours = days * 24  # Convert days to hours\n",
    "    alias_name = f\"future_{days}d\"\n",
    "    \n",
    "    joined_df_with_future = joined_df_with_future.join(\n",
    "        joined_df.alias(alias_name),\n",
    "        expr(f\"{alias_name}.date = current.date + INTERVAL {hours} HOURS\"),\n",
    "        how=\"left\"\n",
    "    ).withColumn(\n",
    "        f\"btc_price_{days}d_later\", col(f\"{alias_name}.Close\")\n",
    "    ).withColumn(\n",
    "        f\"price_change_{days}d_in_%\", \n",
    "        round(((col(f\"btc_price_{days}d_later\") - col(\"current.Close\")) / col(\"current.Close\")) * 100, 2)\n",
    "    )\n",
    "\n",
    "# Select relevant columns\n",
    "final_df = joined_df_with_future.select(\n",
    "    col(\"current.text\"),\n",
    "    col(\"current.date\"),\n",
    "    col(\"current.sentiment_score\"),\n",
    "    col(\"current.Close\").alias(\"btc_current_price\"),\n",
    "    *[col(f\"btc_price_{days}d_later\") for days in time_windows], \n",
    "    *[col(f\"price_change_{days}d_in_%\") for days in time_windows]\n",
    ")\n",
    "\n",
    "# Show results\n"
   ]
  },
  {
   "cell_type": "code",
   "execution_count": 17,
   "id": "940c511d-7ae2-40db-a3a0-f5117738e2f7",
   "metadata": {},
   "outputs": [
    {
     "name": "stderr",
     "output_type": "stream",
     "text": [
      "[Stage 70:=============================>                            (1 + 1) / 2]\r"
     ]
    },
    {
     "name": "stdout",
     "output_type": "stream",
     "text": [
      "+----+-------------------+---------------+-----------------+------------------+------------------+------------------+------------------+------------------+--------------------+--------------------+--------------------+--------------------+--------------------+\n",
      "|text|               date|sentiment_score|btc_current_price|btc_price_1d_later|btc_price_2d_later|btc_price_3d_later|btc_price_5d_later|btc_price_7d_later|price_change_1d_in_%|price_change_2d_in_%|price_change_3d_in_%|price_change_5d_in_%|price_change_7d_in_%|\n",
      "+----+-------------------+---------------+-----------------+------------------+------------------+------------------+------------------+------------------+--------------------+--------------------+--------------------+--------------------+--------------------+\n",
      "|NULL|2012-01-01 11:01:00|           NULL|             4.58|               5.0|               5.0|              4.93|              6.65|               6.8|                9.17|                9.17|                7.64|                45.2|               48.47|\n",
      "|NULL|2012-01-01 11:02:00|           NULL|             4.58|               5.0|               5.0|              4.93|              6.65|               6.8|                9.17|                9.17|                7.64|                45.2|               48.47|\n",
      "|NULL|2012-01-01 11:03:00|           NULL|             4.58|               5.0|               5.0|              4.93|              6.65|               6.8|                9.17|                9.17|                7.64|                45.2|               48.47|\n",
      "|NULL|2012-01-01 11:04:00|           NULL|             4.58|               5.0|               5.0|              4.93|              6.65|               6.8|                9.17|                9.17|                7.64|                45.2|               48.47|\n",
      "|NULL|2012-01-01 11:05:00|           NULL|             4.58|               5.0|               5.0|              4.93|              6.65|               6.8|                9.17|                9.17|                7.64|                45.2|               48.47|\n",
      "+----+-------------------+---------------+-----------------+------------------+------------------+------------------+------------------+------------------+--------------------+--------------------+--------------------+--------------------+--------------------+\n",
      "only showing top 5 rows\n",
      "\n"
     ]
    },
    {
     "name": "stderr",
     "output_type": "stream",
     "text": [
      "                                                                                \r"
     ]
    }
   ],
   "source": [
    "final_df.show(5)\n"
   ]
  },
  {
   "cell_type": "code",
   "execution_count": 18,
   "id": "4a1688fe-cb64-4601-8534-49301c6cb4a6",
   "metadata": {},
   "outputs": [],
   "source": [
    "sentiment_analysis_with_btc_change=final_df.filter(F.col(\"sentiment_score\").isNotNull())"
   ]
  },
  {
   "cell_type": "code",
   "execution_count": 19,
   "id": "3670b20b-506c-4ec5-bdba-1de6c6c49567",
   "metadata": {},
   "outputs": [],
   "source": [
    "sentiment_analysis_with_btc_change=sentiment_analysis_with_btc_change.cache()"
   ]
  },
  {
   "cell_type": "code",
   "execution_count": 20,
   "id": "cb623dbf-a577-4c21-8876-c507ad0d11d0",
   "metadata": {},
   "outputs": [
    {
     "name": "stderr",
     "output_type": "stream",
     "text": [
      "                                                                                \r"
     ]
    },
    {
     "data": {
      "text/plain": [
       "787"
      ]
     },
     "execution_count": 20,
     "metadata": {},
     "output_type": "execute_result"
    }
   ],
   "source": [
    "sentiment_analysis_with_btc_change.count()"
   ]
  },
  {
   "cell_type": "code",
   "execution_count": 21,
   "id": "9cda0555-887a-437a-ac4a-cdab9c7c4d45",
   "metadata": {},
   "outputs": [
    {
     "name": "stderr",
     "output_type": "stream",
     "text": [
      "                                                                                \r"
     ]
    }
   ],
   "source": [
    "(sentiment_analysis_with_btc_change.write \n",
    "                    .format(\"delta\")\n",
    "                    .mode(\"overwrite\")\n",
    "                    .option(\"path\",f\"{hdfs_lakehouse_base_path}/gold/trump_btc/sentiment_analysis_with_btc_change\")\n",
    "                    .saveAsTable(\"trump_btc.sentiment_analysis_with_btc_change\")\n",
    ")\n"
   ]
  },
  {
   "cell_type": "code",
   "execution_count": null,
   "id": "c2239cc1-7637-4046-a170-ccbc3745415d",
   "metadata": {},
   "outputs": [],
   "source": []
  },
  {
   "cell_type": "code",
   "execution_count": null,
   "id": "792dc2d0-84ae-4ec9-b103-d60647dcaf7a",
   "metadata": {},
   "outputs": [],
   "source": []
  },
  {
   "cell_type": "code",
   "execution_count": null,
   "id": "21c402b4-3d32-419d-a71a-ef041dd98658",
   "metadata": {},
   "outputs": [],
   "source": []
  }
 ],
 "metadata": {
  "kernelspec": {
   "display_name": "Python 3 (ipykernel)",
   "language": "python",
   "name": "python3"
  },
  "language_info": {
   "codemirror_mode": {
    "name": "ipython",
    "version": 3
   },
   "file_extension": ".py",
   "mimetype": "text/x-python",
   "name": "python",
   "nbconvert_exporter": "python",
   "pygments_lexer": "ipython3",
   "version": "3.11.2"
  }
 },
 "nbformat": 4,
 "nbformat_minor": 5
}
