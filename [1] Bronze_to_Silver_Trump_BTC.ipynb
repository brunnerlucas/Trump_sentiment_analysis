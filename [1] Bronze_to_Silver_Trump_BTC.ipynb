{
 "cells": [
  {
   "cell_type": "code",
   "execution_count": 1,
   "id": "4fdff860-4c50-4ace-9232-c19cce7f2fa0",
   "metadata": {},
   "outputs": [],
   "source": [
    "import pandas as pd\n",
    "pd.set_option('display.max_colwidth', None)"
   ]
  },
  {
   "cell_type": "code",
   "execution_count": 2,
   "id": "95eb65a3-f427-4de9-a991-5016e82ed18f",
   "metadata": {},
   "outputs": [],
   "source": [
    "import numpy as np\n",
    "np.bool = np.bool_"
   ]
  },
  {
   "cell_type": "code",
   "execution_count": 3,
   "id": "5cc3163a-f87f-40b6-a3b3-e8990099f371",
   "metadata": {},
   "outputs": [],
   "source": [
    "#current notebook name\n",
    "notebook_name = __session__.replace('.ipynb','')[__session__.rfind('/')+1:] "
   ]
  },
  {
   "cell_type": "code",
   "execution_count": 4,
   "id": "f454bcc9-c6fc-4533-bc33-fc0bb6807cae",
   "metadata": {},
   "outputs": [],
   "source": [
    "# HDFS base paths\n",
    "hdfs_lakehouse_base_path = 'hdfs://localhost:9000/lakehouse/'\n",
    "hdfs_warehouse_base_path = 'hdfs://localhost:9000/warehouse'"
   ]
  },
  {
   "cell_type": "code",
   "execution_count": 5,
   "id": "76a1aa20-2918-4576-a089-f9c370723006",
   "metadata": {},
   "outputs": [],
   "source": [
    "import os\n",
    "dependencies = [\"org.apache.spark:spark-avro_2.12:3.5.0\",\n",
    "                \"io.delta:delta-iceberg_2.12:3.0.0\"]\n",
    "os.environ['PYSPARK_SUBMIT_ARGS']= f\"--packages {','.join(dependencies)} pyspark-shell\"\n",
    "os.environ['PYARROW_IGNORE_TIMEZONE'] = 'true'"
   ]
  },
  {
   "cell_type": "code",
   "execution_count": 6,
   "id": "3e060c80-1e31-4219-98bb-5cca83e8617d",
   "metadata": {},
   "outputs": [
    {
     "name": "stderr",
     "output_type": "stream",
     "text": [
      "25/03/18 00:33:34 WARN Utils: Your hostname, osbdet resolves to a loopback address: 127.0.0.1; using 10.0.2.15 instead (on interface enp0s1)\n",
      "25/03/18 00:33:34 WARN Utils: Set SPARK_LOCAL_IP if you need to bind to another address\n",
      "Ivy Default Cache set to: /home/osbdet/.ivy2/cache\n",
      "The jars for the packages stored in: /home/osbdet/.ivy2/jars\n",
      "org.apache.spark#spark-avro_2.12 added as a dependency\n",
      "io.delta#delta-iceberg_2.12 added as a dependency\n",
      ":: resolving dependencies :: org.apache.spark#spark-submit-parent-01509170-bfee-46a7-b47f-5ed63154b85f;1.0\n",
      "\tconfs: [default]\n"
     ]
    },
    {
     "name": "stdout",
     "output_type": "stream",
     "text": [
      ":: loading settings :: url = jar:file:/home/osbdet/.jupyter_venv/lib/python3.11/site-packages/pyspark/jars/ivy-2.5.1.jar!/org/apache/ivy/core/settings/ivysettings.xml\n"
     ]
    },
    {
     "name": "stderr",
     "output_type": "stream",
     "text": [
      "\tfound org.apache.spark#spark-avro_2.12;3.5.0 in central\n",
      "\tfound org.tukaani#xz;1.9 in central\n",
      "\tfound io.delta#delta-iceberg_2.12;3.0.0 in central\n",
      "\tfound io.delta#delta-spark_2.12;3.0.0 in central\n",
      "\tfound io.delta#delta-storage;3.0.0 in central\n",
      "\tfound org.antlr#antlr4-runtime;4.9.3 in central\n",
      "\tfound org.scala-lang.modules#scala-collection-compat_2.12;2.1.1 in central\n",
      "\tfound com.github.ben-manes.caffeine#caffeine;2.9.3 in central\n",
      "\tfound org.checkerframework#checker-qual;3.19.0 in central\n",
      "\tfound com.google.errorprone#error_prone_annotations;2.10.0 in central\n",
      ":: resolution report :: resolve 191ms :: artifacts dl 6ms\n",
      "\t:: modules in use:\n",
      "\tcom.github.ben-manes.caffeine#caffeine;2.9.3 from central in [default]\n",
      "\tcom.google.errorprone#error_prone_annotations;2.10.0 from central in [default]\n",
      "\tio.delta#delta-iceberg_2.12;3.0.0 from central in [default]\n",
      "\tio.delta#delta-spark_2.12;3.0.0 from central in [default]\n",
      "\tio.delta#delta-storage;3.0.0 from central in [default]\n",
      "\torg.antlr#antlr4-runtime;4.9.3 from central in [default]\n",
      "\torg.apache.spark#spark-avro_2.12;3.5.0 from central in [default]\n",
      "\torg.checkerframework#checker-qual;3.19.0 from central in [default]\n",
      "\torg.scala-lang.modules#scala-collection-compat_2.12;2.1.1 from central in [default]\n",
      "\torg.tukaani#xz;1.9 from central in [default]\n",
      "\t---------------------------------------------------------------------\n",
      "\t|                  |            modules            ||   artifacts   |\n",
      "\t|       conf       | number| search|dwnlded|evicted|| number|dwnlded|\n",
      "\t---------------------------------------------------------------------\n",
      "\t|      default     |   10  |   0   |   0   |   0   ||   10  |   0   |\n",
      "\t---------------------------------------------------------------------\n",
      ":: retrieving :: org.apache.spark#spark-submit-parent-01509170-bfee-46a7-b47f-5ed63154b85f\n",
      "\tconfs: [default]\n",
      "\t0 artifacts copied, 10 already retrieved (0kB/4ms)\n",
      "25/03/18 00:33:34 WARN NativeCodeLoader: Unable to load native-hadoop library for your platform... using builtin-java classes where applicable\n",
      "Setting default log level to \"WARN\".\n",
      "To adjust logging level use sc.setLogLevel(newLevel). For SparkR, use setLogLevel(newLevel).\n",
      "Setting Spark log level to \"ERROR\".\n"
     ]
    }
   ],
   "source": [
    "from pyspark.sql.session import SparkSession\n",
    "\n",
    "spark = (SparkSession.builder\n",
    "    .appName(notebook_name)\n",
    "    .config(\"spark.log.level\",\"ERROR\")\n",
    "    .config(\"spark.sql.warehouse.dir\",hdfs_warehouse_base_path)\n",
    "    .config(\"spark.sql.extensions\", \"io.delta.sql.DeltaSparkSessionExtension\")\n",
    "    .config(\"spark.sql.catalog.spark_catalog\", \"org.apache.spark.sql.delta.catalog.DeltaCatalog\")\n",
    "    .enableHiveSupport()\n",
    "    .getOrCreate()\n",
    ")"
   ]
  },
  {
   "cell_type": "code",
   "execution_count": null,
   "id": "9d38b83a-9d3a-4729-a3d2-34a4c988310e",
   "metadata": {},
   "outputs": [],
   "source": [
    "base_path = f\"{hdfs_lakehouse_base_path}/bronze/trump_btc\"\n",
    "\n",
    "# List of folder names (from the structure provided)\n",
    "folder_names = [\"BTC\", \"Trump\", \"fear_greed_index\"]\n",
    "\n",
    "# Dictionary to store DataFrames\n",
    "dataframes = {}\n",
    "\n",
    "# Loop through each folder and read the CSV file inside it\n",
    "for folder_name in folder_names:\n",
    "    # Construct the file path\n",
    "    file_path = os.path.join(base_path, folder_name)\n",
    "    \n",
    "    # Read the CSV file into a DataFrame\n",
    "    dataframes[folder_name] = (spark.read\n",
    "                                        .option(\"header\", \"true\")\n",
    "                                        .option(\"inferSchema\", \"true\")\n",
    "                                        .csv(file_path))\n",
    "    print(f\"Loaded DataFrame for {folder_name}_raw\")\n",
    "\n",
    "# Example: Accessing one of the DataFrames\n",
    "btc_df = dataframes[\"BTC\"]\n",
    "trump_df=dataframes[\"Trump\"]\n",
    "FG_df=dataframes[\"fear_greed_index\"]"
   ]
  },
  {
   "cell_type": "code",
   "execution_count": null,
   "id": "4cad9e13-2e55-403d-b7a4-aef78086ffb3",
   "metadata": {},
   "outputs": [],
   "source": [
    "btc_df.show()"
   ]
  },
  {
   "cell_type": "code",
   "execution_count": null,
   "id": "9b5a943d-eac4-4598-9a66-1d72fa1b15c7",
   "metadata": {},
   "outputs": [],
   "source": [
    "trump_df.toPandas().head()"
   ]
  },
  {
   "cell_type": "code",
   "execution_count": null,
   "id": "ac4c13bb-9773-424f-bdc4-173a917fd259",
   "metadata": {},
   "outputs": [],
   "source": [
    "FG_df.show()"
   ]
  },
  {
   "cell_type": "code",
   "execution_count": null,
   "id": "adc9e5d4-750b-4d1d-a803-50c8227cf19e",
   "metadata": {},
   "outputs": [],
   "source": [
    "FG_df = FG_df.drop(\"BTC_Closing\")"
   ]
  },
  {
   "cell_type": "code",
   "execution_count": null,
   "id": "a6544145-e6a4-4861-a171-2fdb09e6cd28",
   "metadata": {},
   "outputs": [],
   "source": [
    "from pyspark.sql import functions as F\n",
    "from pyspark.sql.functions import col, sum\n",
    "\n",
    "FG_df=FG_df.filter(F.col(\"Value_Classification\").isNotNull())\n",
    "FG_df.show()"
   ]
  },
  {
   "cell_type": "code",
   "execution_count": null,
   "id": "6dcefbca-912a-4967-89c1-fb812542062e",
   "metadata": {},
   "outputs": [],
   "source": [
    "FG_df.filter(F.col(\"Value_Classification\").isNull()).show()"
   ]
  },
  {
   "cell_type": "code",
   "execution_count": null,
   "id": "2563c96f-1e50-4056-b9bd-09d56442c290",
   "metadata": {},
   "outputs": [],
   "source": [
    "from pyspark.sql.functions import col, from_unixtime, date_format\n",
    "\n",
    "# If the timestamps are in milliseconds, divide by 1000\n",
    "btc_df_std = btc_df.withColumnRenamed(\"Timestamp\", \"date\") \\\n",
    "                   .withColumn(\"date\", date_format(from_unixtime(col(\"date\")), \"yyyy-MM-dd HH:mm:ss\")) \\\n",
    "                   .dropna()  # Remove missing values\n",
    "\n"
   ]
  },
  {
   "cell_type": "code",
   "execution_count": null,
   "id": "a6ba70a7-9f42-4f1f-9dde-39594a660fba",
   "metadata": {},
   "outputs": [],
   "source": [
    "btc_df_std.show(5)"
   ]
  },
  {
   "cell_type": "code",
   "execution_count": null,
   "id": "a3d6ecfa-34ee-4ffd-ace1-698605dd7127",
   "metadata": {},
   "outputs": [],
   "source": [
    "btc_df_std.tail(5)"
   ]
  },
  {
   "cell_type": "code",
   "execution_count": null,
   "id": "be00cfaf-b75d-410a-ba93-a5c2c3364ef3",
   "metadata": {},
   "outputs": [],
   "source": [
    "spark.sql(\"DROP SCHEMA trump_btc CASCADE\")"
   ]
  },
  {
   "cell_type": "code",
   "execution_count": null,
   "id": "f0bcc844-5105-4408-8a5a-4a1b3de57fd0",
   "metadata": {},
   "outputs": [],
   "source": [
    "spark.sql(\"CREATE SCHEMA IF NOT EXISTS trump_btc\")"
   ]
  },
  {
   "cell_type": "code",
   "execution_count": null,
   "id": "ca792d70-dcac-4435-9c2f-003f7a6aa502",
   "metadata": {},
   "outputs": [],
   "source": [
    "#saving btc data it in silver\n",
    "(btc_df_std.write\n",
    "            .format(\"delta\")\n",
    "            .mode(\"overwrite\")\n",
    "            .option(\"path\",f\"{hdfs_lakehouse_base_path}/silver/trump_btc/BTC/\")\n",
    "            .saveAsTable(\"trump_btc.BTC\")\n",
    ")\n"
   ]
  },
  {
   "cell_type": "code",
   "execution_count": null,
   "id": "b117e4fe-fedb-4629-8201-f29b456cf19a",
   "metadata": {},
   "outputs": [],
   "source": [
    "from pyspark.sql import SparkSession\n",
    "from pyspark.sql.functions import col, from_unixtime, date_format,regexp_replace\n",
    "from pyspark.sql.types import StringType, BooleanType, DoubleType, LongType, TimestampType\n",
    "import re\n",
    "\n",
    "trump_df = trump_df.withColumn(\"date\", col(\"date\").cast(\"bigInt\"))\n",
    "trump_df = trump_df.withColumn(\"date\", date_format(from_unixtime(col(\"date\") / 1000), \"yyyy-MM-dd HH:mm:ss\"))\n",
    "trump_df = trump_df.withColumn(\"text\", regexp_replace(col(\"text\"), \"<[^>]+>\", \"\"))\n"
   ]
  },
  {
   "cell_type": "code",
   "execution_count": null,
   "id": "fc1be1ad-3788-4619-9c35-680140cfef4f",
   "metadata": {},
   "outputs": [],
   "source": [
    "trump_df_std=trump_df\n",
    "trump_df_std.show()"
   ]
  },
  {
   "cell_type": "code",
   "execution_count": null,
   "id": "55560ede-e965-4999-9a84-afb633718768",
   "metadata": {},
   "outputs": [],
   "source": [
    "#saving btc data it in silver\n",
    "(trump_df_std.write\n",
    "            .format(\"delta\")\n",
    "            .mode(\"overwrite\")\n",
    "            .option(\"path\",f\"{hdfs_lakehouse_base_path}/silver/trump_btc/trump/\")\n",
    "            .saveAsTable(\"trump_btc.trump\")\n",
    ")\n"
   ]
  },
  {
   "cell_type": "code",
   "execution_count": null,
   "id": "b92eea45-7e47-4598-be4a-39ed0f2c808e",
   "metadata": {},
   "outputs": [],
   "source": [
    "#saving btc data it in silver\n",
    "(FG_df.write\n",
    "            .format(\"delta\")\n",
    "            .mode(\"overwrite\")\n",
    "            .option(\"path\",f\"{hdfs_lakehouse_base_path}/silver/trump_btc/fear_greed_index/\")\n",
    "            .saveAsTable(\"trump_btc.FG_df\")\n",
    ")"
   ]
  },
  {
   "cell_type": "code",
   "execution_count": null,
   "id": "b978b9cf-df03-4cbe-aacf-29940eaf3bec",
   "metadata": {},
   "outputs": [],
   "source": [
    "%%sparksql\n",
    "SELECT *\n",
    "FROM trump_btc.trump\n",
    "LIMIT 10"
   ]
  },
  {
   "cell_type": "code",
   "execution_count": null,
   "id": "319c4613-1ae3-41ba-bbeb-864fd2897705",
   "metadata": {},
   "outputs": [],
   "source": []
  },
  {
   "cell_type": "code",
   "execution_count": null,
   "id": "388bb932-1942-45c6-a787-eb60a424b3ae",
   "metadata": {},
   "outputs": [],
   "source": []
  },
  {
   "cell_type": "code",
   "execution_count": null,
   "id": "42e54069-7694-4c4c-849a-3b864a156ce9",
   "metadata": {},
   "outputs": [],
   "source": []
  },
  {
   "cell_type": "code",
   "execution_count": null,
   "id": "6ac2b1bc-beee-4efd-b6bd-75707afffcf0",
   "metadata": {},
   "outputs": [],
   "source": []
  },
  {
   "cell_type": "code",
   "execution_count": null,
   "id": "fd82f60e-d240-4303-a4d1-9b476d7e0bb5",
   "metadata": {},
   "outputs": [],
   "source": []
  },
  {
   "cell_type": "code",
   "execution_count": null,
   "id": "a80956e0-6d0a-4745-9f90-9a371c1c56f8",
   "metadata": {},
   "outputs": [],
   "source": []
  }
 ],
 "metadata": {
  "kernelspec": {
   "display_name": "Python 3 (ipykernel)",
   "language": "python",
   "name": "python3"
  },
  "language_info": {
   "codemirror_mode": {
    "name": "ipython",
    "version": 3
   },
   "file_extension": ".py",
   "mimetype": "text/x-python",
   "name": "python",
   "nbconvert_exporter": "python",
   "pygments_lexer": "ipython3",
   "version": "3.11.2"
  }
 },
 "nbformat": 4,
 "nbformat_minor": 5
}
