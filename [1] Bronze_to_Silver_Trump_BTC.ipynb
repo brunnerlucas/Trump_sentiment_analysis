{
 "cells": [
  {
   "cell_type": "code",
   "execution_count": 1,
   "id": "4fdff860-4c50-4ace-9232-c19cce7f2fa0",
   "metadata": {},
   "outputs": [],
   "source": [
    "import pandas as pd\n",
    "pd.set_option('display.max_colwidth', None)"
   ]
  },
  {
   "cell_type": "code",
   "execution_count": 2,
   "id": "95eb65a3-f427-4de9-a991-5016e82ed18f",
   "metadata": {},
   "outputs": [],
   "source": [
    "import numpy as np\n",
    "np.bool = np.bool_"
   ]
  },
  {
   "cell_type": "code",
   "execution_count": 3,
   "id": "5cc3163a-f87f-40b6-a3b3-e8990099f371",
   "metadata": {},
   "outputs": [],
   "source": [
    "#current notebook name\n",
    "notebook_name = __session__.replace('.ipynb','')[__session__.rfind('/')+1:] "
   ]
  },
  {
   "cell_type": "code",
   "execution_count": 4,
   "id": "f454bcc9-c6fc-4533-bc33-fc0bb6807cae",
   "metadata": {},
   "outputs": [],
   "source": [
    "# HDFS base paths\n",
    "hdfs_lakehouse_base_path = 'hdfs://localhost:9000/lakehouse/'\n",
    "hdfs_warehouse_base_path = 'hdfs://localhost:9000/warehouse'"
   ]
  },
  {
   "cell_type": "code",
   "execution_count": 5,
   "id": "76a1aa20-2918-4576-a089-f9c370723006",
   "metadata": {},
   "outputs": [],
   "source": [
    "import os\n",
    "dependencies = [\"org.apache.spark:spark-avro_2.12:3.5.0\",\n",
    "                \"io.delta:delta-iceberg_2.12:3.0.0\"]\n",
    "os.environ['PYSPARK_SUBMIT_ARGS']= f\"--packages {','.join(dependencies)} pyspark-shell\"\n",
    "os.environ['PYARROW_IGNORE_TIMEZONE'] = 'true'"
   ]
  },
  {
   "cell_type": "code",
   "execution_count": 6,
   "id": "3e060c80-1e31-4219-98bb-5cca83e8617d",
   "metadata": {},
   "outputs": [
    {
     "name": "stderr",
     "output_type": "stream",
     "text": [
      "25/03/13 16:56:28 WARN Utils: Your hostname, osbdet resolves to a loopback address: 127.0.0.1; using 10.0.2.15 instead (on interface enp0s1)\n",
      "25/03/13 16:56:28 WARN Utils: Set SPARK_LOCAL_IP if you need to bind to another address\n",
      "Ivy Default Cache set to: /home/osbdet/.ivy2/cache\n",
      "The jars for the packages stored in: /home/osbdet/.ivy2/jars\n",
      "org.apache.spark#spark-avro_2.12 added as a dependency\n",
      "io.delta#delta-iceberg_2.12 added as a dependency\n",
      ":: resolving dependencies :: org.apache.spark#spark-submit-parent-cf1fc7fa-4335-46b2-b910-ed89b986b73a;1.0\n",
      "\tconfs: [default]\n",
      "\tfound org.apache.spark#spark-avro_2.12;3.5.0 in central\n"
     ]
    },
    {
     "name": "stdout",
     "output_type": "stream",
     "text": [
      ":: loading settings :: url = jar:file:/home/osbdet/.jupyter_venv/lib/python3.11/site-packages/pyspark/jars/ivy-2.5.1.jar!/org/apache/ivy/core/settings/ivysettings.xml\n"
     ]
    },
    {
     "name": "stderr",
     "output_type": "stream",
     "text": [
      "\tfound org.tukaani#xz;1.9 in central\n",
      "\tfound io.delta#delta-iceberg_2.12;3.0.0 in central\n",
      "\tfound io.delta#delta-spark_2.12;3.0.0 in central\n",
      "\tfound io.delta#delta-storage;3.0.0 in central\n",
      "\tfound org.antlr#antlr4-runtime;4.9.3 in central\n",
      "\tfound org.scala-lang.modules#scala-collection-compat_2.12;2.1.1 in central\n",
      "\tfound com.github.ben-manes.caffeine#caffeine;2.9.3 in central\n",
      "\tfound org.checkerframework#checker-qual;3.19.0 in central\n",
      "\tfound com.google.errorprone#error_prone_annotations;2.10.0 in central\n",
      ":: resolution report :: resolve 193ms :: artifacts dl 6ms\n",
      "\t:: modules in use:\n",
      "\tcom.github.ben-manes.caffeine#caffeine;2.9.3 from central in [default]\n",
      "\tcom.google.errorprone#error_prone_annotations;2.10.0 from central in [default]\n",
      "\tio.delta#delta-iceberg_2.12;3.0.0 from central in [default]\n",
      "\tio.delta#delta-spark_2.12;3.0.0 from central in [default]\n",
      "\tio.delta#delta-storage;3.0.0 from central in [default]\n",
      "\torg.antlr#antlr4-runtime;4.9.3 from central in [default]\n",
      "\torg.apache.spark#spark-avro_2.12;3.5.0 from central in [default]\n",
      "\torg.checkerframework#checker-qual;3.19.0 from central in [default]\n",
      "\torg.scala-lang.modules#scala-collection-compat_2.12;2.1.1 from central in [default]\n",
      "\torg.tukaani#xz;1.9 from central in [default]\n",
      "\t---------------------------------------------------------------------\n",
      "\t|                  |            modules            ||   artifacts   |\n",
      "\t|       conf       | number| search|dwnlded|evicted|| number|dwnlded|\n",
      "\t---------------------------------------------------------------------\n",
      "\t|      default     |   10  |   0   |   0   |   0   ||   10  |   0   |\n",
      "\t---------------------------------------------------------------------\n",
      ":: retrieving :: org.apache.spark#spark-submit-parent-cf1fc7fa-4335-46b2-b910-ed89b986b73a\n",
      "\tconfs: [default]\n",
      "\t0 artifacts copied, 10 already retrieved (0kB/7ms)\n",
      "25/03/13 16:56:29 WARN NativeCodeLoader: Unable to load native-hadoop library for your platform... using builtin-java classes where applicable\n",
      "Setting default log level to \"WARN\".\n",
      "To adjust logging level use sc.setLogLevel(newLevel). For SparkR, use setLogLevel(newLevel).\n",
      "Setting Spark log level to \"ERROR\".\n"
     ]
    }
   ],
   "source": [
    "from pyspark.sql.session import SparkSession\n",
    "\n",
    "spark = (SparkSession.builder\n",
    "    .appName(notebook_name)\n",
    "    .config(\"spark.log.level\",\"ERROR\")\n",
    "    .config(\"spark.sql.warehouse.dir\",hdfs_warehouse_base_path)\n",
    "    .config(\"spark.sql.extensions\", \"io.delta.sql.DeltaSparkSessionExtension\")\n",
    "    .config(\"spark.sql.catalog.spark_catalog\", \"org.apache.spark.sql.delta.catalog.DeltaCatalog\")\n",
    "    .enableHiveSupport()\n",
    "    .getOrCreate()\n",
    ")"
   ]
  },
  {
   "cell_type": "code",
   "execution_count": 7,
   "id": "9d38b83a-9d3a-4729-a3d2-34a4c988310e",
   "metadata": {},
   "outputs": [
    {
     "name": "stderr",
     "output_type": "stream",
     "text": [
      "[Stage 1:=======================================>                   (2 + 1) / 3]\r"
     ]
    },
    {
     "name": "stdout",
     "output_type": "stream",
     "text": [
      "Loaded DataFrame for BTC_raw\n",
      "Loaded DataFrame for Trump_raw\n"
     ]
    },
    {
     "name": "stderr",
     "output_type": "stream",
     "text": [
      "                                                                                \r"
     ]
    }
   ],
   "source": [
    "base_path = f\"{hdfs_lakehouse_base_path}/bronze/trump_btc\"\n",
    "\n",
    "# List of folder names (from the structure provided)\n",
    "folder_names = [\"BTC\", \"Trump\"]\n",
    "\n",
    "# Dictionary to store DataFrames\n",
    "dataframes = {}\n",
    "\n",
    "# Loop through each folder and read the CSV file inside it\n",
    "for folder_name in folder_names:\n",
    "    # Construct the file path\n",
    "    file_path = os.path.join(base_path, folder_name)\n",
    "    \n",
    "    # Read the CSV file into a DataFrame\n",
    "    dataframes[folder_name] = (spark.read\n",
    "                                        .option(\"header\", \"true\")\n",
    "                                        .option(\"inferSchema\", \"true\")\n",
    "                                        .csv(file_path))\n",
    "    print(f\"Loaded DataFrame for {folder_name}_raw\")\n",
    "\n",
    "# Example: Accessing one of the DataFrames\n",
    "btc_df = dataframes[\"BTC\"]\n",
    "trump_df=dataframes[\"Trump\"]\n"
   ]
  },
  {
   "cell_type": "code",
   "execution_count": 12,
   "id": "4cad9e13-2e55-403d-b7a4-aef78086ffb3",
   "metadata": {},
   "outputs": [
    {
     "name": "stdout",
     "output_type": "stream",
     "text": [
      "+------------+----+----+----+-----+------+\n",
      "|   Timestamp|Open|High| Low|Close|Volume|\n",
      "+------------+----+----+----+-----+------+\n",
      "|1.32541206E9|4.58|4.58|4.58| 4.58|   0.0|\n",
      "|1.32541212E9|4.58|4.58|4.58| 4.58|   0.0|\n",
      "|1.32541218E9|4.58|4.58|4.58| 4.58|   0.0|\n",
      "|1.32541224E9|4.58|4.58|4.58| 4.58|   0.0|\n",
      "| 1.3254123E9|4.58|4.58|4.58| 4.58|   0.0|\n",
      "|1.32541236E9|4.58|4.58|4.58| 4.58|   0.0|\n",
      "|1.32541242E9|4.58|4.58|4.58| 4.58|   0.0|\n",
      "|1.32541248E9|4.58|4.58|4.58| 4.58|   0.0|\n",
      "|1.32541254E9|4.58|4.58|4.58| 4.58|   0.0|\n",
      "| 1.3254126E9|4.58|4.58|4.58| 4.58|   0.0|\n",
      "|1.32541266E9|4.58|4.58|4.58| 4.58|   0.0|\n",
      "|1.32541272E9|4.58|4.58|4.58| 4.58|   0.0|\n",
      "|1.32541278E9|4.58|4.58|4.58| 4.58|   0.0|\n",
      "|1.32541284E9|4.58|4.58|4.58| 4.58|   0.0|\n",
      "| 1.3254129E9|4.58|4.58|4.58| 4.58|   0.0|\n",
      "|1.32541296E9|4.58|4.58|4.58| 4.58|   0.0|\n",
      "|1.32541302E9|4.58|4.58|4.58| 4.58|   0.0|\n",
      "|1.32541308E9|4.58|4.58|4.58| 4.58|   0.0|\n",
      "|1.32541314E9|4.58|4.58|4.58| 4.58|   0.0|\n",
      "| 1.3254132E9|4.58|4.58|4.58| 4.58|   0.0|\n",
      "+------------+----+----+----+-----+------+\n",
      "only showing top 20 rows\n",
      "\n"
     ]
    }
   ],
   "source": [
    "btc_df.show()"
   ]
  },
  {
   "cell_type": "code",
   "execution_count": 9,
   "id": "9b5a943d-eac4-4598-9a66-1d72fa1b15c7",
   "metadata": {},
   "outputs": [
    {
     "data": {
      "text/html": [
       "<div>\n",
       "<style scoped>\n",
       "    .dataframe tbody tr th:only-of-type {\n",
       "        vertical-align: middle;\n",
       "    }\n",
       "\n",
       "    .dataframe tbody tr th {\n",
       "        vertical-align: top;\n",
       "    }\n",
       "\n",
       "    .dataframe thead th {\n",
       "        text-align: right;\n",
       "    }\n",
       "</style>\n",
       "<table border=\"1\" class=\"dataframe\">\n",
       "  <thead>\n",
       "    <tr style=\"text-align: right;\">\n",
       "      <th></th>\n",
       "      <th>date</th>\n",
       "      <th>favorites</th>\n",
       "      <th>id</th>\n",
       "      <th>isRetweet</th>\n",
       "      <th>retweets</th>\n",
       "      <th>text</th>\n",
       "    </tr>\n",
       "  </thead>\n",
       "  <tbody>\n",
       "    <tr>\n",
       "      <th>0</th>\n",
       "      <td>1730689722303</td>\n",
       "      <td>0</td>\n",
       "      <td>113422481640840196</td>\n",
       "      <td>True</td>\n",
       "      <td>0</td>\n",
       "      <td>\"&lt;p&gt;RT &lt;span class=\"\"h-card\"\"&gt;&lt;a href=\"\"https://truthsocial.com/@TeamTrump\"\" class=\"\"u-url mention\"\"&gt;@&lt;span&gt;TeamTrump&lt;/span&gt;&lt;/a&gt;&lt;/span&gt;PRESIDENT TRUMP: I’d like to begin by asking a question. Are you better off now than you were 4 years ago?&lt;/p&gt;&lt;p&gt;With your vote on Tuesday</td>\n",
       "    </tr>\n",
       "    <tr>\n",
       "      <th>1</th>\n",
       "      <td>1730676754118</td>\n",
       "      <td>12350</td>\n",
       "      <td>113421631757789522</td>\n",
       "      <td>False</td>\n",
       "      <td>3124</td>\n",
       "      <td>\"&lt;p&gt;KAMALA BROKE IT, BUT I WILL FIX IT! With your VOTE, inflation will END. The border will be SAFE &amp;amp; SECURE. We will have PEACE across the globe. WITH YOUR VOTE, AMERICA WILL ENTER A NEW GOLDEN AGE! Vote TRUMP to MAKE AMERICA GREAT AGAIN! &lt;a href=\"\"https://links.truthsocial.com/link/112559845980056031\"\" rel=\"\"nofollow noopener noreferrer\"\" target=\"\"_blank\"\"&gt;&lt;span class=\"\"invisible\"\"&gt;https://&lt;/span&gt;&lt;span class=\"\"\"\"&gt;swampthevoteusa.com/&lt;/span&gt;&lt;span class=\"\"invisible\"\"&gt;&lt;/span&gt;&lt;/a&gt;&lt;/p&gt;\"</td>\n",
       "    </tr>\n",
       "    <tr>\n",
       "      <th>2</th>\n",
       "      <td>1730657728247</td>\n",
       "      <td>0</td>\n",
       "      <td>113420384878459920</td>\n",
       "      <td>True</td>\n",
       "      <td>0</td>\n",
       "      <td>\"&lt;p&gt;RT &lt;span class=\"\"h-card\"\"&gt;&lt;a href=\"\"https://truthsocial.com/@TeamTrump\"\" class=\"\"u-url mention\"\"&gt;@&lt;span&gt;TeamTrump&lt;/span&gt;&lt;/a&gt;&lt;/span&gt;PRESIDENT TRUMP: IN CONCLUSION</td>\n",
       "    </tr>\n",
       "    <tr>\n",
       "      <th>3</th>\n",
       "      <td>1730611542332</td>\n",
       "      <td>17960</td>\n",
       "      <td>113417358038328332</td>\n",
       "      <td>False</td>\n",
       "      <td>5386</td>\n",
       "      <td>&lt;p&gt;If Kamala wins, you are 3 days away from the start of a 1929-style economic depression. If I win, you are 3 days away from the best jobs, the biggest paychecks, and the brightest economic future the world has ever seen.&lt;/p&gt;&lt;p&gt;Kamala’s inflation nightmare has cost the typical American family $30,000 dollars in higher prices—and now, she wants to impose the largest tax hike in American history, and raise your taxes by $3,000 dollars a year. &lt;/p&gt;&lt;p&gt;I will massively cut taxes for workers and small businesses—and we will have NO TAX ON TIPS, NO TAX ON OVERTIME, and NO TAX ON SOCIAL SECURITY benefits!&lt;/p&gt;</td>\n",
       "    </tr>\n",
       "    <tr>\n",
       "      <th>4</th>\n",
       "      <td>1730509334162</td>\n",
       "      <td>8165</td>\n",
       "      <td>113410659723667193</td>\n",
       "      <td>False</td>\n",
       "      <td>1919</td>\n",
       "      <td>&lt;p&gt;Patrick Morrisey, of West Virginia, has been a wonderful Attorney General, and will now be an incredible Governor! He will fight tirelessly to Grow the Economy, Stop Inflation, Secure our Border, Restore American Energy DOMINANCE, Strengthen our Military/Vets, and Protect our always under siege Second Amendment. Patrick will work closely with me to enact our America First Agenda, and is a FANTASTIC person to replace my friend and future U.S. Senator, Jim Justice. Patrick Morrisey is my friend, and has my Complete and Total Endorsement - HE WILL NOT LET YOU DOWN!&lt;/p&gt;</td>\n",
       "    </tr>\n",
       "  </tbody>\n",
       "</table>\n",
       "</div>"
      ],
      "text/plain": [
       "            date  favorites                  id  isRetweet  retweets  \\\n",
       "0  1730689722303          0  113422481640840196       True         0   \n",
       "1  1730676754118      12350  113421631757789522      False      3124   \n",
       "2  1730657728247          0  113420384878459920       True         0   \n",
       "3  1730611542332      17960  113417358038328332      False      5386   \n",
       "4  1730509334162       8165  113410659723667193      False      1919   \n",
       "\n",
       "                                                                                                                                                                                                                                                                                                                                                                                                                                                                                                                                                                                                                                text  \n",
       "0                                                                                                                                                                                                                                                                                                                                                  \"<p>RT <span class=\"\"h-card\"\"><a href=\"\"https://truthsocial.com/@TeamTrump\"\" class=\"\"u-url mention\"\">@<span>TeamTrump</span></a></span>PRESIDENT TRUMP: I’d like to begin by asking a question. Are you better off now than you were 4 years ago?</p><p>With your vote on Tuesday  \n",
       "1                                                                                                                       \"<p>KAMALA BROKE IT, BUT I WILL FIX IT! With your VOTE, inflation will END. The border will be SAFE &amp; SECURE. We will have PEACE across the globe. WITH YOUR VOTE, AMERICA WILL ENTER A NEW GOLDEN AGE! Vote TRUMP to MAKE AMERICA GREAT AGAIN! <a href=\"\"https://links.truthsocial.com/link/112559845980056031\"\" rel=\"\"nofollow noopener noreferrer\"\" target=\"\"_blank\"\"><span class=\"\"invisible\"\">https://</span><span class=\"\"\"\">swampthevoteusa.com/</span><span class=\"\"invisible\"\"></span></a></p>\"  \n",
       "2                                                                                                                                                                                                                                                                                                                                                                                                                                                              \"<p>RT <span class=\"\"h-card\"\"><a href=\"\"https://truthsocial.com/@TeamTrump\"\" class=\"\"u-url mention\"\">@<span>TeamTrump</span></a></span>PRESIDENT TRUMP: IN CONCLUSION  \n",
       "3  <p>If Kamala wins, you are 3 days away from the start of a 1929-style economic depression. If I win, you are 3 days away from the best jobs, the biggest paychecks, and the brightest economic future the world has ever seen.</p><p>Kamala’s inflation nightmare has cost the typical American family $30,000 dollars in higher prices—and now, she wants to impose the largest tax hike in American history, and raise your taxes by $3,000 dollars a year. </p><p>I will massively cut taxes for workers and small businesses—and we will have NO TAX ON TIPS, NO TAX ON OVERTIME, and NO TAX ON SOCIAL SECURITY benefits!</p>  \n",
       "4                                    <p>Patrick Morrisey, of West Virginia, has been a wonderful Attorney General, and will now be an incredible Governor! He will fight tirelessly to Grow the Economy, Stop Inflation, Secure our Border, Restore American Energy DOMINANCE, Strengthen our Military/Vets, and Protect our always under siege Second Amendment. Patrick will work closely with me to enact our America First Agenda, and is a FANTASTIC person to replace my friend and future U.S. Senator, Jim Justice. Patrick Morrisey is my friend, and has my Complete and Total Endorsement - HE WILL NOT LET YOU DOWN!</p>  "
      ]
     },
     "execution_count": 9,
     "metadata": {},
     "output_type": "execute_result"
    }
   ],
   "source": [
    "trump_df.toPandas().head()"
   ]
  },
  {
   "cell_type": "code",
   "execution_count": 10,
   "id": "2563c96f-1e50-4056-b9bd-09d56442c290",
   "metadata": {},
   "outputs": [],
   "source": [
    "from pyspark.sql.functions import col, from_unixtime, date_format\n",
    "\n",
    "# If the timestamps are in milliseconds, divide by 1000\n",
    "btc_df_std = btc_df.withColumnRenamed(\"Timestamp\", \"date\") \\\n",
    "                   .withColumn(\"date\", date_format(from_unixtime(col(\"date\")), \"yyyy-MM-dd HH:mm:ss\")) \\\n",
    "                   .dropna()  # Remove missing values\n",
    "\n"
   ]
  },
  {
   "cell_type": "code",
   "execution_count": 11,
   "id": "a6ba70a7-9f42-4f1f-9dde-39594a660fba",
   "metadata": {},
   "outputs": [
    {
     "name": "stdout",
     "output_type": "stream",
     "text": [
      "+-------------------+----+----+----+-----+------+\n",
      "|               date|Open|High| Low|Close|Volume|\n",
      "+-------------------+----+----+----+-----+------+\n",
      "|2012-01-01 11:01:00|4.58|4.58|4.58| 4.58|   0.0|\n",
      "|2012-01-01 11:02:00|4.58|4.58|4.58| 4.58|   0.0|\n",
      "|2012-01-01 11:03:00|4.58|4.58|4.58| 4.58|   0.0|\n",
      "|2012-01-01 11:04:00|4.58|4.58|4.58| 4.58|   0.0|\n",
      "|2012-01-01 11:05:00|4.58|4.58|4.58| 4.58|   0.0|\n",
      "+-------------------+----+----+----+-----+------+\n",
      "only showing top 5 rows\n",
      "\n"
     ]
    }
   ],
   "source": [
    "btc_df_std.show(5)"
   ]
  },
  {
   "cell_type": "code",
   "execution_count": null,
   "id": "a3d6ecfa-34ee-4ffd-ace1-698605dd7127",
   "metadata": {},
   "outputs": [],
   "source": [
    "btc_df_std.tail(5)"
   ]
  },
  {
   "cell_type": "code",
   "execution_count": null,
   "id": "be00cfaf-b75d-410a-ba93-a5c2c3364ef3",
   "metadata": {},
   "outputs": [],
   "source": [
    "#spark.sql(\"DROP SCHEMA trump_btc CASCADE\")"
   ]
  },
  {
   "cell_type": "code",
   "execution_count": null,
   "id": "f0bcc844-5105-4408-8a5a-4a1b3de57fd0",
   "metadata": {},
   "outputs": [],
   "source": [
    "spark.sql(\"CREATE SCHEMA IF NOT EXISTS trump_btc\")"
   ]
  },
  {
   "cell_type": "code",
   "execution_count": null,
   "id": "ca792d70-dcac-4435-9c2f-003f7a6aa502",
   "metadata": {},
   "outputs": [],
   "source": [
    "#saving btc data it in silver\n",
    "(btc_df_std.write\n",
    "            .format(\"delta\")\n",
    "            .mode(\"overwrite\")\n",
    "            .option(\"path\",f\"{hdfs_lakehouse_base_path}/silver/trump_btc/BTC/\")\n",
    "            .saveAsTable(\"trump_btc.BTC\")\n",
    ")\n"
   ]
  },
  {
   "cell_type": "code",
   "execution_count": null,
   "id": "b117e4fe-fedb-4629-8201-f29b456cf19a",
   "metadata": {},
   "outputs": [],
   "source": [
    "from pyspark.sql import SparkSession\n",
    "from pyspark.sql.functions import col, from_unixtime, date_format,regexp_replace\n",
    "from pyspark.sql.types import StringType, BooleanType, DoubleType, LongType, TimestampType\n",
    "import re\n",
    "\n",
    "trump_df = trump_df.withColumn(\"date\", col(\"date\").cast(\"bigInt\"))\n",
    "trump_df = trump_df.withColumn(\"date\", date_format(from_unixtime(col(\"date\") / 1000), \"yyyy-MM-dd HH:mm:ss\"))\n",
    "trump_df = trump_df.withColumn(\"text\", regexp_replace(col(\"text\"), \"<[^>]+>\", \"\"))\n"
   ]
  },
  {
   "cell_type": "code",
   "execution_count": null,
   "id": "fc1be1ad-3788-4619-9c35-680140cfef4f",
   "metadata": {},
   "outputs": [],
   "source": [
    "trump_df_std=trump_df\n",
    "trump_df_std.show()"
   ]
  },
  {
   "cell_type": "code",
   "execution_count": null,
   "id": "55560ede-e965-4999-9a84-afb633718768",
   "metadata": {},
   "outputs": [],
   "source": [
    "#saving btc data it in silver\n",
    "(trump_df_std.write\n",
    "            .format(\"delta\")\n",
    "            .mode(\"overwrite\")\n",
    "            .option(\"path\",f\"{hdfs_lakehouse_base_path}/silver/trump_btc/trump/\")\n",
    "            .saveAsTable(\"trump_btc.trump\")\n",
    ")\n"
   ]
  },
  {
   "cell_type": "code",
   "execution_count": null,
   "id": "b978b9cf-df03-4cbe-aacf-29940eaf3bec",
   "metadata": {},
   "outputs": [],
   "source": [
    "%%sparksql\n",
    "SELECT *\n",
    "FROM trump_btc.trump\n",
    "LIMIT 10"
   ]
  },
  {
   "cell_type": "code",
   "execution_count": null,
   "id": "319c4613-1ae3-41ba-bbeb-864fd2897705",
   "metadata": {},
   "outputs": [],
   "source": []
  },
  {
   "cell_type": "code",
   "execution_count": null,
   "id": "388bb932-1942-45c6-a787-eb60a424b3ae",
   "metadata": {},
   "outputs": [],
   "source": []
  },
  {
   "cell_type": "code",
   "execution_count": null,
   "id": "42e54069-7694-4c4c-849a-3b864a156ce9",
   "metadata": {},
   "outputs": [],
   "source": []
  },
  {
   "cell_type": "code",
   "execution_count": null,
   "id": "6ac2b1bc-beee-4efd-b6bd-75707afffcf0",
   "metadata": {},
   "outputs": [],
   "source": []
  },
  {
   "cell_type": "code",
   "execution_count": null,
   "id": "fd82f60e-d240-4303-a4d1-9b476d7e0bb5",
   "metadata": {},
   "outputs": [],
   "source": []
  },
  {
   "cell_type": "code",
   "execution_count": null,
   "id": "a80956e0-6d0a-4745-9f90-9a371c1c56f8",
   "metadata": {},
   "outputs": [],
   "source": []
  }
 ],
 "metadata": {
  "kernelspec": {
   "display_name": "Python 3 (ipykernel)",
   "language": "python",
   "name": "python3"
  },
  "language_info": {
   "codemirror_mode": {
    "name": "ipython",
    "version": 3
   },
   "file_extension": ".py",
   "mimetype": "text/x-python",
   "name": "python",
   "nbconvert_exporter": "python",
   "pygments_lexer": "ipython3",
   "version": "3.11.2"
  }
 },
 "nbformat": 4,
 "nbformat_minor": 5
}
