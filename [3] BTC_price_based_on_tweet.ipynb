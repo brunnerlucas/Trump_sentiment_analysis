{
 "cells": [
  {
   "cell_type": "code",
   "execution_count": 1,
   "id": "4fdff860-4c50-4ace-9232-c19cce7f2fa0",
   "metadata": {},
   "outputs": [],
   "source": [
    "import pandas as pd\n",
    "pd.set_option('display.max_colwidth', None)"
   ]
  },
  {
   "cell_type": "code",
   "execution_count": 2,
   "id": "95eb65a3-f427-4de9-a991-5016e82ed18f",
   "metadata": {},
   "outputs": [],
   "source": [
    "import numpy as np\n",
    "np.bool = np.bool_"
   ]
  },
  {
   "cell_type": "code",
   "execution_count": 3,
   "id": "5cc3163a-f87f-40b6-a3b3-e8990099f371",
   "metadata": {},
   "outputs": [],
   "source": [
    "#current notebook name\n",
    "notebook_name = __session__.replace('.ipynb','')[__session__.rfind('/')+1:] "
   ]
  },
  {
   "cell_type": "code",
   "execution_count": 4,
   "id": "f454bcc9-c6fc-4533-bc33-fc0bb6807cae",
   "metadata": {},
   "outputs": [],
   "source": [
    "# HDFS base paths\n",
    "hdfs_lakehouse_base_path = 'hdfs://localhost:9000/lakehouse/'\n",
    "hdfs_warehouse_base_path = 'hdfs://localhost:9000/warehouse'"
   ]
  },
  {
   "cell_type": "code",
   "execution_count": 5,
   "id": "76a1aa20-2918-4576-a089-f9c370723006",
   "metadata": {},
   "outputs": [],
   "source": [
    "import os\n",
    "dependencies = [\"org.apache.spark:spark-avro_2.12:3.5.0\",\n",
    "                \"io.delta:delta-iceberg_2.12:3.0.0\"]\n",
    "os.environ['PYSPARK_SUBMIT_ARGS']= f\"--packages {','.join(dependencies)} pyspark-shell\"\n",
    "os.environ['PYARROW_IGNORE_TIMEZONE'] = 'true'"
   ]
  },
  {
   "cell_type": "code",
   "execution_count": 6,
   "id": "3e060c80-1e31-4219-98bb-5cca83e8617d",
   "metadata": {},
   "outputs": [
    {
     "name": "stderr",
     "output_type": "stream",
     "text": [
      "25/03/01 17:09:10 WARN Utils: Your hostname, osbdet resolves to a loopback address: 127.0.0.1; using 10.0.2.15 instead (on interface enp0s1)\n",
      "25/03/01 17:09:10 WARN Utils: Set SPARK_LOCAL_IP if you need to bind to another address\n",
      "Ivy Default Cache set to: /home/osbdet/.ivy2/cache\n",
      "The jars for the packages stored in: /home/osbdet/.ivy2/jars\n",
      "org.apache.spark#spark-avro_2.12 added as a dependency\n",
      "io.delta#delta-iceberg_2.12 added as a dependency\n",
      ":: resolving dependencies :: org.apache.spark#spark-submit-parent-4984b617-a2d0-4ef4-a19f-8f336303a6d5;1.0\n",
      "\tconfs: [default]\n",
      "\tfound org.apache.spark#spark-avro_2.12;3.5.0 in central\n"
     ]
    },
    {
     "name": "stdout",
     "output_type": "stream",
     "text": [
      ":: loading settings :: url = jar:file:/home/osbdet/.jupyter_venv/lib/python3.11/site-packages/pyspark/jars/ivy-2.5.1.jar!/org/apache/ivy/core/settings/ivysettings.xml\n"
     ]
    },
    {
     "name": "stderr",
     "output_type": "stream",
     "text": [
      "\tfound org.tukaani#xz;1.9 in central\n",
      "\tfound io.delta#delta-iceberg_2.12;3.0.0 in central\n",
      "\tfound io.delta#delta-spark_2.12;3.0.0 in central\n",
      "\tfound io.delta#delta-storage;3.0.0 in central\n",
      "\tfound org.antlr#antlr4-runtime;4.9.3 in central\n",
      "\tfound org.scala-lang.modules#scala-collection-compat_2.12;2.1.1 in central\n",
      "\tfound com.github.ben-manes.caffeine#caffeine;2.9.3 in central\n",
      "\tfound org.checkerframework#checker-qual;3.19.0 in central\n",
      "\tfound com.google.errorprone#error_prone_annotations;2.10.0 in central\n",
      ":: resolution report :: resolve 189ms :: artifacts dl 4ms\n",
      "\t:: modules in use:\n",
      "\tcom.github.ben-manes.caffeine#caffeine;2.9.3 from central in [default]\n",
      "\tcom.google.errorprone#error_prone_annotations;2.10.0 from central in [default]\n",
      "\tio.delta#delta-iceberg_2.12;3.0.0 from central in [default]\n",
      "\tio.delta#delta-spark_2.12;3.0.0 from central in [default]\n",
      "\tio.delta#delta-storage;3.0.0 from central in [default]\n",
      "\torg.antlr#antlr4-runtime;4.9.3 from central in [default]\n",
      "\torg.apache.spark#spark-avro_2.12;3.5.0 from central in [default]\n",
      "\torg.checkerframework#checker-qual;3.19.0 from central in [default]\n",
      "\torg.scala-lang.modules#scala-collection-compat_2.12;2.1.1 from central in [default]\n",
      "\torg.tukaani#xz;1.9 from central in [default]\n",
      "\t---------------------------------------------------------------------\n",
      "\t|                  |            modules            ||   artifacts   |\n",
      "\t|       conf       | number| search|dwnlded|evicted|| number|dwnlded|\n",
      "\t---------------------------------------------------------------------\n",
      "\t|      default     |   10  |   0   |   0   |   0   ||   10  |   0   |\n",
      "\t---------------------------------------------------------------------\n",
      ":: retrieving :: org.apache.spark#spark-submit-parent-4984b617-a2d0-4ef4-a19f-8f336303a6d5\n",
      "\tconfs: [default]\n",
      "\t0 artifacts copied, 10 already retrieved (0kB/3ms)\n",
      "25/03/01 17:09:10 WARN NativeCodeLoader: Unable to load native-hadoop library for your platform... using builtin-java classes where applicable\n",
      "Setting default log level to \"WARN\".\n",
      "To adjust logging level use sc.setLogLevel(newLevel). For SparkR, use setLogLevel(newLevel).\n",
      "Setting Spark log level to \"ERROR\".\n"
     ]
    }
   ],
   "source": [
    "from pyspark.sql.session import SparkSession\n",
    "\n",
    "spark = (SparkSession.builder\n",
    "    .appName(notebook_name)\n",
    "    .config(\"spark.log.level\",\"ERROR\")\n",
    "    .config(\"spark.sql.warehouse.dir\",hdfs_warehouse_base_path)\n",
    "    .config(\"spark.sql.extensions\", \"io.delta.sql.DeltaSparkSessionExtension\")\n",
    "    .config(\"spark.sql.catalog.spark_catalog\", \"org.apache.spark.sql.delta.catalog.DeltaCatalog\")\n",
    "    .config(\"spark.executorEnv.PYTHONPATH\", \"/path/to/your/venv/lib/python3.11/site-packages\") \\\n",
    "\n",
    "    .enableHiveSupport()\n",
    "    .getOrCreate()\n",
    ")"
   ]
  },
  {
   "cell_type": "code",
   "execution_count": 7,
   "id": "9d38b83a-9d3a-4729-a3d2-34a4c988310e",
   "metadata": {},
   "outputs": [
    {
     "name": "stderr",
     "output_type": "stream",
     "text": [
      "                                                                                \r"
     ]
    }
   ],
   "source": [
    "trump_tweet_with_sentiment_analysis = spark.read.format(\"delta\").load(f\"{hdfs_lakehouse_base_path}/gold/trump_btc/trump_tweet_with_sentiment_analysis\").cache()\n",
    "btc_price = spark.read.format(\"delta\").load(f\"{hdfs_lakehouse_base_path}/silver/trump_btc/BTC/\").cache()\n"
   ]
  },
  {
   "cell_type": "code",
   "execution_count": 8,
   "id": "45ffb1fe-0fa9-4845-ab9f-5f5fc1617329",
   "metadata": {},
   "outputs": [
    {
     "name": "stderr",
     "output_type": "stream",
     "text": [
      "[Stage 18:======================================>                   (2 + 1) / 3]\r"
     ]
    },
    {
     "name": "stdout",
     "output_type": "stream",
     "text": [
      "+------------+----+----+----+-----+------+-------------------+\n",
      "|   Timestamp|Open|High| Low|Close|Volume|               date|\n",
      "+------------+----+----+----+-----+------+-------------------+\n",
      "|1.32541206E9|4.58|4.58|4.58| 4.58|   0.0|2012-01-01 11:01:00|\n",
      "|1.32541212E9|4.58|4.58|4.58| 4.58|   0.0|2012-01-01 11:02:00|\n",
      "|1.32541218E9|4.58|4.58|4.58| 4.58|   0.0|2012-01-01 11:03:00|\n",
      "|1.32541224E9|4.58|4.58|4.58| 4.58|   0.0|2012-01-01 11:04:00|\n",
      "| 1.3254123E9|4.58|4.58|4.58| 4.58|   0.0|2012-01-01 11:05:00|\n",
      "+------------+----+----+----+-----+------+-------------------+\n",
      "only showing top 5 rows\n",
      "\n"
     ]
    },
    {
     "name": "stderr",
     "output_type": "stream",
     "text": [
      "                                                                                \r"
     ]
    }
   ],
   "source": [
    "btc_price.orderBy(\"date\").show(5)"
   ]
  },
  {
   "cell_type": "code",
   "execution_count": 9,
   "id": "339a753c-30ae-4661-ae47-94beb4954186",
   "metadata": {},
   "outputs": [
    {
     "name": "stdout",
     "output_type": "stream",
     "text": [
      "+-------------------+---------+--------------------+---------+--------+--------------------+---------------+\n",
      "|               date|favorites|                  id|isRetweet|retweets|                text|sentiment_score|\n",
      "+-------------------+---------+--------------------+---------+--------+--------------------+---------------+\n",
      "|               NULL|      NaN|                 NaN|     NULL|     NaN|                NULL|            0.0|\n",
      "|               NULL|      NaN|                 NaN|     NULL|     NaN|                NULL|            0.0|\n",
      "|2011-08-22 22:33:46|    193.0|1.057394600749383...|    false|   299.0|We don't need ano...|        -0.6908|\n",
      "|2011-09-06 22:23:34|    105.0|1.111727130155458...|    false|   167.0|@BarackObama tril...|        -0.5563|\n",
      "|2011-09-09 20:30:23|     23.0|1.122313901285130...|    false|    80.0|@BarackObama---th...|          -0.25|\n",
      "|2011-09-20 15:17:36|     11.0|1.161389434178109...|    false|    38.0|\"@BarackObama's m...|            0.0|\n",
      "|2011-10-07 21:21:06|     18.0|1.223910133345812...|    false|    58.0|@BarackObama is t...|        -0.7717|\n",
      "|2011-10-24 21:45:10|     28.0|1.285576640441999...|    false|   174.0|The job plan by @...|        -0.5106|\n",
      "|2011-11-17 21:17:35|     15.0|1.372631303581982...|    false|    69.0|\"The stimulus \"\"i...|        -0.1779|\n",
      "|2011-11-29 19:51:40|     14.0|1.415901625756057...|    false|   107.0|\"The CBO has conf...|        -0.2235|\n",
      "|2012-06-01 22:31:39|     51.0|2.086570810274037...|    false|   238.0|Waste! The CBO no...|        -0.2714|\n",
      "|2012-06-04 18:22:10|      9.0|2.096814620295864...|    false|    17.0|My @foxandfriends...|        -0.4215|\n",
      "|2012-06-22 18:38:48|     76.0|2.162086264429772...|    false|   359.0|The $9B that @Bar...|           0.25|\n",
      "|2012-08-07 16:05:21|    871.0|2.328398519453900...|    false|   753.0|The Fed should no...|        -0.4215|\n",
      "|2015-02-10 02:30:01|     54.0|5.649594392001986...|    false|    34.0|\"\"\"@1SimranjitSin...|            0.0|\n",
      "|2017-02-17 00:44:54|  79427.0|8.323752302744002...|    false| 15157.0|'Trump signs bill...|            0.0|\n",
      "|2017-12-30 22:12:45|  66759.0|9.472138952860549...|    false| 13561.0|On Taxes: “This i...|         0.0516|\n",
      "|2018-12-17 14:27:16|  92663.0|1.074657278974939...|    false| 20421.0|It is incredible ...|         0.6893|\n",
      "|2019-04-30 19:56:57|  47900.0|1.123285120864092...|    false| 11112.0|China is adding g...|         0.7655|\n",
      "|2019-06-11 14:08:30|   7803.0|1.138417723858456...|    false|  2363.0|This is because t...|        -0.4374|\n",
      "+-------------------+---------+--------------------+---------+--------+--------------------+---------------+\n",
      "only showing top 20 rows\n",
      "\n"
     ]
    }
   ],
   "source": [
    "trump_tweet_with_sentiment_analysis.orderBy(\"date\").show(20)"
   ]
  },
  {
   "cell_type": "code",
   "execution_count": 10,
   "id": "f10fb9a6-56f5-482c-bebd-ab33644f3e3a",
   "metadata": {},
   "outputs": [
    {
     "name": "stdout",
     "output_type": "stream",
     "text": [
      "+-------------------+---------+--------------------+---------+--------+--------------------+---------------+\n",
      "|               date|favorites|                  id|isRetweet|retweets|                text|sentiment_score|\n",
      "+-------------------+---------+--------------------+---------+--------+--------------------+---------------+\n",
      "|               NULL|      NaN|                 NaN|     NULL|     NaN|                NULL|            0.0|\n",
      "|               NULL|      NaN|                 NaN|     NULL|     NaN|                NULL|            0.0|\n",
      "|2011-08-22 22:33:46|    193.0|1.057394600749383...|    false|   299.0|We don't need ano...|        -0.6908|\n",
      "|2011-09-06 22:23:34|    105.0|1.111727130155458...|    false|   167.0|@BarackObama tril...|        -0.5563|\n",
      "|2011-09-09 20:30:23|     23.0|1.122313901285130...|    false|    80.0|@BarackObama---th...|          -0.25|\n",
      "|2011-09-20 15:17:36|     11.0|1.161389434178109...|    false|    38.0|\"@BarackObama's m...|            0.0|\n",
      "|2011-10-07 21:21:06|     18.0|1.223910133345812...|    false|    58.0|@BarackObama is t...|        -0.7717|\n",
      "|2011-10-24 21:45:10|     28.0|1.285576640441999...|    false|   174.0|The job plan by @...|        -0.5106|\n",
      "|2011-11-17 21:17:35|     15.0|1.372631303581982...|    false|    69.0|\"The stimulus \"\"i...|        -0.1779|\n",
      "|2011-11-29 19:51:40|     14.0|1.415901625756057...|    false|   107.0|\"The CBO has conf...|        -0.2235|\n",
      "|2012-06-01 22:31:39|     51.0|2.086570810274037...|    false|   238.0|Waste! The CBO no...|        -0.2714|\n",
      "|2012-06-04 18:22:10|      9.0|2.096814620295864...|    false|    17.0|My @foxandfriends...|        -0.4215|\n",
      "|2012-06-22 18:38:48|     76.0|2.162086264429772...|    false|   359.0|The $9B that @Bar...|           0.25|\n",
      "|2012-08-07 16:05:21|    871.0|2.328398519453900...|    false|   753.0|The Fed should no...|        -0.4215|\n",
      "|2015-02-10 02:30:01|     54.0|5.649594392001986...|    false|    34.0|\"\"\"@1SimranjitSin...|            0.0|\n",
      "|2017-02-17 00:44:54|  79427.0|8.323752302744002...|    false| 15157.0|'Trump signs bill...|            0.0|\n",
      "|2017-12-30 22:12:45|  66759.0|9.472138952860549...|    false| 13561.0|On Taxes: “This i...|         0.0516|\n",
      "|2018-12-17 14:27:16|  92663.0|1.074657278974939...|    false| 20421.0|It is incredible ...|         0.6893|\n",
      "|2019-04-30 19:56:57|  47900.0|1.123285120864092...|    false| 11112.0|China is adding g...|         0.7655|\n",
      "|2019-06-11 14:08:30|   7803.0|1.138417723858456...|    false|  2363.0|This is because t...|        -0.4374|\n",
      "+-------------------+---------+--------------------+---------+--------+--------------------+---------------+\n",
      "only showing top 20 rows\n",
      "\n"
     ]
    }
   ],
   "source": [
    "trump_tweet_with_sentiment_analysis.orderBy(\"date\").show(20)"
   ]
  },
  {
   "cell_type": "code",
   "execution_count": 11,
   "id": "7124ac7d-c3da-402a-9afc-3459617c8f6c",
   "metadata": {},
   "outputs": [],
   "source": [
    "from pyspark.sql.functions import date_format\n",
    "#removing the seconds from both DF\n",
    "trump_tweet_with_sentiment_analysis = trump_tweet_with_sentiment_analysis.withColumn(\"date\", date_format(\"date\", \"yyyy-MM-dd HH:mm\"))\n",
    "btc_price = btc_price.withColumn(\"date\", date_format(\"date\", \"yyyy-MM-dd HH:mm\"))\n"
   ]
  },
  {
   "cell_type": "code",
   "execution_count": 12,
   "id": "1498564c-b8b9-42e8-80e4-e87600e57fb3",
   "metadata": {},
   "outputs": [
    {
     "name": "stdout",
     "output_type": "stream",
     "text": [
      "+----------------+---------+--------------------+---------+--------+--------------------+---------------+\n",
      "|            date|favorites|                  id|isRetweet|retweets|                text|sentiment_score|\n",
      "+----------------+---------+--------------------+---------+--------+--------------------+---------------+\n",
      "|2024-10-31 17:16|   8601.0|1.134029284408450...|    false|  2282.0|\"I would like to ...|         0.8652|\n",
      "|2024-09-30 17:11|   8655.0|1.132271418381557...|    false|  2516.0|\"I promised to Ma...|         0.9151|\n",
      "|2024-09-24 17:02|      0.0|1.131931321423966...|     true|     0.0|\"RT @realtrumpcoi...|            0.0|\n",
      "|2024-09-22 00:22|   7797.0| 1.13177878498912E17|    false|  2029.0|\"https://justthen...|            0.0|\n",
      "|2024-09-21 23:31|   7113.0|1.131776764644532...|    false|  1909.0|\"“Trump Credits S...|          0.886|\n",
      "+----------------+---------+--------------------+---------+--------+--------------------+---------------+\n",
      "only showing top 5 rows\n",
      "\n",
      "+------------+-------+-------+-------+-------+-----------+----------------+\n",
      "|   Timestamp|   Open|   High|    Low|  Close|     Volume|            date|\n",
      "+------------+-------+-------+-------+-------+-----------+----------------+\n",
      "|1.49972868E9|2419.94| 2420.0|2418.95|2418.95| 4.07239513|2017-07-11 01:18|\n",
      "|1.49972874E9|2421.99| 2422.0|2419.18|2419.18|15.83349066|2017-07-11 01:19|\n",
      "| 1.4997288E9|2419.91|2421.96|2419.18|2421.95| 2.71926784|2017-07-11 01:20|\n",
      "|1.49972886E9|2421.96| 2422.0|2419.29| 2422.0|42.68201165|2017-07-11 01:21|\n",
      "|1.49972892E9|2420.33|2422.98|2414.79|2414.79|11.52859532|2017-07-11 01:22|\n",
      "+------------+-------+-------+-------+-------+-----------+----------------+\n",
      "only showing top 5 rows\n",
      "\n"
     ]
    }
   ],
   "source": [
    "trump_tweet_with_sentiment_analysis.show(5)\n",
    "btc_price.show(5)"
   ]
  },
  {
   "cell_type": "code",
   "execution_count": 13,
   "id": "dfa69c7e-d12c-42be-aaf5-0c6bab482a02",
   "metadata": {},
   "outputs": [
    {
     "name": "stdout",
     "output_type": "stream",
     "text": [
      "+----------------+---------+--------------------+---------+--------+--------------------+---------------+\n",
      "|            date|favorites|                  id|isRetweet|retweets|                text|sentiment_score|\n",
      "+----------------+---------+--------------------+---------+--------+--------------------+---------------+\n",
      "|2018-12-17 14:27|  92663.0|1.074657278974939...|    false| 20421.0|It is incredible ...|         0.6893|\n",
      "|2019-04-30 19:56|  47900.0|1.123285120864092...|    false| 11112.0|China is adding g...|         0.7655|\n",
      "|2019-07-19 14:06|   6049.0|1.152187923908976...|    false|  1562.0|....State which I...|         0.8932|\n",
      "|2019-07-19 14:16|  70874.0|1.152190440692756...|    false| 12980.0|....State which I...|         0.8932|\n",
      "|2019-08-08 16:38|  85995.0|1.159473909827297...|    false| 17705.0|As your President...|         0.9273|\n",
      "|2019-09-02 13:57|  15495.0|1.168493188056829...|    false|  4006.0|....Average hourl...|         0.7717|\n",
      "|2019-09-16 13:47|  32931.0|1.173564172635914...|    false|  7506.0|...The United Sta...|         0.8908|\n",
      "|2019-09-16 13:47|  38894.0|1.173564171847385...|    false|  8694.0|Producer prices i...|        -0.7371|\n",
      "|2020-09-16 16:30| 115030.0|1.306239033891315...|    false| 30950.0|Democrats are “he...|        -0.6476|\n",
      "|2020-10-03 19:46| 650131.0|1.312449034154504...|    false| 93323.0|OUR GREAT USA WAN...|         0.8236|\n",
      "|2020-10-07 01:36| 182368.0| 1.31362426784256E18|    false| 46938.0|Crazy Nancy Pelos...|        -0.6588|\n",
      "|2020-10-07 04:18| 346942.0|1.313664886648582...|    false| 98005.0|If I am sent a St...|         0.6808|\n",
      "|2020-10-12 15:56|  66532.0|1.315652617863864...|    false| 17477.0|The Republicans a...|         0.9611|\n",
      "|2020-10-12 23:14| 106542.0|1.315762862640439...|    false| 21160.0|Republicans shoul...|         0.8268|\n",
      "|2020-10-15 06:34|  90278.0|1.316598194894233...|    false| 18070.0|Nancy Pelosi coul...|         0.9427|\n",
      "|2020-10-21 23:31| 151389.0|1.319028569150943...|    false| 35096.0|Just don’t see an...|         0.6486|\n",
      "|2020-11-01 01:13|  70428.0|1.322693185663987...|    false| 16700.0|A vote for Biden ...|        -0.6709|\n",
      "|2020-11-01 06:53|      0.0|1.322778763663495...|     true|  7117.0|RT @GOP: “A vote ...|        -0.9059|\n",
      "|2020-11-02 22:20|  39784.0|1.323374386980753...|    false|  8695.0|Joe Biden’s plan ...|        -0.9455|\n",
      "|2020-12-17 15:52| 128722.0|1.339584378154885...|    false| 15211.0|All-time Stock Ma...|         0.8773|\n",
      "+----------------+---------+--------------------+---------+--------+--------------------+---------------+\n",
      "only showing top 20 rows\n",
      "\n"
     ]
    }
   ],
   "source": [
    "\n",
    "from pyspark.sql.functions import col\n",
    "#filtering the tweets with sentiment +- 0.5\n",
    "filtered_tweets = trump_tweet_with_sentiment_analysis.filter((trump_tweet_with_sentiment_analysis.sentiment_score > 0.5) | (trump_tweet_with_sentiment_analysis.sentiment_score < -0.5))\n",
    "#filtering because we only got data from 2012\n",
    "filtered_tweets = filtered_tweets.filter(col(\"date\") >= \"2012-01-01\")\n",
    "\n",
    "filtered_tweets.orderBy('date').show()"
   ]
  },
  {
   "cell_type": "code",
   "execution_count": 14,
   "id": "c0be2b5d-1560-4a8f-a974-933508ec7787",
   "metadata": {},
   "outputs": [],
   "source": [
    "correlated_df = btc_price.join(filtered_tweets, \"date\", \"left\")\n"
   ]
  },
  {
   "cell_type": "code",
   "execution_count": 15,
   "id": "fef51714-7473-49cf-aa14-9c60fcc2c484",
   "metadata": {},
   "outputs": [
    {
     "name": "stdout",
     "output_type": "stream",
     "text": [
      "+----------------+------------+-------+-------+-------+-------+-----------+---------+----+---------+--------+----+---------------+\n",
      "|            date|   Timestamp|   Open|   High|    Low|  Close|     Volume|favorites|  id|isRetweet|retweets|text|sentiment_score|\n",
      "+----------------+------------+-------+-------+-------+-------+-----------+---------+----+---------+--------+----+---------------+\n",
      "|2017-07-11 01:18|1.49972868E9|2419.94| 2420.0|2418.95|2418.95| 4.07239513|     NULL|NULL|     NULL|    NULL|NULL|           NULL|\n",
      "|2017-07-11 01:19|1.49972874E9|2421.99| 2422.0|2419.18|2419.18|15.83349066|     NULL|NULL|     NULL|    NULL|NULL|           NULL|\n",
      "|2017-07-11 01:20| 1.4997288E9|2419.91|2421.96|2419.18|2421.95| 2.71926784|     NULL|NULL|     NULL|    NULL|NULL|           NULL|\n",
      "|2017-07-11 01:21|1.49972886E9|2421.96| 2422.0|2419.29| 2422.0|42.68201165|     NULL|NULL|     NULL|    NULL|NULL|           NULL|\n",
      "|2017-07-11 01:22|1.49972892E9|2420.33|2422.98|2414.79|2414.79|11.52859532|     NULL|NULL|     NULL|    NULL|NULL|           NULL|\n",
      "+----------------+------------+-------+-------+-------+-------+-----------+---------+----+---------+--------+----+---------------+\n",
      "only showing top 5 rows\n",
      "\n"
     ]
    }
   ],
   "source": [
    "correlated_df.show(5)"
   ]
  },
  {
   "cell_type": "code",
   "execution_count": 16,
   "id": "a91b025d-33be-46f6-8bd6-ea34e8936b96",
   "metadata": {},
   "outputs": [
    {
     "name": "stderr",
     "output_type": "stream",
     "text": [
      "[Stage 31:>                                                         (0 + 1) / 1]\r"
     ]
    },
    {
     "name": "stdout",
     "output_type": "stream",
     "text": [
      "+----------------+------------+----------------+\n",
      "|date            |price_change|price_change_pct|\n",
      "+----------------+------------+----------------+\n",
      "|2012-01-01 11:01|0.0         |0.0             |\n",
      "|2012-01-01 11:02|0.0         |0.0             |\n",
      "|2012-01-01 11:03|0.0         |0.0             |\n",
      "|2012-01-01 11:04|0.0         |0.0             |\n",
      "|2012-01-01 11:05|0.0         |0.0             |\n",
      "|2012-01-01 11:06|0.0         |0.0             |\n",
      "|2012-01-01 11:07|0.0         |0.0             |\n",
      "|2012-01-01 11:08|0.0         |0.0             |\n",
      "|2012-01-01 11:09|0.0         |0.0             |\n",
      "|2012-01-01 11:10|0.0         |0.0             |\n",
      "+----------------+------------+----------------+\n",
      "only showing top 10 rows\n",
      "\n"
     ]
    },
    {
     "name": "stderr",
     "output_type": "stream",
     "text": [
      "                                                                                \r"
     ]
    }
   ],
   "source": [
    "from pyspark.sql.window import Window\n",
    "from pyspark.sql.functions import lead, col\n",
    "\n",
    "# Define window ordered by date (timestamp of tweet)\n",
    "windowSpec = Window.orderBy(\"date\")\n",
    "\n",
    "# Get BTC Close Price 1 minute after the tweet\n",
    "correlated_df = correlated_df.withColumn(\"next_close\", lead(\"Close\").over(windowSpec))\n",
    "\n",
    "# Compute absolute and percentage price change\n",
    "correlated_df = correlated_df.withColumn(\"price_change\", col(\"next_close\") - col(\"Close\"))\n",
    "correlated_df = correlated_df.withColumn(\"price_change_pct\", (col(\"price_change\") / col(\"Close\")) * 100)\n",
    "\n",
    "# Select only necessary columns\n",
    "correlated_df = correlated_df.select(\"date\", \"price_change\", \"price_change_pct\")\n",
    "\n",
    "# Show results\n",
    "correlated_df.show(10, truncate=False)\n",
    "\n"
   ]
  },
  {
   "cell_type": "code",
   "execution_count": 17,
   "id": "f3d7a60d-19e4-45d0-a832-8f0f041923af",
   "metadata": {},
   "outputs": [
    {
     "name": "stderr",
     "output_type": "stream",
     "text": [
      "[Stage 35:>                                                         (0 + 1) / 1]\r"
     ]
    },
    {
     "name": "stdout",
     "output_type": "stream",
     "text": [
      "Correlation between the hour of a tweet and BTC price change: -0.0004680098864745879\n"
     ]
    },
    {
     "name": "stderr",
     "output_type": "stream",
     "text": [
      "                                                                                \r"
     ]
    }
   ],
   "source": [
    "from pyspark.sql.functions import hour, corr\n",
    "\n",
    "# Extract the hour from the timestamp\n",
    "correlated_df = correlated_df.withColumn(\"hour_of_day\", hour(col(\"date\")))\n",
    "\n",
    "# Compute correlation between hour of the tweet and BTC price change\n",
    "time_correlation = correlated_df.select(corr(\"hour_of_day\", \"price_change\")).collect()[0][0]\n",
    "\n",
    "print(\"Correlation between the hour of a tweet and BTC price change:\", time_correlation)"
   ]
  },
  {
   "cell_type": "code",
   "execution_count": null,
   "id": "9b2c7ac6-1249-48e0-b60e-d8533eadaea2",
   "metadata": {},
   "outputs": [],
   "source": []
  }
 ],
 "metadata": {
  "kernelspec": {
   "display_name": "Python 3 (ipykernel)",
   "language": "python",
   "name": "python3"
  },
  "language_info": {
   "codemirror_mode": {
    "name": "ipython",
    "version": 3
   },
   "file_extension": ".py",
   "mimetype": "text/x-python",
   "name": "python",
   "nbconvert_exporter": "python",
   "pygments_lexer": "ipython3",
   "version": "3.11.2"
  }
 },
 "nbformat": 4,
 "nbformat_minor": 5
}
