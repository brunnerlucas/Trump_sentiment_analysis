{
 "cells": [
  {
   "cell_type": "code",
   "execution_count": 34,
   "id": "4fdff860-4c50-4ace-9232-c19cce7f2fa0",
   "metadata": {},
   "outputs": [],
   "source": [
    "import pandas as pd\n",
    "pd.set_option('display.max_colwidth', None)"
   ]
  },
  {
   "cell_type": "code",
   "execution_count": 35,
   "id": "95eb65a3-f427-4de9-a991-5016e82ed18f",
   "metadata": {},
   "outputs": [],
   "source": [
    "import numpy as np\n",
    "np.bool = np.bool_"
   ]
  },
  {
   "cell_type": "code",
   "execution_count": 36,
   "id": "5cc3163a-f87f-40b6-a3b3-e8990099f371",
   "metadata": {},
   "outputs": [],
   "source": [
    "#current notebook name\n",
    "notebook_name = __session__.replace('.ipynb','')[__session__.rfind('/')+1:] "
   ]
  },
  {
   "cell_type": "code",
   "execution_count": 37,
   "id": "f454bcc9-c6fc-4533-bc33-fc0bb6807cae",
   "metadata": {},
   "outputs": [],
   "source": [
    "# HDFS base paths\n",
    "hdfs_lakehouse_base_path = 'hdfs://localhost:9000/lakehouse/'\n",
    "hdfs_warehouse_base_path = 'hdfs://localhost:9000/warehouse'"
   ]
  },
  {
   "cell_type": "code",
   "execution_count": 38,
   "id": "76a1aa20-2918-4576-a089-f9c370723006",
   "metadata": {},
   "outputs": [],
   "source": [
    "import os\n",
    "dependencies = [\"org.apache.spark:spark-avro_2.12:3.5.0\",\n",
    "                \"io.delta:delta-iceberg_2.12:3.0.0\"]\n",
    "os.environ['PYSPARK_SUBMIT_ARGS']= f\"--packages {','.join(dependencies)} pyspark-shell\"\n",
    "os.environ['PYARROW_IGNORE_TIMEZONE'] = 'true'"
   ]
  },
  {
   "cell_type": "code",
   "execution_count": 39,
   "id": "3e060c80-1e31-4219-98bb-5cca83e8617d",
   "metadata": {},
   "outputs": [],
   "source": [
    "from pyspark.sql.session import SparkSession\n",
    "\n",
    "spark = (SparkSession.builder\n",
    "    .appName(notebook_name)\n",
    "    .config(\"spark.log.level\",\"ERROR\")\n",
    "    .config(\"spark.sql.warehouse.dir\",hdfs_warehouse_base_path)\n",
    "    .config(\"spark.sql.extensions\", \"io.delta.sql.DeltaSparkSessionExtension\")\n",
    "    .config(\"spark.sql.catalog.spark_catalog\", \"org.apache.spark.sql.delta.catalog.DeltaCatalog\")\n",
    "    .config(\"spark.executorEnv.PYTHONPATH\", \"/path/to/your/venv/lib/python3.11/site-packages\") \\\n",
    "\n",
    "    .enableHiveSupport()\n",
    "    .getOrCreate()\n",
    ")"
   ]
  },
  {
   "cell_type": "code",
   "execution_count": 40,
   "id": "9d38b83a-9d3a-4729-a3d2-34a4c988310e",
   "metadata": {},
   "outputs": [],
   "source": [
    "trump_tweet_with_sentiment_analysis = spark.read.format(\"delta\").load(f\"{hdfs_lakehouse_base_path}/gold/trump_btc/trump_tweet_with_sentiment_analysis\").cache()\n",
    "btc_price = spark.read.format(\"delta\").load(f\"{hdfs_lakehouse_base_path}/silver/trump_btc/BTC/\").cache()\n",
    "btc_price = spark.read.format(\"delta\").load(f\"{hdfs_lakehouse_base_path}/silver/trump_btc/BTC/\").cache()\n"
   ]
  },
  {
   "cell_type": "code",
   "execution_count": 41,
   "id": "45ffb1fe-0fa9-4845-ab9f-5f5fc1617329",
   "metadata": {},
   "outputs": [
    {
     "name": "stderr",
     "output_type": "stream",
     "text": [
      "[Stage 78:>                                                         (0 + 2) / 3]\r"
     ]
    },
    {
     "name": "stdout",
     "output_type": "stream",
     "text": [
      "+------------+----+----+----+-----+------+-------------------+\n",
      "|   Timestamp|Open|High| Low|Close|Volume|               date|\n",
      "+------------+----+----+----+-----+------+-------------------+\n",
      "|1.32541206E9|4.58|4.58|4.58| 4.58|   0.0|2012-01-01 11:01:00|\n",
      "|1.32541212E9|4.58|4.58|4.58| 4.58|   0.0|2012-01-01 11:02:00|\n",
      "|1.32541218E9|4.58|4.58|4.58| 4.58|   0.0|2012-01-01 11:03:00|\n",
      "|1.32541224E9|4.58|4.58|4.58| 4.58|   0.0|2012-01-01 11:04:00|\n",
      "| 1.3254123E9|4.58|4.58|4.58| 4.58|   0.0|2012-01-01 11:05:00|\n",
      "+------------+----+----+----+-----+------+-------------------+\n",
      "only showing top 5 rows\n",
      "\n"
     ]
    },
    {
     "name": "stderr",
     "output_type": "stream",
     "text": [
      "                                                                                \r"
     ]
    }
   ],
   "source": [
    "btc_price.orderBy(\"date\").show(5)"
   ]
  },
  {
   "cell_type": "code",
   "execution_count": 42,
   "id": "339a753c-30ae-4661-ae47-94beb4954186",
   "metadata": {},
   "outputs": [
    {
     "name": "stdout",
     "output_type": "stream",
     "text": [
      "+-------------------+---------+--------------------+---------+--------+--------------------+---------------+\n",
      "|               date|favorites|                  id|isRetweet|retweets|                text|sentiment_score|\n",
      "+-------------------+---------+--------------------+---------+--------+--------------------+---------------+\n",
      "|               NULL|      NaN|                 NaN|     NULL|     NaN|                NULL|            0.0|\n",
      "|               NULL|      NaN|                 NaN|     NULL|     NaN|                NULL|            0.0|\n",
      "|2011-08-22 22:33:46|    193.0|1.057394600749383...|    false|   299.0|We don't need ano...|        -0.6908|\n",
      "|2011-09-06 22:23:34|    105.0|1.111727130155458...|    false|   167.0|@BarackObama tril...|        -0.5563|\n",
      "|2011-09-09 20:30:23|     23.0|1.122313901285130...|    false|    80.0|@BarackObama---th...|          -0.25|\n",
      "|2011-09-20 15:17:36|     11.0|1.161389434178109...|    false|    38.0|\"@BarackObama's m...|            0.0|\n",
      "|2011-10-07 21:21:06|     18.0|1.223910133345812...|    false|    58.0|@BarackObama is t...|        -0.7717|\n",
      "|2011-10-24 21:45:10|     28.0|1.285576640441999...|    false|   174.0|The job plan by @...|        -0.5106|\n",
      "|2011-11-17 21:17:35|     15.0|1.372631303581982...|    false|    69.0|\"The stimulus \"\"i...|        -0.1779|\n",
      "|2011-11-29 19:51:40|     14.0|1.415901625756057...|    false|   107.0|\"The CBO has conf...|        -0.2235|\n",
      "|2012-06-01 22:31:39|     51.0|2.086570810274037...|    false|   238.0|Waste! The CBO no...|        -0.2714|\n",
      "|2012-06-04 18:22:10|      9.0|2.096814620295864...|    false|    17.0|My @foxandfriends...|        -0.4215|\n",
      "|2012-06-22 18:38:48|     76.0|2.162086264429772...|    false|   359.0|The $9B that @Bar...|           0.25|\n",
      "|2012-08-07 16:05:21|    871.0|2.328398519453900...|    false|   753.0|The Fed should no...|        -0.4215|\n",
      "|2015-02-10 02:30:01|     54.0|5.649594392001986...|    false|    34.0|\"\"\"@1SimranjitSin...|            0.0|\n",
      "|2017-02-17 00:44:54|  79427.0|8.323752302744002...|    false| 15157.0|'Trump signs bill...|            0.0|\n",
      "|2017-12-30 22:12:45|  66759.0|9.472138952860549...|    false| 13561.0|On Taxes: “This i...|         0.0516|\n",
      "|2018-12-17 14:27:16|  92663.0|1.074657278974939...|    false| 20421.0|It is incredible ...|         0.6893|\n",
      "|2019-04-30 19:56:57|  47900.0|1.123285120864092...|    false| 11112.0|China is adding g...|         0.7655|\n",
      "|2019-06-11 14:08:30|   7803.0|1.138417723858456...|    false|  2363.0|This is because t...|        -0.4374|\n",
      "+-------------------+---------+--------------------+---------+--------+--------------------+---------------+\n",
      "only showing top 20 rows\n",
      "\n"
     ]
    }
   ],
   "source": [
    "trump_tweet_with_sentiment_analysis.orderBy(\"date\").show(20)"
   ]
  },
  {
   "cell_type": "code",
   "execution_count": 44,
   "id": "f10fb9a6-56f5-482c-bebd-ab33644f3e3a",
   "metadata": {},
   "outputs": [
    {
     "name": "stdout",
     "output_type": "stream",
     "text": [
      "+-------------------+---------+--------------------+---------+--------+--------------------+---------------+\n",
      "|               date|favorites|                  id|isRetweet|retweets|                text|sentiment_score|\n",
      "+-------------------+---------+--------------------+---------+--------+--------------------+---------------+\n",
      "|               NULL|      NaN|                 NaN|     NULL|     NaN|                NULL|            0.0|\n",
      "|               NULL|      NaN|                 NaN|     NULL|     NaN|                NULL|            0.0|\n",
      "|2011-08-22 22:33:46|    193.0|1.057394600749383...|    false|   299.0|We don't need ano...|        -0.6908|\n",
      "|2011-09-06 22:23:34|    105.0|1.111727130155458...|    false|   167.0|@BarackObama tril...|        -0.5563|\n",
      "|2011-09-09 20:30:23|     23.0|1.122313901285130...|    false|    80.0|@BarackObama---th...|          -0.25|\n",
      "|2011-09-20 15:17:36|     11.0|1.161389434178109...|    false|    38.0|\"@BarackObama's m...|            0.0|\n",
      "|2011-10-07 21:21:06|     18.0|1.223910133345812...|    false|    58.0|@BarackObama is t...|        -0.7717|\n",
      "|2011-10-24 21:45:10|     28.0|1.285576640441999...|    false|   174.0|The job plan by @...|        -0.5106|\n",
      "|2011-11-17 21:17:35|     15.0|1.372631303581982...|    false|    69.0|\"The stimulus \"\"i...|        -0.1779|\n",
      "|2011-11-29 19:51:40|     14.0|1.415901625756057...|    false|   107.0|\"The CBO has conf...|        -0.2235|\n",
      "|2012-06-01 22:31:39|     51.0|2.086570810274037...|    false|   238.0|Waste! The CBO no...|        -0.2714|\n",
      "|2012-06-04 18:22:10|      9.0|2.096814620295864...|    false|    17.0|My @foxandfriends...|        -0.4215|\n",
      "|2012-06-22 18:38:48|     76.0|2.162086264429772...|    false|   359.0|The $9B that @Bar...|           0.25|\n",
      "|2012-08-07 16:05:21|    871.0|2.328398519453900...|    false|   753.0|The Fed should no...|        -0.4215|\n",
      "|2015-02-10 02:30:01|     54.0|5.649594392001986...|    false|    34.0|\"\"\"@1SimranjitSin...|            0.0|\n",
      "|2017-02-17 00:44:54|  79427.0|8.323752302744002...|    false| 15157.0|'Trump signs bill...|            0.0|\n",
      "|2017-12-30 22:12:45|  66759.0|9.472138952860549...|    false| 13561.0|On Taxes: “This i...|         0.0516|\n",
      "|2018-12-17 14:27:16|  92663.0|1.074657278974939...|    false| 20421.0|It is incredible ...|         0.6893|\n",
      "|2019-04-30 19:56:57|  47900.0|1.123285120864092...|    false| 11112.0|China is adding g...|         0.7655|\n",
      "|2019-06-11 14:08:30|   7803.0|1.138417723858456...|    false|  2363.0|This is because t...|        -0.4374|\n",
      "+-------------------+---------+--------------------+---------+--------+--------------------+---------------+\n",
      "only showing top 20 rows\n",
      "\n"
     ]
    }
   ],
   "source": [
    "trump_tweet_with_sentiment_analysis.orderBy(\"date\").show(20)"
   ]
  },
  {
   "cell_type": "code",
   "execution_count": 45,
   "id": "7124ac7d-c3da-402a-9afc-3459617c8f6c",
   "metadata": {},
   "outputs": [],
   "source": [
    "from pyspark.sql.functions import date_format\n",
    "\n",
    "#removing the seconds from both DF\n",
    "\n",
    "trump_tweet_with_sentiment_analysis = trump_tweet_with_sentiment_analysis.withColumn(\"date\", date_format(\"date\", \"yyyy-MM-dd HH:mm\"))\n",
    "btc_price = btc_price.withColumn(\"date\", date_format(\"date\", \"yyyy-MM-dd HH:mm\"))\n"
   ]
  },
  {
   "cell_type": "code",
   "execution_count": 46,
   "id": "1498564c-b8b9-42e8-80e4-e87600e57fb3",
   "metadata": {},
   "outputs": [
    {
     "name": "stdout",
     "output_type": "stream",
     "text": [
      "+----------------+---------+--------------------+---------+--------+--------------------+---------------+\n",
      "|            date|favorites|                  id|isRetweet|retweets|                text|sentiment_score|\n",
      "+----------------+---------+--------------------+---------+--------+--------------------+---------------+\n",
      "|2024-10-31 17:16|   8601.0|1.134029284408450...|    false|  2282.0|\"I would like to ...|         0.8652|\n",
      "|2024-09-30 17:11|   8655.0|1.132271418381557...|    false|  2516.0|\"I promised to Ma...|         0.9151|\n",
      "|2024-09-24 17:02|      0.0|1.131931321423966...|     true|     0.0|\"RT @realtrumpcoi...|            0.0|\n",
      "|2024-09-22 00:22|   7797.0| 1.13177878498912E17|    false|  2029.0|\"https://justthen...|            0.0|\n",
      "|2024-09-21 23:31|   7113.0|1.131776764644532...|    false|  1909.0|\"“Trump Credits S...|          0.886|\n",
      "+----------------+---------+--------------------+---------+--------+--------------------+---------------+\n",
      "only showing top 5 rows\n",
      "\n",
      "+------------+-------+-------+-------+-------+-----------+----------------+\n",
      "|   Timestamp|   Open|   High|    Low|  Close|     Volume|            date|\n",
      "+------------+-------+-------+-------+-------+-----------+----------------+\n",
      "|1.49972868E9|2419.94| 2420.0|2418.95|2418.95| 4.07239513|2017-07-11 01:18|\n",
      "|1.49972874E9|2421.99| 2422.0|2419.18|2419.18|15.83349066|2017-07-11 01:19|\n",
      "| 1.4997288E9|2419.91|2421.96|2419.18|2421.95| 2.71926784|2017-07-11 01:20|\n",
      "|1.49972886E9|2421.96| 2422.0|2419.29| 2422.0|42.68201165|2017-07-11 01:21|\n",
      "|1.49972892E9|2420.33|2422.98|2414.79|2414.79|11.52859532|2017-07-11 01:22|\n",
      "+------------+-------+-------+-------+-------+-----------+----------------+\n",
      "only showing top 5 rows\n",
      "\n"
     ]
    }
   ],
   "source": [
    "trump_tweet_with_sentiment_analysis.show(5)\n",
    "btc_price.show(5)"
   ]
  },
  {
   "cell_type": "code",
   "execution_count": 47,
   "id": "dfa69c7e-d12c-42be-aaf5-0c6bab482a02",
   "metadata": {},
   "outputs": [
    {
     "name": "stdout",
     "output_type": "stream",
     "text": [
      "+----------------+---------+--------------------+---------+--------+--------------------+---------------+\n",
      "|            date|favorites|                  id|isRetweet|retweets|                text|sentiment_score|\n",
      "+----------------+---------+--------------------+---------+--------+--------------------+---------------+\n",
      "|2018-12-17 14:27|  92663.0|1.074657278974939...|    false| 20421.0|It is incredible ...|         0.6893|\n",
      "|2019-04-30 19:56|  47900.0|1.123285120864092...|    false| 11112.0|China is adding g...|         0.7655|\n",
      "|2019-07-19 14:06|   6049.0|1.152187923908976...|    false|  1562.0|....State which I...|         0.8932|\n",
      "|2019-07-19 14:16|  70874.0|1.152190440692756...|    false| 12980.0|....State which I...|         0.8932|\n",
      "|2019-08-08 16:38|  85995.0|1.159473909827297...|    false| 17705.0|As your President...|         0.9273|\n",
      "|2019-09-02 13:57|  15495.0|1.168493188056829...|    false|  4006.0|....Average hourl...|         0.7717|\n",
      "|2019-09-16 13:47|  32931.0|1.173564172635914...|    false|  7506.0|...The United Sta...|         0.8908|\n",
      "|2019-09-16 13:47|  38894.0|1.173564171847385...|    false|  8694.0|Producer prices i...|        -0.7371|\n",
      "|2020-09-16 16:30| 115030.0|1.306239033891315...|    false| 30950.0|Democrats are “he...|        -0.6476|\n",
      "|2020-10-03 19:46| 650131.0|1.312449034154504...|    false| 93323.0|OUR GREAT USA WAN...|         0.8236|\n",
      "|2020-10-07 01:36| 182368.0| 1.31362426784256E18|    false| 46938.0|Crazy Nancy Pelos...|        -0.6588|\n",
      "|2020-10-07 04:18| 346942.0|1.313664886648582...|    false| 98005.0|If I am sent a St...|         0.6808|\n",
      "|2020-10-12 15:56|  66532.0|1.315652617863864...|    false| 17477.0|The Republicans a...|         0.9611|\n",
      "|2020-10-12 23:14| 106542.0|1.315762862640439...|    false| 21160.0|Republicans shoul...|         0.8268|\n",
      "|2020-10-15 06:34|  90278.0|1.316598194894233...|    false| 18070.0|Nancy Pelosi coul...|         0.9427|\n",
      "|2020-10-21 23:31| 151389.0|1.319028569150943...|    false| 35096.0|Just don’t see an...|         0.6486|\n",
      "|2020-11-01 01:13|  70428.0|1.322693185663987...|    false| 16700.0|A vote for Biden ...|        -0.6709|\n",
      "|2020-11-01 06:53|      0.0|1.322778763663495...|     true|  7117.0|RT @GOP: “A vote ...|        -0.9059|\n",
      "|2020-11-02 22:20|  39784.0|1.323374386980753...|    false|  8695.0|Joe Biden’s plan ...|        -0.9455|\n",
      "|2020-12-17 15:52| 128722.0|1.339584378154885...|    false| 15211.0|All-time Stock Ma...|         0.8773|\n",
      "+----------------+---------+--------------------+---------+--------+--------------------+---------------+\n",
      "only showing top 20 rows\n",
      "\n"
     ]
    }
   ],
   "source": [
    "from pyspark.sql.functions import col\n",
    "\n",
    "#filtering the tweets with sentiment +- 0.5\n",
    "filtered_tweets = trump_tweet_with_sentiment_analysis.filter((trump_tweet_with_sentiment_analysis.sentiment_score > 0.5) | (trump_tweet_with_sentiment_analysis.sentiment_score < -0.5))\n",
    "#filtering because we only got data from 2012\n",
    "filtered_tweets = filtered_tweets.filter(col(\"date\") >= \"2012-01-01\")\n",
    "\n",
    "filtered_tweets.orderBy('date').show()"
   ]
  },
  {
   "cell_type": "code",
   "execution_count": 48,
   "id": "a91b025d-33be-46f6-8bd6-ea34e8936b96",
   "metadata": {},
   "outputs": [
    {
     "name": "stdout",
     "output_type": "stream",
     "text": [
      "+-------------------+------------+-------+-------+-------+-------+-----------+---------+----+---------+--------+----+---------------+\n",
      "|date               |Timestamp   |Open   |High   |Low    |Close  |Volume     |favorites|id  |isRetweet|retweets|text|sentiment_score|\n",
      "+-------------------+------------+-------+-------+-------+-------+-----------+---------+----+---------+--------+----+---------------+\n",
      "|2017-07-11 01:18:00|1.49972868E9|2419.94|2420.0 |2418.95|2418.95|4.07239513 |NULL     |NULL|NULL     |NULL    |NULL|NULL           |\n",
      "|2017-07-11 01:19:00|1.49972874E9|2421.99|2422.0 |2419.18|2419.18|15.83349066|NULL     |NULL|NULL     |NULL    |NULL|NULL           |\n",
      "|2017-07-11 01:20:00|1.4997288E9 |2419.91|2421.96|2419.18|2421.95|2.71926784 |NULL     |NULL|NULL     |NULL    |NULL|NULL           |\n",
      "|2017-07-11 01:21:00|1.49972886E9|2421.96|2422.0 |2419.29|2422.0 |42.68201165|NULL     |NULL|NULL     |NULL    |NULL|NULL           |\n",
      "|2017-07-11 01:22:00|1.49972892E9|2420.33|2422.98|2414.79|2414.79|11.52859532|NULL     |NULL|NULL     |NULL    |NULL|NULL           |\n",
      "|2017-07-11 01:23:00|1.49972898E9|2413.32|2413.32|2410.75|2410.76|23.28344827|NULL     |NULL|NULL     |NULL    |NULL|NULL           |\n",
      "|2017-07-11 01:24:00|1.49972904E9|2411.12|2412.0 |2409.32|2409.43|14.032     |NULL     |NULL|NULL     |NULL    |NULL|NULL           |\n",
      "|2017-07-11 01:25:00|1.4997291E9 |2409.42|2409.48|2407.8 |2407.8 |11.33768836|NULL     |NULL|NULL     |NULL    |NULL|NULL           |\n",
      "|2017-07-11 01:26:00|1.49972916E9|2409.42|2410.27|2408.15|2410.24|2.10734941 |NULL     |NULL|NULL     |NULL    |NULL|NULL           |\n",
      "|2017-07-11 01:27:00|1.49972922E9|2410.15|2411.81|2410.15|2411.81|0.50597356 |NULL     |NULL|NULL     |NULL    |NULL|NULL           |\n",
      "+-------------------+------------+-------+-------+-------+-------+-----------+---------+----+---------+--------+----+---------------+\n",
      "only showing top 10 rows\n",
      "\n"
     ]
    }
   ],
   "source": [
    "from pyspark.sql import functions as F\n",
    "\n",
    "# Ensure both DataFrames have the `date` column in TIMESTAMP format\n",
    "btc_price = btc_price.withColumn(\"date\", F.to_timestamp(\"date\", \"yyyy-MM-dd HH:mm\"))\n",
    "filtered_tweets = filtered_tweets.withColumn(\"date\", F.to_timestamp(\"date\", \"yyyy-MM-dd HH:mm\"))\n",
    "\n",
    "# Perform the LEFT JOIN on \"date\"\n",
    "joined_df = btc_price.join(\n",
    "    filtered_tweets,\n",
    "    on=\"date\",\n",
    "    how=\"left\"\n",
    ")\n",
    "\n",
    "# Show results\n",
    "joined_df.show(10, truncate=False)\n",
    "\n"
   ]
  },
  {
   "cell_type": "code",
   "execution_count": 49,
   "id": "bb091a42-99e4-4a3e-ae66-341bb3457e2f",
   "metadata": {},
   "outputs": [
    {
     "name": "stderr",
     "output_type": "stream",
     "text": [
      "[Stage 90:======================================>                   (2 + 1) / 3]\r"
     ]
    },
    {
     "name": "stdout",
     "output_type": "stream",
     "text": [
      "+----+-------------------+---------------+-----------------+-------------------+\n",
      "|text|date               |sentiment_score|btc_current_price|btc_price_24h_later|\n",
      "+----+-------------------+---------------+-----------------+-------------------+\n",
      "|NULL|2012-01-01 11:01:00|NULL           |4.58             |5.0                |\n",
      "|NULL|2012-01-01 11:03:00|NULL           |4.58             |5.0                |\n",
      "|NULL|2012-01-01 11:08:00|NULL           |4.58             |5.0                |\n",
      "|NULL|2012-01-01 11:11:00|NULL           |4.58             |5.0                |\n",
      "|NULL|2017-07-11 01:21:00|NULL           |2422.0           |2326.26            |\n",
      "|NULL|2017-07-11 01:22:00|NULL           |2414.79          |2324.96            |\n",
      "|NULL|2017-07-11 01:24:00|NULL           |2409.43          |2325.0             |\n",
      "|NULL|2017-07-11 01:28:00|NULL           |2411.43          |2329.67            |\n",
      "|NULL|2022-01-11 07:04:00|NULL           |41687.21         |42743.46           |\n",
      "|NULL|2022-01-11 07:06:00|NULL           |41706.92         |42767.64           |\n",
      "+----+-------------------+---------------+-----------------+-------------------+\n",
      "only showing top 10 rows\n",
      "\n"
     ]
    },
    {
     "name": "stderr",
     "output_type": "stream",
     "text": [
      "                                                                                \r"
     ]
    }
   ],
   "source": [
    "# Define a 12-hour future time column\n",
    "from pyspark.sql.functions import col, expr\n",
    "\n",
    "# Create a self-join to find BTC price exactly 24 hours later how it changed over time\n",
    "joined_df_with_future = joined_df.alias(\"current\").join(\n",
    "    joined_df.alias(\"future\"),\n",
    "    expr(\"future.date = current.date + INTERVAL 24 HOURS\"),\n",
    "    how=\"left\"\n",
    ").select(\n",
    "    col(\"current.text\"),\n",
    "    col(\"current.date\"),\n",
    "    col(\"current.sentiment_score\"),\n",
    "    col(\"current.Close\").alias(\"btc_current_price\"),\n",
    "    col(\"future.Close\").alias(\"btc_price_24h_later\")\n",
    ")\n",
    "\n",
    "# Show results\n",
    "joined_df_with_future.show(10, truncate=False)\n"
   ]
  },
  {
   "cell_type": "code",
   "execution_count": 50,
   "id": "4a1688fe-cb64-4601-8534-49301c6cb4a6",
   "metadata": {},
   "outputs": [],
   "source": [
    "joined_df_with_future=joined_df_with_future.filter(F.col(\"sentiment_score\").isNotNull())"
   ]
  },
  {
   "cell_type": "code",
   "execution_count": 51,
   "id": "979919d3-0cd5-4e56-ad37-d4a06fcc12f2",
   "metadata": {},
   "outputs": [
    {
     "name": "stderr",
     "output_type": "stream",
     "text": [
      "                                                                                \r"
     ]
    },
    {
     "name": "stdout",
     "output_type": "stream",
     "text": [
      "+--------------------+-------------------+---------------+-----------------+-------------------+\n",
      "|                text|               date|sentiment_score|btc_current_price|btc_price_24h_later|\n",
      "+--------------------+-------------------+---------------+-----------------+-------------------+\n",
      "|It is incredible ...|2018-12-17 14:27:00|         0.6893|           3234.5|            3495.05|\n",
      "|....State which I...|2019-07-19 14:16:00|         0.8932|         10684.43|           10554.78|\n",
      "|As your President...|2019-08-08 16:38:00|         0.9273|          11828.0|           11721.84|\n",
      "|Producer prices i...|2019-09-16 13:47:00|        -0.7371|         10296.36|           10224.09|\n",
      "|...The United Sta...|2019-09-16 13:47:00|         0.8908|         10296.36|           10224.09|\n",
      "|Democrats are “he...|2020-09-16 16:30:00|        -0.6476|         10841.54|           10809.27|\n",
      "|If I am sent a St...|2020-10-07 04:18:00|         0.6808|         10592.47|           10646.77|\n",
      "|Nancy Pelosi coul...|2020-10-15 06:34:00|         0.9427|         11402.54|           11499.14|\n",
      "|RT @GOP: “A vote ...|2020-11-01 06:53:00|        -0.9059|         13774.25|           13818.75|\n",
      "|All-time Stock Ma...|2020-12-17 15:52:00|         0.8773|         22444.33|            23161.4|\n",
      "|RT @LindseyGraham...|2020-12-28 22:37:00|         0.5719|         27040.52|           26308.54|\n",
      "|ABC News: “He rep...|2023-11-29 18:54:00|         0.7579|          38247.0|            37891.0|\n",
      "|\"RT @realamericas...|2024-07-27 23:14:00|         0.5859|          68694.0|            67848.0|\n",
      "|\"Just spoke at th...|2024-07-31 16:27:00|         0.8864|          66098.0|            64397.0|\n",
      "|China is adding g...|2019-04-30 19:56:00|         0.7655|          5249.15|            5288.94|\n",
      "|....State which I...|2019-07-19 14:06:00|         0.8932|         10776.99|           10575.32|\n",
      "|....Average hourl...|2019-09-02 13:57:00|         0.7717|          9767.04|           10378.76|\n",
      "|OUR GREAT USA WAN...|2020-10-03 19:46:00|         0.8236|         10546.25|           10607.89|\n",
      "|Crazy Nancy Pelos...|2020-10-07 01:36:00|        -0.6588|          10590.0|           10657.47|\n",
      "|The Republicans a...|2020-10-12 15:56:00|         0.9611|         11356.84|           11470.13|\n",
      "+--------------------+-------------------+---------------+-----------------+-------------------+\n",
      "only showing top 20 rows\n",
      "\n"
     ]
    },
    {
     "name": "stderr",
     "output_type": "stream",
     "text": [
      "                                                                                \r"
     ]
    }
   ],
   "source": [
    "joined_df_with_future.show()"
   ]
  },
  {
   "cell_type": "code",
   "execution_count": 33,
   "id": "548fdaa3-3af6-437b-a91d-7c757431ea75",
   "metadata": {},
   "outputs": [
    {
     "name": "stderr",
     "output_type": "stream",
     "text": [
      "                                                                                \r"
     ]
    },
    {
     "data": {
      "text/plain": [
       "29"
      ]
     },
     "execution_count": 33,
     "metadata": {},
     "output_type": "execute_result"
    }
   ],
   "source": [
    "joined_df_with_future.count()"
   ]
  },
  {
   "cell_type": "code",
   "execution_count": null,
   "id": "ffcf69d4-dd75-462a-8c3f-b42dcab5cf74",
   "metadata": {},
   "outputs": [],
   "source": []
  }
 ],
 "metadata": {
  "kernelspec": {
   "display_name": "Python 3 (ipykernel)",
   "language": "python",
   "name": "python3"
  },
  "language_info": {
   "codemirror_mode": {
    "name": "ipython",
    "version": 3
   },
   "file_extension": ".py",
   "mimetype": "text/x-python",
   "name": "python",
   "nbconvert_exporter": "python",
   "pygments_lexer": "ipython3",
   "version": "3.11.2"
  }
 },
 "nbformat": 4,
 "nbformat_minor": 5
}
