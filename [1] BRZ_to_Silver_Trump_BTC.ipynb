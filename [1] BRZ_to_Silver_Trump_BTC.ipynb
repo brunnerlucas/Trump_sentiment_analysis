{
 "cells": [
  {
   "cell_type": "code",
   "execution_count": 1,
   "id": "4fdff860-4c50-4ace-9232-c19cce7f2fa0",
   "metadata": {},
   "outputs": [],
   "source": [
    "import pandas as pd\n",
    "pd.set_option('display.max_colwidth', None)"
   ]
  },
  {
   "cell_type": "code",
   "execution_count": 2,
   "id": "95eb65a3-f427-4de9-a991-5016e82ed18f",
   "metadata": {},
   "outputs": [],
   "source": [
    "import numpy as np\n",
    "np.bool = np.bool_"
   ]
  },
  {
   "cell_type": "code",
   "execution_count": 3,
   "id": "5cc3163a-f87f-40b6-a3b3-e8990099f371",
   "metadata": {},
   "outputs": [],
   "source": [
    "#current notebook name\n",
    "notebook_name = __session__.replace('.ipynb','')[__session__.rfind('/')+1:] "
   ]
  },
  {
   "cell_type": "code",
   "execution_count": 4,
   "id": "f454bcc9-c6fc-4533-bc33-fc0bb6807cae",
   "metadata": {},
   "outputs": [],
   "source": [
    "# HDFS base paths\n",
    "hdfs_lakehouse_base_path = 'hdfs://localhost:9000/lakehouse/'\n",
    "hdfs_warehouse_base_path = 'hdfs://localhost:9000/warehouse'"
   ]
  },
  {
   "cell_type": "code",
   "execution_count": 5,
   "id": "76a1aa20-2918-4576-a089-f9c370723006",
   "metadata": {},
   "outputs": [],
   "source": [
    "import os\n",
    "dependencies = [\"org.apache.spark:spark-avro_2.12:3.5.0\",\n",
    "                \"io.delta:delta-iceberg_2.12:3.0.0\"]\n",
    "os.environ['PYSPARK_SUBMIT_ARGS']= f\"--packages {','.join(dependencies)} pyspark-shell\"\n",
    "os.environ['PYARROW_IGNORE_TIMEZONE'] = 'true'"
   ]
  },
  {
   "cell_type": "code",
   "execution_count": 6,
   "id": "3e060c80-1e31-4219-98bb-5cca83e8617d",
   "metadata": {},
   "outputs": [
    {
     "name": "stderr",
     "output_type": "stream",
     "text": [
      "25/02/17 22:33:04 WARN Utils: Your hostname, osbdet resolves to a loopback address: 127.0.0.1; using 10.0.2.15 instead (on interface enp0s1)\n",
      "25/02/17 22:33:04 WARN Utils: Set SPARK_LOCAL_IP if you need to bind to another address\n",
      "Ivy Default Cache set to: /home/osbdet/.ivy2/cache\n",
      "The jars for the packages stored in: /home/osbdet/.ivy2/jars\n",
      "org.apache.spark#spark-avro_2.12 added as a dependency\n",
      "io.delta#delta-iceberg_2.12 added as a dependency\n",
      ":: resolving dependencies :: org.apache.spark#spark-submit-parent-96573755-4012-4e3c-a2fe-f7979b08d256;1.0\n",
      "\tconfs: [default]\n"
     ]
    },
    {
     "name": "stdout",
     "output_type": "stream",
     "text": [
      ":: loading settings :: url = jar:file:/home/osbdet/.jupyter_venv/lib/python3.11/site-packages/pyspark/jars/ivy-2.5.1.jar!/org/apache/ivy/core/settings/ivysettings.xml\n"
     ]
    },
    {
     "name": "stderr",
     "output_type": "stream",
     "text": [
      "\tfound org.apache.spark#spark-avro_2.12;3.5.0 in central\n",
      "\tfound org.tukaani#xz;1.9 in central\n",
      "\tfound io.delta#delta-iceberg_2.12;3.0.0 in central\n",
      "\tfound io.delta#delta-spark_2.12;3.0.0 in central\n",
      "\tfound io.delta#delta-storage;3.0.0 in central\n",
      "\tfound org.antlr#antlr4-runtime;4.9.3 in central\n",
      "\tfound org.scala-lang.modules#scala-collection-compat_2.12;2.1.1 in central\n",
      "\tfound com.github.ben-manes.caffeine#caffeine;2.9.3 in central\n",
      "\tfound org.checkerframework#checker-qual;3.19.0 in central\n",
      "\tfound com.google.errorprone#error_prone_annotations;2.10.0 in central\n",
      ":: resolution report :: resolve 217ms :: artifacts dl 5ms\n",
      "\t:: modules in use:\n",
      "\tcom.github.ben-manes.caffeine#caffeine;2.9.3 from central in [default]\n",
      "\tcom.google.errorprone#error_prone_annotations;2.10.0 from central in [default]\n",
      "\tio.delta#delta-iceberg_2.12;3.0.0 from central in [default]\n",
      "\tio.delta#delta-spark_2.12;3.0.0 from central in [default]\n",
      "\tio.delta#delta-storage;3.0.0 from central in [default]\n",
      "\torg.antlr#antlr4-runtime;4.9.3 from central in [default]\n",
      "\torg.apache.spark#spark-avro_2.12;3.5.0 from central in [default]\n",
      "\torg.checkerframework#checker-qual;3.19.0 from central in [default]\n",
      "\torg.scala-lang.modules#scala-collection-compat_2.12;2.1.1 from central in [default]\n",
      "\torg.tukaani#xz;1.9 from central in [default]\n",
      "\t---------------------------------------------------------------------\n",
      "\t|                  |            modules            ||   artifacts   |\n",
      "\t|       conf       | number| search|dwnlded|evicted|| number|dwnlded|\n",
      "\t---------------------------------------------------------------------\n",
      "\t|      default     |   10  |   0   |   0   |   0   ||   10  |   0   |\n",
      "\t---------------------------------------------------------------------\n",
      ":: retrieving :: org.apache.spark#spark-submit-parent-96573755-4012-4e3c-a2fe-f7979b08d256\n",
      "\tconfs: [default]\n",
      "\t0 artifacts copied, 10 already retrieved (0kB/4ms)\n",
      "25/02/17 22:33:04 WARN NativeCodeLoader: Unable to load native-hadoop library for your platform... using builtin-java classes where applicable\n",
      "Setting default log level to \"WARN\".\n",
      "To adjust logging level use sc.setLogLevel(newLevel). For SparkR, use setLogLevel(newLevel).\n",
      "Setting Spark log level to \"ERROR\".\n"
     ]
    }
   ],
   "source": [
    "from pyspark.sql.session import SparkSession\n",
    "\n",
    "spark = (SparkSession.builder\n",
    "    .appName(notebook_name)\n",
    "    .config(\"spark.log.level\",\"ERROR\")\n",
    "    .config(\"spark.sql.warehouse.dir\",hdfs_warehouse_base_path)\n",
    "    .config(\"spark.sql.extensions\", \"io.delta.sql.DeltaSparkSessionExtension\")\n",
    "    .config(\"spark.sql.catalog.spark_catalog\", \"org.apache.spark.sql.delta.catalog.DeltaCatalog\")\n",
    "    .enableHiveSupport()\n",
    "    .getOrCreate()\n",
    ")"
   ]
  },
  {
   "cell_type": "code",
   "execution_count": 7,
   "id": "9d38b83a-9d3a-4729-a3d2-34a4c988310e",
   "metadata": {},
   "outputs": [
    {
     "name": "stdout",
     "output_type": "stream",
     "text": [
      "Loaded DataFrame for BTC_raw\n",
      "Loaded DataFrame for Trump_raw\n"
     ]
    }
   ],
   "source": [
    "base_path = f\"{hdfs_lakehouse_base_path}/bronze/trump_btc\"\n",
    "\n",
    "# List of folder names (from the structure provided)\n",
    "folder_names = [\"BTC\", \"Trump\"]\n",
    "\n",
    "# Dictionary to store DataFrames\n",
    "dataframes = {}\n",
    "\n",
    "# Loop through each folder and read the CSV file inside it\n",
    "for folder_name in folder_names:\n",
    "    # Construct the file path\n",
    "    file_path = os.path.join(base_path, folder_name)\n",
    "    \n",
    "    # Read the CSV file into a DataFrame\n",
    "    dataframes[folder_name] = (spark.read\n",
    "                                        .option(\"header\", \"true\")\n",
    "                                        .option(\"inferSchema\", \"true\")\n",
    "                                        .csv(file_path))\n",
    "    print(f\"Loaded DataFrame for {folder_name}_raw\")\n",
    "\n",
    "# Example: Accessing one of the DataFrames\n",
    "btc_df = dataframes[\"BTC\"]\n",
    "trump_df=dataframes[\"Trump\"]\n"
   ]
  },
  {
   "cell_type": "code",
   "execution_count": 8,
   "id": "4cad9e13-2e55-403d-b7a4-aef78086ffb3",
   "metadata": {},
   "outputs": [
    {
     "data": {
      "text/html": [
       "<div>\n",
       "<style scoped>\n",
       "    .dataframe tbody tr th:only-of-type {\n",
       "        vertical-align: middle;\n",
       "    }\n",
       "\n",
       "    .dataframe tbody tr th {\n",
       "        vertical-align: top;\n",
       "    }\n",
       "\n",
       "    .dataframe thead th {\n",
       "        text-align: right;\n",
       "    }\n",
       "</style>\n",
       "<table border=\"1\" class=\"dataframe\">\n",
       "  <thead>\n",
       "    <tr style=\"text-align: right;\">\n",
       "      <th></th>\n",
       "      <th>Date</th>\n",
       "      <th>Close</th>\n",
       "      <th>High</th>\n",
       "      <th>Low</th>\n",
       "      <th>Open</th>\n",
       "      <th>Volume</th>\n",
       "    </tr>\n",
       "  </thead>\n",
       "  <tbody>\n",
       "    <tr>\n",
       "      <th>0</th>\n",
       "      <td>None</td>\n",
       "      <td>BTC-USD</td>\n",
       "      <td>BTC-USD</td>\n",
       "      <td>BTC-USD</td>\n",
       "      <td>BTC-USD</td>\n",
       "      <td>BTC-USD</td>\n",
       "    </tr>\n",
       "    <tr>\n",
       "      <th>1</th>\n",
       "      <td>2014-09-17</td>\n",
       "      <td>457.3340148925781</td>\n",
       "      <td>468.17401123046875</td>\n",
       "      <td>452.4219970703125</td>\n",
       "      <td>465.864013671875</td>\n",
       "      <td>21056800</td>\n",
       "    </tr>\n",
       "    <tr>\n",
       "      <th>2</th>\n",
       "      <td>2014-09-18</td>\n",
       "      <td>424.44000244140625</td>\n",
       "      <td>456.8599853515625</td>\n",
       "      <td>413.10400390625</td>\n",
       "      <td>456.8599853515625</td>\n",
       "      <td>34483200</td>\n",
       "    </tr>\n",
       "    <tr>\n",
       "      <th>3</th>\n",
       "      <td>2014-09-19</td>\n",
       "      <td>394.7959899902344</td>\n",
       "      <td>427.8349914550781</td>\n",
       "      <td>384.5320129394531</td>\n",
       "      <td>424.1029968261719</td>\n",
       "      <td>37919700</td>\n",
       "    </tr>\n",
       "    <tr>\n",
       "      <th>4</th>\n",
       "      <td>2014-09-20</td>\n",
       "      <td>408.90399169921875</td>\n",
       "      <td>423.2959899902344</td>\n",
       "      <td>389.88299560546875</td>\n",
       "      <td>394.6730041503906</td>\n",
       "      <td>36863600</td>\n",
       "    </tr>\n",
       "  </tbody>\n",
       "</table>\n",
       "</div>"
      ],
      "text/plain": [
       "         Date               Close                High                 Low  \\\n",
       "0        None             BTC-USD             BTC-USD             BTC-USD   \n",
       "1  2014-09-17   457.3340148925781  468.17401123046875   452.4219970703125   \n",
       "2  2014-09-18  424.44000244140625   456.8599853515625     413.10400390625   \n",
       "3  2014-09-19   394.7959899902344   427.8349914550781   384.5320129394531   \n",
       "4  2014-09-20  408.90399169921875   423.2959899902344  389.88299560546875   \n",
       "\n",
       "                Open    Volume  \n",
       "0            BTC-USD   BTC-USD  \n",
       "1   465.864013671875  21056800  \n",
       "2  456.8599853515625  34483200  \n",
       "3  424.1029968261719  37919700  \n",
       "4  394.6730041503906  36863600  "
      ]
     },
     "execution_count": 8,
     "metadata": {},
     "output_type": "execute_result"
    }
   ],
   "source": [
    "btc_df.toPandas().head()"
   ]
  },
  {
   "cell_type": "code",
   "execution_count": 9,
   "id": "9b5a943d-eac4-4598-9a66-1d72fa1b15c7",
   "metadata": {},
   "outputs": [
    {
     "data": {
      "text/html": [
       "<div>\n",
       "<style scoped>\n",
       "    .dataframe tbody tr th:only-of-type {\n",
       "        vertical-align: middle;\n",
       "    }\n",
       "\n",
       "    .dataframe tbody tr th {\n",
       "        vertical-align: top;\n",
       "    }\n",
       "\n",
       "    .dataframe thead th {\n",
       "        text-align: right;\n",
       "    }\n",
       "</style>\n",
       "<table border=\"1\" class=\"dataframe\">\n",
       "  <thead>\n",
       "    <tr style=\"text-align: right;\">\n",
       "      <th></th>\n",
       "      <th>date</th>\n",
       "      <th>favorites</th>\n",
       "      <th>id</th>\n",
       "      <th>isRetweet</th>\n",
       "      <th>retweets</th>\n",
       "      <th>text</th>\n",
       "    </tr>\n",
       "  </thead>\n",
       "  <tbody>\n",
       "    <tr>\n",
       "      <th>0</th>\n",
       "      <td>1730391364149</td>\n",
       "      <td>8601.0</td>\n",
       "      <td>1.134029e+17</td>\n",
       "      <td>False</td>\n",
       "      <td>2282.0</td>\n",
       "      <td>\"&lt;p&gt;I would like to wish our great Bitcoiners a Happy 16th Anniversary of Satoshi’s White Paper. We will end Kamala’s war on crypto, &amp;amp; Bitcoin will be MADE IN THE USA! VOTE TRUMP! &lt;a href=\"\"https://truthsocial.com/tags/Bitcoin\"\" class=\"\"mention hashtag\"\" rel=\"\"tag\"\"&gt;#&lt;span&gt;Bitcoin&lt;/span&gt;&lt;/a&gt; &lt;a href=\"\"https://truthsocial.com/tags/FreeRossDayOne\"\" class=\"\"mention hashtag\"\" rel=\"\"tag\"\"&gt;#&lt;span&gt;FreeRossDayOne&lt;/span&gt;&lt;/a&gt;&lt;/p&gt;\"</td>\n",
       "    </tr>\n",
       "    <tr>\n",
       "      <th>1</th>\n",
       "      <td>1727709073460</td>\n",
       "      <td>8655.0</td>\n",
       "      <td>1.132271e+17</td>\n",
       "      <td>False</td>\n",
       "      <td>2516.0</td>\n",
       "      <td>\"&lt;p&gt;I promised to Make America Great Again, this time with crypto. &lt;a href=\"\"https://truthsocial.com/tags/WorldLibertyFi\"\" class=\"\"mention hashtag\"\" rel=\"\"tag\"\"&gt;#&lt;span&gt;WorldLibertyFi&lt;/span&gt;&lt;/a&gt; is planning to help make America the crypto capital of the world! The whitelist for eligible persons is officially open – this is your chance to be part of this historic moment. Join: &lt;a href=\"\"https://links.truthsocial.com/link/113073993409242797\"\" rel=\"\"nofollow noopener noreferrer\"\" target=\"\"_blank\"\"&gt;&lt;span class=\"\"invisible\"\"&gt;https://www.&lt;/span&gt;&lt;span class=\"\"\"\"&gt;worldlibertyfinancial.com/&lt;/span&gt;&lt;span class=\"\"invisible\"\"&gt;&lt;/span&gt;&lt;/a&gt;&lt;/p&gt;\"</td>\n",
       "    </tr>\n",
       "    <tr>\n",
       "      <th>2</th>\n",
       "      <td>1727190126685</td>\n",
       "      <td>0.0</td>\n",
       "      <td>1.131931e+17</td>\n",
       "      <td>True</td>\n",
       "      <td>0.0</td>\n",
       "      <td>\"&lt;p&gt;RT &lt;span class=\"\"h-card\"\"&gt;&lt;a href=\"\"https://truthsocial.com/@realtrumpcoins\"\" class=\"\"u-url mention\"\"&gt;@&lt;span&gt;realtrumpcoins&lt;/span&gt;&lt;/a&gt;&lt;/span&gt;The ONLY official coin designed by &lt;span class=\"\"h-card\"\"&gt;&lt;a href=\"\"https://truthsocial.com/@realDonaldTrump\"\" class=\"\"u-url mention\"\"&gt;@&lt;span&gt;realDonaldTrump&lt;/span&gt;&lt;/a&gt;&lt;/span&gt;</td>\n",
       "    </tr>\n",
       "    <tr>\n",
       "      <th>3</th>\n",
       "      <td>1726957374556</td>\n",
       "      <td>7797.0</td>\n",
       "      <td>1.131779e+17</td>\n",
       "      <td>False</td>\n",
       "      <td>2029.0</td>\n",
       "      <td>\"&lt;p&gt;&lt;a href=\"\"https://links.truthsocial.com/link/113161965355999676\"\" rel=\"\"nofollow noopener noreferrer\"\" target=\"\"_blank\"\"&gt;&lt;span class=\"\"invisible\"\"&gt;https://&lt;/span&gt;&lt;span class=\"\"ellipsis\"\"&gt;justthenews.com/politics-polic&lt;/span&gt;&lt;span class=\"\"invisible\"\"&gt;y/all-things-trump/trump-uses-bitcoin-buy-hamburgers-new-york&lt;/span&gt;&lt;/a&gt;&lt;/p&gt;\"</td>\n",
       "    </tr>\n",
       "    <tr>\n",
       "      <th>4</th>\n",
       "      <td>1726954291754</td>\n",
       "      <td>7113.0</td>\n",
       "      <td>1.131777e+17</td>\n",
       "      <td>False</td>\n",
       "      <td>1909.0</td>\n",
       "      <td>\"&lt;p&gt;“Trump Credits Success of His NFTs for Change of Heart on Bitcoin and Crypto” &lt;br/&gt;&lt;a href=\"\"https://links.truthsocial.com/link/113177676465018997\"\" rel=\"\"nofollow noopener noreferrer\"\" target=\"\"_blank\"\"&gt;&lt;span class=\"\"invisible\"\"&gt;https://&lt;/span&gt;&lt;span class=\"\"ellipsis\"\"&gt;decrypt.co/249755/trump-credit&lt;/span&gt;&lt;span class=\"\"invisible\"\"&gt;s-nfts-change-of-heart-bitcoin-crypto&lt;/span&gt;&lt;/a&gt;&lt;/p&gt;\"</td>\n",
       "    </tr>\n",
       "  </tbody>\n",
       "</table>\n",
       "</div>"
      ],
      "text/plain": [
       "            date  favorites            id isRetweet  retweets  \\\n",
       "0  1730391364149     8601.0  1.134029e+17     False    2282.0   \n",
       "1  1727709073460     8655.0  1.132271e+17     False    2516.0   \n",
       "2  1727190126685        0.0  1.131931e+17      True       0.0   \n",
       "3  1726957374556     7797.0  1.131779e+17     False    2029.0   \n",
       "4  1726954291754     7113.0  1.131777e+17     False    1909.0   \n",
       "\n",
       "                                                                                                                                                                                                                                                                                                                                                                                                                                                                                                                                                                                                                                                           text  \n",
       "0                                                                                                                                                                                                                  \"<p>I would like to wish our great Bitcoiners a Happy 16th Anniversary of Satoshi’s White Paper. We will end Kamala’s war on crypto, &amp; Bitcoin will be MADE IN THE USA! VOTE TRUMP! <a href=\"\"https://truthsocial.com/tags/Bitcoin\"\" class=\"\"mention hashtag\"\" rel=\"\"tag\"\">#<span>Bitcoin</span></a> <a href=\"\"https://truthsocial.com/tags/FreeRossDayOne\"\" class=\"\"mention hashtag\"\" rel=\"\"tag\"\">#<span>FreeRossDayOne</span></a></p>\"  \n",
       "1  \"<p>I promised to Make America Great Again, this time with crypto. <a href=\"\"https://truthsocial.com/tags/WorldLibertyFi\"\" class=\"\"mention hashtag\"\" rel=\"\"tag\"\">#<span>WorldLibertyFi</span></a> is planning to help make America the crypto capital of the world! The whitelist for eligible persons is officially open – this is your chance to be part of this historic moment. Join: <a href=\"\"https://links.truthsocial.com/link/113073993409242797\"\" rel=\"\"nofollow noopener noreferrer\"\" target=\"\"_blank\"\"><span class=\"\"invisible\"\">https://www.</span><span class=\"\"\"\">worldlibertyfinancial.com/</span><span class=\"\"invisible\"\"></span></a></p>\"  \n",
       "2                                                                                                                                                                                                                                                                                                                              \"<p>RT <span class=\"\"h-card\"\"><a href=\"\"https://truthsocial.com/@realtrumpcoins\"\" class=\"\"u-url mention\"\">@<span>realtrumpcoins</span></a></span>The ONLY official coin designed by <span class=\"\"h-card\"\"><a href=\"\"https://truthsocial.com/@realDonaldTrump\"\" class=\"\"u-url mention\"\">@<span>realDonaldTrump</span></a></span>  \n",
       "3                                                                                                                                                                                                                                                                                                                   \"<p><a href=\"\"https://links.truthsocial.com/link/113161965355999676\"\" rel=\"\"nofollow noopener noreferrer\"\" target=\"\"_blank\"\"><span class=\"\"invisible\"\">https://</span><span class=\"\"ellipsis\"\">justthenews.com/politics-polic</span><span class=\"\"invisible\"\">y/all-things-trump/trump-uses-bitcoin-buy-hamburgers-new-york</span></a></p>\"  \n",
       "4                                                                                                                                                                                                                                                        \"<p>“Trump Credits Success of His NFTs for Change of Heart on Bitcoin and Crypto” <br/><a href=\"\"https://links.truthsocial.com/link/113177676465018997\"\" rel=\"\"nofollow noopener noreferrer\"\" target=\"\"_blank\"\"><span class=\"\"invisible\"\">https://</span><span class=\"\"ellipsis\"\">decrypt.co/249755/trump-credit</span><span class=\"\"invisible\"\">s-nfts-change-of-heart-bitcoin-crypto</span></a></p>\"  "
      ]
     },
     "execution_count": 9,
     "metadata": {},
     "output_type": "execute_result"
    }
   ],
   "source": [
    "trump_df.toPandas().head()"
   ]
  },
  {
   "cell_type": "code",
   "execution_count": 10,
   "id": "1bfbd873-5c4a-4a9a-9310-bf74d29dd87a",
   "metadata": {},
   "outputs": [
    {
     "name": "stdout",
     "output_type": "stream",
     "text": [
      "+----------+------------------+------------------+------------------+-----------------+--------+\n",
      "|      date|             Close|              High|               Low|             Open|  Volume|\n",
      "+----------+------------------+------------------+------------------+-----------------+--------+\n",
      "|2014-09-17| 457.3340148925781|468.17401123046875| 452.4219970703125| 465.864013671875|21056800|\n",
      "|2014-09-18|424.44000244140625| 456.8599853515625|   413.10400390625|456.8599853515625|34483200|\n",
      "|2014-09-19| 394.7959899902344| 427.8349914550781| 384.5320129394531|424.1029968261719|37919700|\n",
      "|2014-09-20|408.90399169921875| 423.2959899902344|389.88299560546875|394.6730041503906|36863600|\n",
      "|2014-09-21| 398.8210144042969| 412.4259948730469| 393.1809997558594|408.0849914550781|26580100|\n",
      "+----------+------------------+------------------+------------------+-----------------+--------+\n",
      "only showing top 5 rows\n",
      "\n"
     ]
    }
   ],
   "source": [
    "# cleaning the btc data\n",
    "\n",
    "from pyspark.sql.functions import col, to_date\n",
    "\n",
    "btc_df_std = btc_df.withColumnRenamed(\"Date\", \"date\") \\\n",
    "                      .withColumn(\"date\", to_date(col(\"date\"))) \\\n",
    "                      .dropna()  # Remove missing values\n",
    "\n",
    "btc_df_std.show(5)"
   ]
  },
  {
   "cell_type": "code",
   "execution_count": 11,
   "id": "f0bcc844-5105-4408-8a5a-4a1b3de57fd0",
   "metadata": {},
   "outputs": [
    {
     "data": {
      "text/plain": [
       "DataFrame[]"
      ]
     },
     "execution_count": 11,
     "metadata": {},
     "output_type": "execute_result"
    }
   ],
   "source": [
    "spark.sql(\"CREATE SCHEMA IF NOT EXISTS trump_btc\")"
   ]
  },
  {
   "cell_type": "code",
   "execution_count": 12,
   "id": "ca792d70-dcac-4435-9c2f-003f7a6aa502",
   "metadata": {},
   "outputs": [
    {
     "name": "stderr",
     "output_type": "stream",
     "text": [
      "                                                                                \r"
     ]
    }
   ],
   "source": [
    "#saving btc data it in silver\n",
    "(btc_df_std.write\n",
    "            .format(\"delta\")\n",
    "            .mode(\"overwrite\")\n",
    "            .option(\"path\",f\"{hdfs_lakehouse_base_path}/silver/trump_btc/BTC/\")\n",
    "            .saveAsTable(\"trump_btc.BTC\")\n",
    ")\n"
   ]
  },
  {
   "cell_type": "code",
   "execution_count": 13,
   "id": "b117e4fe-fedb-4629-8201-f29b456cf19a",
   "metadata": {},
   "outputs": [],
   "source": [
    "from pyspark.sql import SparkSession\n",
    "from pyspark.sql.functions import col, from_unixtime, date_format,regexp_replace\n",
    "from pyspark.sql.types import StringType, BooleanType, DoubleType, LongType, TimestampType\n",
    "import re\n",
    "\n",
    "trump_df = trump_df.withColumn(\"date\", col(\"date\").cast(\"bigInt\"))\n",
    "trump_df = trump_df.withColumn(\"date\", date_format(from_unixtime(col(\"date\") / 1000), \"yyyy-MM-dd\"))\n",
    "trump_df = trump_df.withColumn(\"text\", regexp_replace(col(\"text\"), \"<[^>]+>\", \"\"))\n"
   ]
  },
  {
   "cell_type": "code",
   "execution_count": 14,
   "id": "fc1be1ad-3788-4619-9c35-680140cfef4f",
   "metadata": {},
   "outputs": [
    {
     "name": "stdout",
     "output_type": "stream",
     "text": [
      "+----------+---------+-------------------+---------+--------+--------------------+\n",
      "|      date|favorites|                 id|isRetweet|retweets|                text|\n",
      "+----------+---------+-------------------+---------+--------+--------------------+\n",
      "|2024-10-31|     8601| 113402928440845044|    false|    2282|\"I would like to ...|\n",
      "|2024-09-30|     8655| 113227141838155766|    false|    2516|\"I promised to Ma...|\n",
      "|2024-09-24|        0| 113193132142396661|     true|       0|\"RT @realtrumpcoi...|\n",
      "|2024-09-22|     7797| 113177878498911997|    false|    2029|\"https://justthen...|\n",
      "|2024-09-21|     7113| 113177676464453229|    false|    1909|\"“Trump Credits S...|\n",
      "|2024-09-21|    13066| 113175718594981285|    false|    3787|\"Good morning eve...|\n",
      "|2024-09-18|    12602| 113160641426571582|    false|    3551|“President Trump ...|\n",
      "|2024-09-12|     5400| 113125745300178317|    false|    1451|\"https://www.coin...|\n",
      "|2024-07-31|     9906| 112881568598723413|    false|    2533|\"Just spoke at th...|\n",
      "|2024-07-27|    14023| 112860544483726794|    false|    3484|THANK YOU, BITCOI...|\n",
      "|2024-07-27|        0| 112860519846071569|     true|       0|\"RT @realamericas...|\n",
      "|2024-07-27|        0| 112860519444352847|     true|       0|\"RT @realamericas...|\n",
      "|2024-07-27|    14968| 112859397412472625|    false|    3716|\"On my way to The...|\n",
      "|2024-06-12|    16232| 112601639679885930|    false|    4529|\"VOTE FOR TRUMP! ...|\n",
      "|2024-05-25|    10759| 112503319133425856|    false|    2976|I AM VERY POSITIV...|\n",
      "|2024-03-12|     2853| 112083374073064109|    false|     788|\"https://www.wash...|\n",
      "|2023-11-29|     8731| 111495117958907664|    false|    2407|ABC News: “He rep...|\n",
      "|2023-11-28|    14598| 111485181964161626|    false|    4196|Andrew C. McCarth...|\n",
      "|2023-02-22|    11560| 109905564385524713|    false|    2547|\"https://www.benz...|\n",
      "|2020-12-29|        0|1344029894242656261|     true|   10721|RT @washingtonpos...|\n",
      "+----------+---------+-------------------+---------+--------+--------------------+\n",
      "only showing top 20 rows\n",
      "\n"
     ]
    }
   ],
   "source": [
    "trump_df_std=trump_df\n",
    "trump_df_std.show()"
   ]
  },
  {
   "cell_type": "code",
   "execution_count": 15,
   "id": "55560ede-e965-4999-9a84-afb633718768",
   "metadata": {},
   "outputs": [
    {
     "name": "stderr",
     "output_type": "stream",
     "text": [
      "                                                                                \r"
     ]
    }
   ],
   "source": [
    "#saving btc data it in silver\n",
    "(trump_df_std.write\n",
    "            .format(\"delta\")\n",
    "            .mode(\"overwrite\")\n",
    "            .option(\"path\",f\"{hdfs_lakehouse_base_path}/silver/trump_btc/trump/\")\n",
    "            .saveAsTable(\"trump_btc.trump\")\n",
    ")\n"
   ]
  },
  {
   "cell_type": "code",
   "execution_count": null,
   "id": "b978b9cf-df03-4cbe-aacf-29940eaf3bec",
   "metadata": {},
   "outputs": [],
   "source": []
  }
 ],
 "metadata": {
  "kernelspec": {
   "display_name": "Python 3 (ipykernel)",
   "language": "python",
   "name": "python3"
  },
  "language_info": {
   "codemirror_mode": {
    "name": "ipython",
    "version": 3
   },
   "file_extension": ".py",
   "mimetype": "text/x-python",
   "name": "python",
   "nbconvert_exporter": "python",
   "pygments_lexer": "ipython3",
   "version": "3.11.2"
  }
 },
 "nbformat": 4,
 "nbformat_minor": 5
}
