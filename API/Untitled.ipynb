{
 "cells": [
  {
   "cell_type": "code",
   "execution_count": 15,
   "id": "6a295ca4-b080-4622-aa1e-04867620d199",
   "metadata": {},
   "outputs": [
    {
     "name": "stdout",
     "output_type": "stream",
     "text": [
      "✅ Flask API is running and accessible inside the VM!\n",
      "Response: {'date': '2024-09-21 15:13:37', 'favorites': 13066.0, 'id': 1.1317571859498128e+17, 'isRetweet': False, 'retweets': 3787.0, 'text': '\"Good morning everyone—I have something incredible to share today, as we are introducing the launch of our Official Trump Coins! The ONLY OFFICIAL coin designed by me—and proudly minted here in the U.S.A. The President Donald J. Trump First Edition Silver Medallion will be available starting Wednesday, 9/25/24, EXCLUSIVELY at\\xa0https://realtrumpcoins.com/. Sign up today! @realtrumpcoins\"'}\n"
     ]
    }
   ],
   "source": [
    "\n",
    "import requests\n",
    "\n",
    "# Define the Flask API URL inside the VM\n",
    "api_url = \"http://127.0.0.1:28881/random-tweet\"\n",
    "\n",
    "try:\n",
    "    response = requests.get(api_url, timeout=5)\n",
    "    if response.status_code == 200:\n",
    "        print(\"✅ Flask API is running and accessible inside the VM!\")\n",
    "        print(\"Response:\", response.json())\n",
    "    else:\n",
    "        print(f\"⚠️ Flask API returned status code: {response.status_code}\")\n",
    "except requests.exceptions.ConnectionError:\n",
    "    print(\"❌ Flask API is NOT accessible inside the VM (Connection refused).\")\n",
    "except requests.exceptions.Timeout:\n",
    "    print(\"❌ Flask API is NOT responding (Timeout).\")\n",
    "except Exception as e:\n",
    "    print(f\"❌ Error: {e}\")\n"
   ]
  },
  {
   "cell_type": "code",
   "execution_count": 4,
   "id": "785ecdcb-665e-4207-a359-c64f847b7087",
   "metadata": {},
   "outputs": [
    {
     "ename": "NameError",
     "evalue": "name 'delta' is not defined",
     "output_type": "error",
     "traceback": [
      "\u001b[0;31m---------------------------------------------------------------------------\u001b[0m",
      "\u001b[0;31mNameError\u001b[0m                                 Traceback (most recent call last)",
      "Cell \u001b[0;32mIn[4], line 1\u001b[0m\n\u001b[0;32m----> 1\u001b[0m \u001b[38;5;28mprint\u001b[39m(\u001b[43mdelta\u001b[49m\u001b[38;5;241m.\u001b[39m__version__)\n",
      "\u001b[0;31mNameError\u001b[0m: name 'delta' is not defined"
     ]
    }
   ],
   "source": [
    "\n"
   ]
  },
  {
   "cell_type": "code",
   "execution_count": null,
   "id": "f0c30040-5588-453f-b63d-28242e66dd36",
   "metadata": {},
   "outputs": [],
   "source": []
  }
 ],
 "metadata": {
  "kernelspec": {
   "display_name": "Python 3 (ipykernel)",
   "language": "python",
   "name": "python3"
  },
  "language_info": {
   "codemirror_mode": {
    "name": "ipython",
    "version": 3
   },
   "file_extension": ".py",
   "mimetype": "text/x-python",
   "name": "python",
   "nbconvert_exporter": "python",
   "pygments_lexer": "ipython3",
   "version": "3.11.2"
  }
 },
 "nbformat": 4,
 "nbformat_minor": 5
}
